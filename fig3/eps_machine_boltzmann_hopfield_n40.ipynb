{
 "cells": [
  {
   "cell_type": "code",
   "execution_count": 1,
   "metadata": {},
   "outputs": [],
   "source": [
    "import matplotlib.pyplot as plt\n",
    "import numpy as np\n",
    "import numpy.linalg as nplin\n",
    "import itertools"
   ]
  },
  {
   "cell_type": "code",
   "execution_count": 2,
   "metadata": {},
   "outputs": [],
   "source": [
    "np.random.seed(0)"
   ]
  },
  {
   "cell_type": "code",
   "execution_count": 3,
   "metadata": {},
   "outputs": [],
   "source": [
    "def operators(s):\n",
    "    #generate terms in the energy function\n",
    "    n_seq,n_var = s.shape\n",
    "    ops = np.zeros((n_seq,n_var+int(n_var*(n_var-1)/2.0)))\n",
    "\n",
    "    jindex = 0\n",
    "    for index in range(n_var):\n",
    "        ops[:,jindex] = s[:,index]\n",
    "        jindex +=1\n",
    "\n",
    "    for index in range(n_var-1):\n",
    "        for index1 in range(index+1,n_var):\n",
    "            ops[:,jindex] = s[:,index]*s[:,index1]\n",
    "            jindex +=1\n",
    "            \n",
    "    return ops"
   ]
  },
  {
   "cell_type": "code",
   "execution_count": 4,
   "metadata": {},
   "outputs": [],
   "source": [
    "def energy_ops(ops,w):\n",
    "    return np.sum(ops*w[np.newaxis,:],axis=1)"
   ]
  },
  {
   "cell_type": "code",
   "execution_count": 5,
   "metadata": {},
   "outputs": [],
   "source": [
    "def generate_seqs(n_var,n_seq,n_sample=30,g=1.0):\n",
    "    samples = np.random.choice([1.0,-1.0],size=(n_seq*n_sample,n_var),replace=True)\n",
    "    ops = operators(samples)\n",
    "    n_ops = ops.shape[1]\n",
    "\n",
    "    w_true = g*(np.random.rand(ops.shape[1])-0.5)/np.sqrt(float(n_var))\n",
    "    #w_true = np.random.normal(0.,g/np.sqrt(n_var),size=n_ops)\n",
    "\n",
    "    sample_energy = energy_ops(ops,w_true)\n",
    "    p = np.exp(sample_energy)\n",
    "    p /= np.sum(p)\n",
    "    out_samples = np.random.choice(np.arange(n_seq*n_sample),size=n_seq,replace=True,p=p)\n",
    "    \n",
    "    return w_true,samples[out_samples] #,p[out_samples],sample_energy[out_samples]"
   ]
  },
  {
   "cell_type": "code",
   "execution_count": 6,
   "metadata": {},
   "outputs": [],
   "source": [
    "def eps_machine(s,eps_scale=0.1,max_iter=151,alpha=0.1):\n",
    "    MSE = np.zeros(max_iter)\n",
    "    KL = np.zeros(max_iter)\n",
    "    E_av = np.zeros(max_iter)\n",
    "    \n",
    "    n_seq,n_var = s.shape\n",
    "    ops = operators(s)\n",
    "    n_ops = ops.shape[1]\n",
    "    cov_inv = np.eye(ops.shape[1])\n",
    "\n",
    "    np.random.seed(13)\n",
    "    w = np.random.rand(n_ops)-0.5    \n",
    "    \n",
    "    w_iter = np.zeros((max_iter,n_ops))\n",
    "    for i in range(max_iter): \n",
    "        \n",
    "        eps_scale = np.random.rand()/np.max([1.,np.max(np.abs(w))])\n",
    "        \n",
    "        energies_w = energy_ops(ops,w)\n",
    "        probs_w = np.exp(-energies_w*(1-eps_scale))\n",
    "        z_data = np.sum(probs_w)\n",
    "        probs_w /= z_data\n",
    "        ops_expect_w = np.sum(probs_w[:,np.newaxis]*ops,axis=0)\n",
    "        \n",
    "        #if iterate%int(max_iter/5.0)==0:\n",
    "        E_exp = (probs_w*energies_w).sum()\n",
    "        KL[i] = -E_exp - np.log(z_data) + np.sum(np.log(np.cosh(w*eps_scale))) + n_var*np.log(2.)\n",
    "        \n",
    "        E_av[i] = energies_w.mean()\n",
    "        MSE[i] = ((w-w_true)**2).mean()\n",
    "        #print(RMSE[i])\n",
    "        #print(eps_scale,iterate,nplin.norm(w-w_true),RMSE,KL,E_av)\n",
    "        sec_order = w*eps_scale\n",
    "        w += alpha*cov_inv.dot((ops_expect_w - sec_order))        \n",
    "        #print('final ',eps_scale,iterate,nplin.norm(w-w_true))    \n",
    "        w_iter[i,:] = w\n",
    "        \n",
    "    return MSE,KL,E_av,w_iter"
   ]
  },
  {
   "cell_type": "code",
   "execution_count": 7,
   "metadata": {},
   "outputs": [],
   "source": [
    "def hopfield_model(s):\n",
    "    ops = operators(s)\n",
    "    w = np.mean(ops,axis=0)\n",
    "    #print('hopfield error ',nplin.norm(w-w_true))\n",
    "    return w"
   ]
  },
  {
   "cell_type": "code",
   "execution_count": 8,
   "metadata": {},
   "outputs": [],
   "source": [
    "def boltzmann_machine_exact(s,s_all,max_iter=150,alpha=5e-2,cov=False):\n",
    "    n_seq,n_var = s.shape\n",
    "    ops = operators(s)\n",
    "    cov_inv = np.eye(ops.shape[1])\n",
    "    ops_obs = np.mean(ops,axis=0)\n",
    "    ops_model = operators(s_all)\n",
    "\n",
    "    n_ops = ops.shape[1]\n",
    "    \n",
    "    np.random.seed(13)\n",
    "    w = np.random.rand(n_ops)-0.5    \n",
    "    for iterate in range(max_iter):\n",
    "        energies_w = energy_ops(ops_model,w)\n",
    "        probs_w = np.exp(energies_w)\n",
    "        probs_w /= np.sum(probs_w)\n",
    "        if iterate%10 == 0: \n",
    "            #print(iterate,nplin.norm(w-w_true)) #,nplin.norm(spin_cov_w-spin_cov_obs))\n",
    "            MSE = ((w-w_true)**2).mean()\n",
    "            print(iterate,MSE)\n",
    "            \n",
    "        w += alpha*cov_inv.dot(ops_obs - np.sum(ops_model*probs_w[:,np.newaxis],axis=0))\n",
    "\n",
    "    print('final',iterate,MSE)\n",
    "\n",
    "    return w"
   ]
  },
  {
   "cell_type": "code",
   "execution_count": 9,
   "metadata": {},
   "outputs": [],
   "source": [
    "max_iter = 151\n",
    "\n",
    "n_var,n_seq = 40,10000\n",
    "g = 2.\n",
    "\n",
    "w_true,seqs = generate_seqs(n_var,n_seq,g=g)\n",
    "#s_all = np.asarray(list(itertools.product([1.0, -1.0], repeat=n_var)))\n",
    "#s_all.shape"
   ]
  },
  {
   "cell_type": "code",
   "execution_count": 10,
   "metadata": {},
   "outputs": [
    {
     "name": "stdout",
     "output_type": "stream",
     "text": [
      "Hopfield:\n",
      "0.004088279005593593\n"
     ]
    }
   ],
   "source": [
    "print('Hopfield:')\n",
    "w1 = hopfield_model(seqs)\n",
    "\n",
    "print(((w1-w_true)**2).mean())"
   ]
  },
  {
   "cell_type": "code",
   "execution_count": 11,
   "metadata": {},
   "outputs": [],
   "source": [
    "#print('Boltzmann (exact):')\n",
    "#w2 = boltzmann_machine_exact(seqs,s_all,cov=False)"
   ]
  },
  {
   "cell_type": "code",
   "execution_count": 12,
   "metadata": {},
   "outputs": [],
   "source": [
    "MSE,KL,E_av,w = eps_machine(seqs,eps_scale=0.1,max_iter=max_iter)"
   ]
  },
  {
   "cell_type": "code",
   "execution_count": 13,
   "metadata": {},
   "outputs": [
    {
     "data": {
      "text/plain": [
       "[<matplotlib.lines.Line2D at 0x7fe5f58af8d0>]"
      ]
     },
     "execution_count": 13,
     "metadata": {},
     "output_type": "execute_result"
    },
    {
     "data": {
      "image/png": "[encoded data removed]",
      "text/plain": [
       "<Figure size 432x288 with 1 Axes>"
      ]
     },
     "metadata": {
      "needs_background": "light"
     },
     "output_type": "display_data"
    }
   ],
   "source": [
    "plt.plot(MSE)"
   ]
  },
  {
   "cell_type": "code",
   "execution_count": 14,
   "metadata": {},
   "outputs": [
    {
     "data": {
      "text/plain": [
       "0.0006608349660732135"
      ]
     },
     "execution_count": 14,
     "metadata": {},
     "output_type": "execute_result"
    }
   ],
   "source": [
    "MSEmin = min(MSE)\n",
    "MSEmin"
   ]
  },
  {
   "cell_type": "code",
   "execution_count": 17,
   "metadata": {},
   "outputs": [
    {
     "data": {
      "text/plain": [
       "[<matplotlib.lines.Line2D at 0x7fe5f5697240>]"
      ]
     },
     "execution_count": 17,
     "metadata": {},
     "output_type": "execute_result"
    },
    {
     "data": {
      "image/png": "[encoded data removed]",
      "text/plain": [
       "<Figure size 432x288 with 1 Axes>"
      ]
     },
     "metadata": {
      "needs_background": "light"
     },
     "output_type": "display_data"
    }
   ],
   "source": [
    "plt.plot([-0.2,0.2],[-0.2,0.2])\n",
    "plt.plot(w_true,w1,'ko')\n",
    "plt.plot(w_true,w[-1],'ro')"
   ]
  },
  {
   "cell_type": "code",
   "execution_count": null,
   "metadata": {},
   "outputs": [],
   "source": [
    "#np.savetxt('w.txt',w[-1,:],fmt='%f')\n",
    "#np.savetxt('w_true.txt',w_true,fmt='%f')"
   ]
  }
 ],
 "metadata": {
  "kernelspec": {
   "display_name": "Python 3",
   "language": "python",
   "name": "python3"
  },
  "language_info": {
   "codemirror_mode": {
    "name": "ipython",
    "version": 3
   },
   "file_extension": ".py",
   "mimetype": "text/x-python",
   "name": "python",
   "nbconvert_exporter": "python",
   "pygments_lexer": "ipython3",
   "version": "3.7.3"
  }
 },
 "nbformat": 4,
 "nbformat_minor": 2
}
