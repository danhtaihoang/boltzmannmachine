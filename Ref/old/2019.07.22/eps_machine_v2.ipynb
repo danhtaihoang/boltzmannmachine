{
 "cells": [
  {
   "cell_type": "code",
   "execution_count": 1,
   "metadata": {},
   "outputs": [],
   "source": [
    "import matplotlib.pyplot as plt\n",
    "import numpy as np\n",
    "import numpy.linalg as nplin\n",
    "import itertools"
   ]
  },
  {
   "cell_type": "code",
   "execution_count": 2,
   "metadata": {},
   "outputs": [],
   "source": [
    "def operators(s):\n",
    "    #generate terms in the energy function\n",
    "    n_seq,n_var = s.shape\n",
    "    ops = np.zeros((n_seq,n_var+int(n_var*(n_var-1)/2.0)))\n",
    "\n",
    "    jindex = 0\n",
    "    for index in range(n_var):\n",
    "        ops[:,jindex] = s[:,index]\n",
    "        jindex +=1\n",
    "\n",
    "    for index in range(n_var-1):\n",
    "        for index1 in range(index+1,n_var):\n",
    "            ops[:,jindex] = s[:,index]*s[:,index1]\n",
    "            jindex +=1\n",
    "            \n",
    "    return ops"
   ]
  },
  {
   "cell_type": "code",
   "execution_count": 3,
   "metadata": {},
   "outputs": [],
   "source": [
    "def energy_ops(ops,w):\n",
    "    return np.sum(ops*w[np.newaxis,:],axis=1)"
   ]
  },
  {
   "cell_type": "code",
   "execution_count": 4,
   "metadata": {},
   "outputs": [],
   "source": [
    "def generate_seqs(n_var,n_seq,n_sample=30,large=False,num_large=4):\n",
    "    samples = np.random.choice([1.0,-1.0],size=(n_seq*n_sample,n_var),replace=True)\n",
    "    ops = operators(samples)\n",
    "    n_ops = ops.shape[1]\n",
    "    w_true = (np.random.rand(ops.shape[1])-0.5)/np.sqrt(float(n_var))\n",
    "\n",
    "    #putting in some large couplings\n",
    "    if large and num_large>0: \n",
    "        indices_large = np.random.choice(range(n_var,n_ops),size=num_large,replace=False)\n",
    "        for l_index in range(num_large):\n",
    "            w_true[indices_large[l_index]] *= 10.0\n",
    "\n",
    "    sample_energy = energy_ops(ops,w_true)\n",
    "    p = np.exp(sample_energy)\n",
    "    p /= np.sum(p)\n",
    "    out_samples = np.random.choice(np.arange(n_seq*n_sample),size=n_seq,replace=True,p=p)\n",
    "    \n",
    "    return w_true,samples[out_samples] #,p[out_samples],sample_energy[out_samples]"
   ]
  },
  {
   "cell_type": "code",
   "execution_count": 5,
   "metadata": {},
   "outputs": [],
   "source": [
    "def hopfield_model(s):\n",
    "    ops = operators(s)\n",
    "    w = np.mean(ops,axis=0)\n",
    "    print('hopfield error ',nplin.norm(w-w_true))    \n",
    "    return w"
   ]
  },
  {
   "cell_type": "code",
   "execution_count": 6,
   "metadata": {},
   "outputs": [],
   "source": [
    "def boltzmann_machine_sample(s,max_iter=151,n_partition=1,alpha=5e-2):\n",
    "    n_seq,n_var = s.shape\n",
    "    ops = operators(s)\n",
    "    cov_inv = np.eye(ops.shape[1])\n",
    "\n",
    "    ops_obs = np.mean(ops,axis=0)\n",
    "    samples_part = np.random.choice([1.0,-1.0],size=(n_seq*n_partition,n_var),replace=True)\n",
    "    ops_model = operators(samples_part)\n",
    "\n",
    "    np.random.seed(13)\n",
    "    w = np.random.rand(n_var+int(n_var*(n_var-1)/2.0))-0.5\n",
    "    for iterate in range(max_iter):\n",
    "        energies_w = energy_ops(ops_model,w)\n",
    "        probs_w = np.exp(energies_w)\n",
    "        probs_w /= np.sum(probs_w)\n",
    "        if iterate%int(max_iter/5.0)==0: \n",
    "            print(iterate,nplin.norm(w-w_true)) #,nplin.norm(spin_cov_w-spin_cov_obs))\n",
    "        w += alpha*cov_inv.dot(ops_obs - np.sum(ops_model*probs_w[:,np.newaxis],axis=0))\n",
    "    print('final ',iterate,nplin.norm(w-w_true))\n",
    "    \n",
    "    return w"
   ]
  },
  {
   "cell_type": "code",
   "execution_count": 7,
   "metadata": {},
   "outputs": [],
   "source": [
    "def eps_machine(s,eps_scale=.01,max_iter=151,alpha=0.1):\n",
    "    n_seq,n_var = s.shape\n",
    "    ops = operators(s)\n",
    "    n_ops = ops.shape[1]\n",
    "    cov_inv = np.eye(ops.shape[1])\n",
    "\n",
    "    np.random.seed(13)\n",
    "    w = np.random.rand(n_var+int(n_var*(n_var-1)/2.0))-0.5\n",
    "    for iterate in range(max_iter):        \n",
    "        energies_w = energy_ops(ops,w)\n",
    "        probs_w = np.exp(-energies_w*(1-eps_scale))\n",
    "        z_data = np.sum(probs_w)\n",
    "        probs_w /= z_data\n",
    "        ops_expect_w = np.sum(probs_w[:,np.newaxis]*ops,axis=0)\n",
    "        \n",
    "        #print(energies_w.shape,probs_w.shape)\n",
    "        if iterate%int(max_iter/5.0)==0:\n",
    "            E_exp = (probs_w*energies_w).sum()\n",
    "            KL = -E_exp - np.log(z_data) + np.sum(np.log(np.cosh(w*eps_scale)))\n",
    "            E_avg = energies_w.mean()\n",
    "            #print(E_exp)\n",
    "            print(eps_scale,iterate,nplin.norm(w-w_true),KL,E_avg)\n",
    "\n",
    "        sec_order = w*eps_scale\n",
    "        w += alpha*cov_inv.dot((ops_expect_w - sec_order))\n",
    "        \n",
    "    print('final ',eps_scale,iterate,nplin.norm(w-w_true))\n",
    "    \n",
    "    return w"
   ]
  },
  {
   "cell_type": "code",
   "execution_count": 8,
   "metadata": {},
   "outputs": [],
   "source": [
    "n_var,n_seq = 25,1000\n",
    "np.random.seed(0)\n",
    "w_true,seqs = generate_seqs(n_var,n_seq)"
   ]
  },
  {
   "cell_type": "code",
   "execution_count": 9,
   "metadata": {},
   "outputs": [
    {
     "name": "stdout",
     "output_type": "stream",
     "text": [
      "n_seq: 1000\n",
      "Hopfield\n",
      "hopfield error  0.6692417581557204\n",
      "Boltzmann (sample)\n",
      "0 5.547309331849529\n",
      "30 3.4173579426367597\n",
      "60 2.8689169076066907\n",
      "90 2.9338359818276483\n",
      "120 3.2597350183603004\n",
      "150 3.6832285068263473\n",
      "final  150 3.698151103635029\n",
      "eps: 0.2\n",
      "0.2 0 5.547309331849529 0.2896839604512984 0.3414675704716502\n",
      "0.2 30 1.4932953461580023 -6.391327206380627 1.8871333812904003\n",
      "0.2 60 1.2713442019430676 -6.519926127168697 2.229839227165193\n",
      "0.2 90 1.3745232668207155 -6.501750857882724 2.3467724199374977\n",
      "0.2 120 1.4292628206908569 -6.4917016399731615 2.3931897449101744\n",
      "0.2 150 1.453327552443971 -6.487413190902353 2.412278012693846\n",
      "final  0.2 150 1.4538308478850868\n",
      "eps: 0.3\n",
      "0.3 0 5.547309331849529 1.631168979678242 0.3414675704716502\n",
      "0.3 30 1.1752093847205736 -6.609158464117341 1.7702273848406826\n",
      "0.3 60 1.0215932141625452 -6.7009200261000785 2.0122984941064974\n",
      "0.3 90 1.0740371443518903 -6.691316322085219 2.0707306634839915\n",
      "0.3 120 1.0928510743753999 -6.6878272730453325 2.0867499399607206\n",
      "0.3 150 1.098576869375438 -6.686816215107127 2.0913193154801304\n",
      "final  0.3 150 1.0986733178278072\n",
      "eps: 0.6\n",
      "0.6 0 5.547309331849529 5.425667016430382 0.3414675704716502\n",
      "0.6 30 0.7490694326847116 -7.091103565360587 1.624034411003179\n",
      "0.6 60 0.6876388534512821 -7.1281105623176435 1.7288768296632175\n",
      "0.6 90 0.6941429834826289 -7.126921658954692 1.7390976514964442\n",
      "0.6 120 0.6950375480708798 -7.1267712948364945 1.7402040061344628\n",
      "0.6 150 0.6951470117253202 -7.1267552185737 1.740330348666722\n",
      "final  0.6 150 0.6951480450698923\n",
      "eps: 0.8\n",
      "0.8 0 5.547309331849529 6.847067955839145 0.3414675704716502\n",
      "0.8 30 0.6670626194645853 -7.3833384788417495 1.623005293552792\n",
      "0.8 60 0.6220558446752705 -7.410125835864681 1.6910165280610756\n",
      "0.8 90 0.6232407647919125 -7.409870546861646 1.6950007786325096\n",
      "0.8 120 0.6233411998364314 -7.4098515210740565 1.695251419900425\n",
      "0.8 150 0.6233484411407006 -7.409850399580372 1.6952678945655228\n",
      "final  0.8 150 0.6233484882061274\n",
      "eps: 0.9\n",
      "0.9 0 5.547309331849529 7.125658139513725 0.3414675704716502\n",
      "0.9 30 0.6663237287995966 -7.552077335330565 1.649083982870407\n",
      "0.9 60 0.6267735887230521 -7.577472291441208 1.708507958035872\n",
      "0.9 90 0.6271698427837638 -7.577375474666906 1.7113234560256299\n",
      "0.9 120 0.6271978130916994 -7.577368795687628 1.7114614590183264\n",
      "0.9 150 0.6271993708511787 -7.577368496078039 1.7114684037423558\n",
      "final  0.9 150 0.6271993792299873\n",
      "eps: 1.0\n",
      "1.0 0 5.547309331849529 7.143611384923307 0.3414675704716502\n",
      "1.0 30 0.7021426344449899 -7.763428038695211 1.7025480720181674\n",
      "1.0 60 0.6690054038544324 -7.790922985556668 1.7602458509845365\n",
      "1.0 90 0.6692287479016248 -7.790981772767437 1.7626917266648283\n",
      "1.0 120 0.6692412012634407 -7.790982276705514 1.7627954101679129\n",
      "1.0 150 0.6692417345387579 -7.790982294495426 1.7627998054317027\n",
      "final  1.0 150 0.6692417369004158\n"
     ]
    }
   ],
   "source": [
    "eps_list = [0.2,0.3,0.6,0.8,0.9,1.]\n",
    "#eps_list = [0.6]\n",
    "#for n_part in range(2000,20001,20000):\n",
    "\n",
    "n_part = 1000\n",
    "print('n_seq:',n_part)\n",
    "\n",
    "print('Hopfield')\n",
    "w_hopfield=hopfield_model(seqs[:n_part])\n",
    "\n",
    "print('Boltzmann (sample)')\n",
    "w1 = boltzmann_machine_sample(seqs[:n_part])\n",
    "\n",
    "for eps in eps_list:     \n",
    "    print('eps:',eps)\n",
    "    w2 = eps_machine(seqs[:n_part],eps_scale=eps)"
   ]
  },
  {
   "cell_type": "code",
   "execution_count": 10,
   "metadata": {},
   "outputs": [
    {
     "data": {
      "image/png": "[encoded data removed]",
      "text/plain": [
       "<Figure size 756x216 with 3 Axes>"
      ]
     },
     "metadata": {
      "needs_background": "light"
     },
     "output_type": "display_data"
    }
   ],
   "source": [
    "#n_eps = len(eps_list)\n",
    "nx,ny = 3,1\n",
    "fig, ax = plt.subplots(ny,nx,figsize=(nx*3.5,ny*3))\n",
    "\n",
    "lims = [np.min([w_true, w2]), np.max([w_true, w2])]\n",
    "#for i,eps in enumerate(eps_list):\n",
    "#ax[0].set_title('eps=%s'%eps)\n",
    "\n",
    "ax[0].set_title('Hopfield')\n",
    "ax[0].scatter(w_true,w_hopfield)\n",
    "\n",
    "ax[1].set_title('Boltzmann')\n",
    "ax[1].scatter(w_true,w1)\n",
    "\n",
    "ax[2].set_title('eps machine')\n",
    "ax[2].scatter(w_true,w2)\n",
    "\n",
    "for i in range(nx):\n",
    "    ax[i].plot(lims,lims,'r--', alpha=0.75, zorder=0)\n",
    "\n",
    "plt.tight_layout(h_pad=1, w_pad=1.5)\n",
    "#plt.savefig('fig23.pdf', format='pdf', dpi=100)\n",
    "\n",
    "#fig, ax = plt.subplots()    \n",
    "#lims = [np.min([w_true, w_trial1]), np.max([w_true, w_trial1])]\n",
    "#ax.scatter(w_true,w_hopfield,label='Hopfield', alpha=0.4)\n",
    "#ax.scatter(w_true,w_trial1,label='BM_sample',alpha=0.4)\n",
    "#ax.scatter(w_true,w_trial3,label='eps',alpha=0.4)\n",
    "#ax.plot(lims, lims, 'k-', alpha=0.75, zorder=0)\n",
    "#ax.legend()\n",
    "#plt.show()"
   ]
  },
  {
   "cell_type": "code",
   "execution_count": null,
   "metadata": {},
   "outputs": [],
   "source": []
  }
 ],
 "metadata": {
  "kernelspec": {
   "display_name": "Python 3",
   "language": "python",
   "name": "python3"
  },
  "language_info": {
   "codemirror_mode": {
    "name": "ipython",
    "version": 3
   },
   "file_extension": ".py",
   "mimetype": "text/x-python",
   "name": "python",
   "nbconvert_exporter": "python",
   "pygments_lexer": "ipython3",
   "version": "3.7.3"
  }
 },
 "nbformat": 4,
 "nbformat_minor": 2
}
