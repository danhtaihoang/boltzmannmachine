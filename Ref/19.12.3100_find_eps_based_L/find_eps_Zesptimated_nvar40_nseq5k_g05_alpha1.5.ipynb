{
 "cells": [
  {
   "cell_type": "code",
   "execution_count": 1,
   "metadata": {
    "colab": {},
    "colab_type": "code",
    "id": "g5vKJ3_zuOn5"
   },
   "outputs": [],
   "source": [
    "import matplotlib.pyplot as plt\n",
    "import numpy as np\n",
    "import numpy.linalg as nplin\n",
    "import itertools\n",
    "#from coniii import *\n",
    "from sklearn.linear_model import LinearRegression"
   ]
  },
  {
   "cell_type": "code",
   "execution_count": 2,
   "metadata": {
    "colab": {},
    "colab_type": "code",
    "id": "E9rJ58zEuOn7"
   },
   "outputs": [],
   "source": [
    "np.random.seed(0)"
   ]
  },
  {
   "cell_type": "code",
   "execution_count": 3,
   "metadata": {
    "colab": {},
    "colab_type": "code",
    "id": "IqacAI8puOn9"
   },
   "outputs": [],
   "source": [
    "def operators(s):\n",
    "    #generate terms in the energy function\n",
    "    n_seq,n_var = s.shape\n",
    "    ops = np.zeros((n_seq,n_var+int(n_var*(n_var-1)/2.0)))\n",
    "\n",
    "    jindex = 0\n",
    "    for index in range(n_var):\n",
    "        ops[:,jindex] = s[:,index]\n",
    "        jindex +=1\n",
    "\n",
    "    for index in range(n_var-1):\n",
    "        for index1 in range(index+1,n_var):\n",
    "            ops[:,jindex] = s[:,index]*s[:,index1]\n",
    "            jindex +=1\n",
    "            \n",
    "    return ops"
   ]
  },
  {
   "cell_type": "code",
   "execution_count": 4,
   "metadata": {
    "colab": {},
    "colab_type": "code",
    "id": "60qp9C3xuOn-"
   },
   "outputs": [],
   "source": [
    "def energy_ops(ops,w):\n",
    "    return np.sum(ops*w[np.newaxis,:],axis=1)"
   ]
  },
  {
   "cell_type": "code",
   "execution_count": 5,
   "metadata": {
    "colab": {},
    "colab_type": "code",
    "id": "joC9--aLuOn_"
   },
   "outputs": [],
   "source": [
    "def generate_seqs(n_var,n_seq,n_sample=30,g=1.0,w_true1=0.0):\n",
    "    n_ops = n_var+int(n_var*(n_var-1)/2.0)\n",
    "    #w_true = g*(np.random.rand(ops.shape[1])-0.5)/np.sqrt(float(n_var))\n",
    "    if np.isscalar(w_true1):\n",
    "      w_true = np.random.normal(0.,g/np.sqrt(n_var),size=n_ops)\n",
    "    else:\n",
    "      w_true = w_true1   \n",
    "    samples = np.random.choice([1.0,-1.0],size=(n_seq*n_sample,n_var),replace=True)\n",
    "    ops = operators(samples)\n",
    "    #n_ops = ops.shape[1]\n",
    "\n",
    "    sample_energy = energy_ops(ops,w_true)\n",
    "    p = np.exp(sample_energy)\n",
    "    p /= np.sum(p)\n",
    "    out_samples = np.random.choice(np.arange(n_seq*n_sample),size=n_seq,replace=True,p=p)\n",
    "    \n",
    "    return w_true,samples[out_samples] #,p[out_samples],sample_energy[out_samples]"
   ]
  },
  {
   "cell_type": "code",
   "execution_count": 6,
   "metadata": {
    "colab": {},
    "colab_type": "code",
    "id": "rXzrTKSGuOoA"
   },
   "outputs": [],
   "source": [
    "def hopfield_model(s):\n",
    "    ops = operators(s)\n",
    "    w = np.mean(ops,axis=0)\n",
    "    #print('hopfield error ',nplin.norm(w-w_true))\n",
    "    return w"
   ]
  },
  {
   "cell_type": "code",
   "execution_count": 7,
   "metadata": {
    "colab": {},
    "colab_type": "code",
    "id": "lxdYgsK5uOoC"
   },
   "outputs": [],
   "source": [
    "def boltzmann_machine_exact(s,s_all,max_iter=150,alpha=5e-2,cov=False):\n",
    "    n_seq,n_var = s.shape\n",
    "    ops = operators(s)\n",
    "    cov_inv = np.eye(ops.shape[1])\n",
    "    ops_obs = np.mean(ops,axis=0)\n",
    "    ops_model = operators(s_all)\n",
    "\n",
    "    n_ops = ops.shape[1]\n",
    "    \n",
    "    np.random.seed(13)\n",
    "    w = np.random.rand(n_ops)-0.5    \n",
    "    for iterate in range(max_iter):\n",
    "        energies_w = energy_ops(ops_model,w)\n",
    "        probs_w = np.exp(energies_w)\n",
    "        probs_w /= np.sum(probs_w)\n",
    "        if iterate%10 == 0: \n",
    "            #print(iterate,nplin.norm(w-w_true)) #,nplin.norm(spin_cov_w-spin_cov_obs))\n",
    "            MSE = ((w-w_true)**2).mean()\n",
    "            print(iterate,MSE)\n",
    "            \n",
    "        w += alpha*cov_inv.dot(ops_obs - np.sum(ops_model*probs_w[:,np.newaxis],axis=0))\n",
    "\n",
    "    print('final',iterate,MSE)\n",
    "\n",
    "    return w"
   ]
  },
  {
   "cell_type": "code",
   "execution_count": 8,
   "metadata": {
    "colab": {},
    "colab_type": "code",
    "id": "9IYwBqFiuOoD"
   },
   "outputs": [],
   "source": [
    "def eps_machine(s,eps_scale=0.1,max_iter=151,alpha=0.1):\n",
    "    MSE = np.zeros(max_iter)\n",
    "    KL = np.zeros(max_iter)\n",
    "    E_av = np.zeros(max_iter)\n",
    "    \n",
    "    n_seq,n_var = s.shape\n",
    "    ops = operators(s)\n",
    "    n_ops = ops.shape[1]\n",
    "    cov_inv = np.eye(ops.shape[1])\n",
    "\n",
    "    np.random.seed(13)\n",
    "    w = np.random.rand(n_ops)-0.5    \n",
    "    \n",
    "    w_iter = np.zeros((max_iter,n_ops))\n",
    "    for i in range(max_iter):         \n",
    "        #eps_scale = np.random.rand()/np.max([1.,np.max(np.abs(w))])\n",
    "        \n",
    "        energies_w = energy_ops(ops,w)\n",
    "        probs_w = np.exp(energies_w*(eps_scale-1))\n",
    "        z_data = np.sum(probs_w)\n",
    "        probs_w /= z_data\n",
    "        ops_expect_w = np.sum(probs_w[:,np.newaxis]*ops,axis=0)\n",
    "        \n",
    "        #if iterate%int(max_iter/5.0)==0:\n",
    "        #E_exp = (probs_w*energies_w).sum()\n",
    "        #KL[i] = -E_exp - np.log(z_data) + np.sum(np.log(np.cosh(w*eps_scale))) + n_var*np.log(2.)\n",
    "        \n",
    "        E_av[i] = energies_w.mean()\n",
    "        MSE[i] = ((w-w_true)**2).mean()\n",
    "        #print(RMSE[i])\n",
    "        #print(eps_scale,iterate,nplin.norm(w-w_true),RMSE,KL,E_av)\n",
    "        sec_order = w*eps_scale\n",
    "        w += alpha*cov_inv.dot((ops_expect_w - sec_order))        \n",
    "        #print('final ',eps_scale,iterate,nplin.norm(w-w_true))    \n",
    "        #w_iter[i,:] = w\n",
    "        \n",
    "    return MSE,-E_av,w"
   ]
  },
  {
   "cell_type": "code",
   "execution_count": 9,
   "metadata": {
    "colab": {
     "base_uri": "https://localhost:8080/",
     "height": 170
    },
    "colab_type": "code",
    "executionInfo": {
     "elapsed": 49794,
     "status": "ok",
     "timestamp": 1577731732504,
     "user": {
      "displayName": "Vipul Periwal",
      "photoUrl": "",
      "userId": "05204892068781355987"
     },
     "user_tz": 300
    },
    "id": "ker223_duOoE",
    "outputId": "61dbe596-7ac6-4f38-fc3f-bdf4cede2676",
    "scrolled": true
   },
   "outputs": [
    {
     "name": "stdout",
     "output_type": "stream",
     "text": [
      "0.5\n",
      "0.55\n",
      "0.6\n",
      "0.65\n",
      "0.7000000000000001\n",
      "0.75\n",
      "0.8\n"
     ]
    }
   ],
   "source": [
    "max_iter = 100\n",
    "\n",
    "n_var,n_seq = 40,5000\n",
    "g = 0.5\n",
    "\n",
    "n_ops = n_var+int(n_var*(n_var-1)/2.0)\n",
    "\n",
    "w_true,seqs = generate_seqs(n_var,n_seq,g=g)\n",
    "#VP modification\n",
    "w_true1,seqs_test = generate_seqs(n_var,n_seq,g=g,w_true1=w_true)\n",
    "#eps_list = [0.25,0.3,0.35,0.4,0.45,0.5]\n",
    "#eps_list = [0.36,0.37,0.38,0.39,0.40,0.41,0.42,0.43,0.44]\n",
    "eps_list = np.linspace(0.5,0.8,7)\n",
    "n_eps = len(eps_list)\n",
    "MSE = np.zeros((n_eps,max_iter))\n",
    "KL = np.zeros((n_eps,max_iter))\n",
    "E_av = np.zeros((n_eps,max_iter))\n",
    "w_eps = np.zeros((n_eps,n_ops))\n",
    "for i,eps in enumerate(eps_list):\n",
    "    print(eps)\n",
    "    MSE[i,:],E_av[i,:],w_eps[i,:] = eps_machine(seqs,eps_scale=eps,max_iter=max_iter)"
   ]
  },
  {
   "cell_type": "code",
   "execution_count": 10,
   "metadata": {
    "colab": {
     "base_uri": "https://localhost:8080/",
     "height": 282
    },
    "colab_type": "code",
    "executionInfo": {
     "elapsed": 49784,
     "status": "ok",
     "timestamp": 1577731732505,
     "user": {
      "displayName": "Vipul Periwal",
      "photoUrl": "",
      "userId": "05204892068781355987"
     },
     "user_tz": 300
    },
    "id": "hW2CRl6VuOoG",
    "outputId": "cac4046f-14c3-415d-c7c4-88905f0e21c7"
   },
   "outputs": [
    {
     "data": {
      "text/plain": [
       "[<matplotlib.lines.Line2D at 0x7f39fa45b2e8>]"
      ]
     },
     "execution_count": 10,
     "metadata": {},
     "output_type": "execute_result"
    },
    {
     "data": {
      "image/png": "[encoded data removed]",
      "text/plain": [
       "<Figure size 432x288 with 1 Axes>"
      ]
     },
     "metadata": {
      "needs_background": "light"
     },
     "output_type": "display_data"
    }
   ],
   "source": [
    "plt.plot(eps_list,E_av[:,-1],'ko-')"
   ]
  },
  {
   "cell_type": "code",
   "execution_count": 11,
   "metadata": {
    "colab": {
     "base_uri": "https://localhost:8080/",
     "height": 34
    },
    "colab_type": "code",
    "executionInfo": {
     "elapsed": 49770,
     "status": "ok",
     "timestamp": 1577731732506,
     "user": {
      "displayName": "Vipul Periwal",
      "photoUrl": "",
      "userId": "05204892068781355987"
     },
     "user_tz": 300
    },
    "id": "kkTjMbx4uOoI",
    "outputId": "e4549ae4-cab7-4eb0-d03a-017f0037ea55"
   },
   "outputs": [
    {
     "name": "stdout",
     "output_type": "stream",
     "text": [
      "optimal eps: 3 0.65\n"
     ]
    }
   ],
   "source": [
    "# optimal eps\n",
    "ieps = np.argmax(E_av[:,-1])\n",
    "print('optimal eps:',ieps,eps_list[ieps])\n",
    "\n",
    "w = w_eps[ieps]"
   ]
  },
  {
   "cell_type": "code",
   "execution_count": 12,
   "metadata": {
    "colab": {
     "base_uri": "https://localhost:8080/",
     "height": 282
    },
    "colab_type": "code",
    "executionInfo": {
     "elapsed": 49757,
     "status": "ok",
     "timestamp": 1577731732507,
     "user": {
      "displayName": "Vipul Periwal",
      "photoUrl": "",
      "userId": "05204892068781355987"
     },
     "user_tz": 300
    },
    "id": "THIwYsCAuOoJ",
    "outputId": "be89762f-f088-408e-f648-f4bc2ac6c1b3",
    "scrolled": false
   },
   "outputs": [],
   "source": [
    "#plt.plot(w_true,w,'ro')\n",
    "#plt.plot(w_true,w_true1,'ko',alpha=0.1)\n",
    "#plt.plot([-0.6,0.6],[-0.6,0.6])"
   ]
  },
  {
   "cell_type": "code",
   "execution_count": 13,
   "metadata": {
    "colab": {
     "base_uri": "https://localhost:8080/",
     "height": 34
    },
    "colab_type": "code",
    "executionInfo": {
     "elapsed": 62216,
     "status": "ok",
     "timestamp": 1577731744980,
     "user": {
      "displayName": "Vipul Periwal",
      "photoUrl": "",
      "userId": "05204892068781355987"
     },
     "user_tz": 300
    },
    "id": "fAWvmT8KuOoL",
    "outputId": "53549104-d7c0-4773-cca8-9bbbf169f826"
   },
   "outputs": [],
   "source": [
    "# Z_all_true\n",
    "#s_all = np.asarray(list(itertools.product([1.0, -1.0], repeat=n_var)))\n",
    "#ops_all = operators(s_all)\n",
    "\n",
    "#E_all_true = energy_ops(ops_all,w_true)\n",
    "#P_all_true = np.exp(E_all_true)\n",
    "#Z_all_true = P_all_true.sum()\n",
    "#np.log(Z_all_true)"
   ]
  },
  {
   "cell_type": "code",
   "execution_count": 14,
   "metadata": {
    "colab": {},
    "colab_type": "code",
    "id": "u7i4XNwxuOoM"
   },
   "outputs": [],
   "source": [
    "# random configs\n",
    "#n_random = 10000\n",
    "#i_random = np.random.choice(s_all.shape[0],n_random)\n",
    "#s_random = s_all[i_random]\n",
    "#ops_random = operators(s_random)\n",
    "\n",
    "#E_true = energy_ops(ops_random,w_true)\n",
    "#P_true = np.exp(E_true)\n",
    "\n",
    "#p0 = P_true/Z_all_true\n",
    "\n",
    "#VP modification - look at test seqs that are representative of the actual distribution\n",
    "ops_test = operators(seqs_test)\n",
    "#E_true_test = energy_ops(ops_test,w_true)\n",
    "#P_true_test = np.exp(E_true_test)\n",
    "\n",
    "#p0_test = P_true_test/Z_all_true"
   ]
  },
  {
   "cell_type": "code",
   "execution_count": 15,
   "metadata": {
    "colab": {},
    "colab_type": "code",
    "id": "6F-Wst6euOoN"
   },
   "outputs": [],
   "source": [
    "seq_unique,i_seq,seq_count1 = np.unique(seqs,return_inverse=True,return_counts=True,axis=0)\n",
    "seq_count = seq_count1[i_seq]"
   ]
  },
  {
   "cell_type": "code",
   "execution_count": 16,
   "metadata": {
    "colab": {},
    "colab_type": "code",
    "id": "FOioV9CeNZ1B"
   },
   "outputs": [],
   "source": [
    "#VP modification\n",
    "seq_unique_test,i_seq_test,seq_count1_test = np.unique(seqs_test,return_inverse=True,return_counts=True,axis=0)\n",
    "seq_count_test = seq_count1_test[i_seq_test]"
   ]
  },
  {
   "cell_type": "code",
   "execution_count": 17,
   "metadata": {
    "colab": {},
    "colab_type": "code",
    "id": "GBxTHWM2uOoP"
   },
   "outputs": [],
   "source": [
    "def partition_data(seqs,eps=0.999):   \n",
    "    ops = operators(seqs)\n",
    "    energies_w = energy_ops(ops,w)\n",
    "\n",
    "    probs_w = np.exp(energies_w*(eps-1))\n",
    "    z_data = np.sum(probs_w)\n",
    "    probs_w /= z_data\n",
    "\n",
    "    x = np.log(seq_count*probs_w).reshape(-1,1)\n",
    "    y = eps*energies_w.reshape(-1,1)\n",
    "\n",
    "    reg = LinearRegression().fit(x,y)\n",
    "    score = reg.score(x,y)\n",
    "    b = reg.intercept_[0]\n",
    "    m = reg.coef_[0][0]  # slope\n",
    "\n",
    "    # set slope = 1\n",
    "    lnZ_data = (eps*energies_w).mean() - (np.log(seq_count*probs_w)).mean()\n",
    "\n",
    "    # exact (to compare)\n",
    "    #probs_all = np.exp(eps*energies_all)\n",
    "    #Z_all = np.sum(probs_all)\n",
    "    #lnZ_all[i] = np.log(Z_all)\n",
    "\n",
    "    print(eps,score,m,b,lnZ_data)\n",
    "    \n",
    "    return lnZ_data"
   ]
  },
  {
   "cell_type": "code",
   "execution_count": 18,
   "metadata": {
    "colab": {
     "base_uri": "https://localhost:8080/",
     "height": 316
    },
    "colab_type": "code",
    "executionInfo": {
     "elapsed": 62496,
     "status": "ok",
     "timestamp": 1577731745306,
     "user": {
      "displayName": "Vipul Periwal",
      "photoUrl": "",
      "userId": "05204892068781355987"
     },
     "user_tz": 300
    },
    "id": "SRPZMXvXuOoQ",
    "outputId": "86e24f01-4492-4f76-9b82-750f2c7f983a",
    "scrolled": true
   },
   "outputs": [],
   "source": [
    "#lnZ_data = partition_data(seqs,eps=0.9999)\n",
    "#print(lnZ_data)\n",
    "\n",
    "# Z_infer:\n",
    "#Z_infer = np.exp(lnZ_data) ### NOTE\n",
    "\n",
    "#E_infer = energy_ops(ops_random,w)\n",
    "#P_infer = np.exp(E_infer)\n",
    "#p1 = P_infer/Z_infer\n",
    "\n",
    "#plt.plot(-np.log(p0),-np.log(p1),'ko',markersize=3)\n",
    "#plt.plot([5,35],[5,35])"
   ]
  },
  {
   "cell_type": "code",
   "execution_count": 19,
   "metadata": {
    "colab": {
     "base_uri": "https://localhost:8080/",
     "height": 34
    },
    "colab_type": "code",
    "executionInfo": {
     "elapsed": 62481,
     "status": "ok",
     "timestamp": 1577731745306,
     "user": {
      "displayName": "Vipul Periwal",
      "photoUrl": "",
      "userId": "05204892068781355987"
     },
     "user_tz": 300
    },
    "id": "VvfBnZoAuOoR",
    "outputId": "0fe4cd72-cb12-4391-b125-fb1b4d8e7760"
   },
   "outputs": [],
   "source": [
    "# Z_direct at eps = 1 : unique\n",
    "ops_unique = operators(seq_unique)\n",
    "#energies_w = energy_ops(ops_unique,w)\n",
    "\n",
    "#probs_w = np.exp(energies_w)\n",
    "#Z_direct = (probs_w/seq_count1).mean()\n",
    "#lnZ_direct = np.log(Z_direct) + np.log(n_seq)\n",
    "#print(lnZ_direct)"
   ]
  },
  {
   "cell_type": "code",
   "execution_count": 20,
   "metadata": {
    "colab": {
     "base_uri": "https://localhost:8080/",
     "height": 170
    },
    "colab_type": "code",
    "executionInfo": {
     "elapsed": 1042,
     "status": "ok",
     "timestamp": 1577738767890,
     "user": {
      "displayName": "Vipul Periwal",
      "photoUrl": "",
      "userId": "05204892068781355987"
     },
     "user_tz": 300
    },
    "id": "yr7dEyyqbaIC",
    "outputId": "858c2aff-4913-4957-be64-72e6367b71dd"
   },
   "outputs": [],
   "source": [
    "# VP modification\n",
    "freq_count1 = seq_count1/n_seq\n",
    "freq_count1_test = seq_count1_test/n_seq\n",
    "ops_unique_test = operators(seq_unique_test)\n",
    "\n",
    "E_mean_f_list = np.zeros(len(eps_list))\n",
    "lnZ_unique_list = np.zeros(len(eps_list))\n",
    "lnZ_unique_E_mean_list = np.zeros(len(eps_list))\n",
    "X_squared_list = np.zeros(len(eps_list))\n",
    "X_squared_list_train = np.zeros(len(eps_list))\n",
    "\n",
    "for i,eps in enumerate(eps_list):\n",
    "  energies_w = energy_ops(ops_unique,w_eps[i,:])\n",
    "  energies_w_test = energy_ops(ops_unique_test,w_eps[i,:])\n",
    "  alpha = 1.5\n",
    "  lnZ_unique = -np.mean(freq_count1**alpha  * (-energies_w + np.log(freq_count1)))/np.mean(freq_count1**alpha )\n",
    "  E_mean_f = -np.sum(energies_w*freq_count1)\n",
    "  probs_test = np.exp(energies_w_test-lnZ_unique)\n",
    "\n",
    "  probs_train = np.exp(energies_w-lnZ_unique)\n",
    "    \n",
    "  E_mean_f_list[i] = E_mean_f\n",
    "  lnZ_unique_list[i] = lnZ_unique\n",
    "  lnZ_unique_E_mean_list[i] = -lnZ_unique - E_mean_f\n",
    "  X_squared_list[i] = np.mean(((probs_test-freq_count1_test)**2)/freq_count1_test)\n",
    "    \n",
    "  X_squared_list_train[i] = np.mean(((probs_train-freq_count1)**2)/freq_count1)  \n",
    "\n",
    "  #print(eps,E_mean_f,lnZ_unique,-lnZ_unique - E_mean_f,np.mean(((probs_test-freq_count1_test)**2)/freq_count1_test))"
   ]
  },
  {
   "cell_type": "code",
   "execution_count": 21,
   "metadata": {
    "colab": {},
    "colab_type": "code",
    "id": "_zwx9DyWuOob"
   },
   "outputs": [
    {
     "data": {
      "image/png": "[encoded data removed]",
      "text/plain": [
       "<Figure size 216x950.4 with 6 Axes>"
      ]
     },
     "metadata": {
      "needs_background": "light"
     },
     "output_type": "display_data"
    }
   ],
   "source": [
    "nx,ny = 1,6\n",
    "fig, ax = plt.subplots(ny,nx,figsize=(nx*3,ny*2.2))\n",
    "\n",
    "ax[0].plot(eps_list, MSE[:,-1],'ko-')\n",
    "ax[1].plot(eps_list, E_mean_f_list,'ko-')\n",
    "ax[2].plot(eps_list, lnZ_unique_list,'ko-')\n",
    "ax[3].plot(eps_list, lnZ_unique_E_mean_list,'ko-')\n",
    "ax[4].plot(eps_list, X_squared_list,'ko-')\n",
    "ax[5].plot(eps_list, X_squared_list_train,'ko-')\n",
    "\n",
    "ax[0].set_ylabel('MSE')\n",
    "ax[1].set_ylabel('Energy')\n",
    "ax[2].set_ylabel('LnZ')\n",
    "ax[3].set_ylabel('-LnZ-Energy')\n",
    "ax[4].set_ylabel('X_sequared_test')\n",
    "ax[5].set_ylabel('X_sequared_train')\n",
    "\n",
    "plt.tight_layout(h_pad=0.5, w_pad=0.6)\n",
    "#plt.savefig('fig1.pdf', format='pdf', dpi=100)"
   ]
  },
  {
   "cell_type": "code",
   "execution_count": null,
   "metadata": {},
   "outputs": [],
   "source": []
  }
 ],
 "metadata": {
  "colab": {
   "collapsed_sections": [],
   "name": "find_Z_opt_eps.ipynb",
   "provenance": []
  },
  "kernelspec": {
   "display_name": "Python 3",
   "language": "python",
   "name": "python3"
  },
  "language_info": {
   "codemirror_mode": {
    "name": "ipython",
    "version": 3
   },
   "file_extension": ".py",
   "mimetype": "text/x-python",
   "name": "python",
   "nbconvert_exporter": "python",
   "pygments_lexer": "ipython3",
   "version": "3.7.3"
  }
 },
 "nbformat": 4,
 "nbformat_minor": 1
}
