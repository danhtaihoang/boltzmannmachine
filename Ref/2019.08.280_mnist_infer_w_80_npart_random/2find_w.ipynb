{
 "cells": [
  {
   "cell_type": "code",
   "execution_count": 1,
   "metadata": {},
   "outputs": [],
   "source": [
    "#import matplotlib.pyplot as plt\n",
    "import numpy as np\n",
    "import matplotlib.pyplot as plt\n",
    "import emachine as EM"
   ]
  },
  {
   "cell_type": "code",
   "execution_count": 2,
   "metadata": {},
   "outputs": [],
   "source": [
    "np.random.seed(0)"
   ]
  },
  {
   "cell_type": "code",
   "execution_count": 3,
   "metadata": {},
   "outputs": [],
   "source": [
    "s0 = np.loadtxt('../MNIST_data/mnist_train.csv',delimiter=',')"
   ]
  },
  {
   "cell_type": "code",
   "execution_count": 4,
   "metadata": {},
   "outputs": [
    {
     "name": "stdout",
     "output_type": "stream",
     "text": [
      "(60000, 784) (60000,)\n"
     ]
    }
   ],
   "source": [
    "seq = s0[:,1:] \n",
    "label = s0[:,0]\n",
    "print(seq.shape,label.shape)"
   ]
  },
  {
   "cell_type": "code",
   "execution_count": 5,
   "metadata": {},
   "outputs": [
    {
     "name": "stdout",
     "output_type": "stream",
     "text": [
      "8 (5851, 784) (5851,)\n"
     ]
    }
   ],
   "source": [
    "# select only 1 digit\n",
    "digit = 8\n",
    "i = label == digit\n",
    "label1 = label[i]\n",
    "seq1 = seq[i]\n",
    "print(digit,seq1.shape,label1.shape)\n",
    "\n",
    "# convert to binary\n",
    "seq1 = np.sign(seq1-1.5)"
   ]
  },
  {
   "cell_type": "code",
   "execution_count": 6,
   "metadata": {},
   "outputs": [
    {
     "data": {
      "text/plain": [
       "(5851, 222)"
      ]
     },
     "execution_count": 6,
     "metadata": {},
     "output_type": "execute_result"
    }
   ],
   "source": [
    "i = np.loadtxt('cols_selected.txt').astype(int)\n",
    "seq_select = seq1[:,i]\n",
    "(seq_select.shape)"
   ]
  },
  {
   "cell_type": "code",
   "execution_count": 8,
   "metadata": {},
   "outputs": [
    {
     "name": "stdout",
     "output_type": "stream",
     "text": [
      "(5851, 24753)\n"
     ]
    }
   ],
   "source": [
    "ops = EM.operators(seq_select)\n",
    "print(ops.shape)"
   ]
  },
  {
   "cell_type": "code",
   "execution_count": 9,
   "metadata": {
    "scrolled": true
   },
   "outputs": [
    {
     "name": "stdout",
     "output_type": "stream",
     "text": [
      "0.5 -1261.2532596871245\n",
      "0.6 -1030.0453923278756\n",
      "0.7 -916.9526439528022\n",
      "0.8 -801.6622229214545\n",
      "0.9 -716.9803064703593\n"
     ]
    }
   ],
   "source": [
    "max_iter = 100\n",
    "\n",
    "n_ops = ops.shape[1]\n",
    "\n",
    "eps_list = np.linspace(0.5,0.9,5)\n",
    "n_eps = len(eps_list)\n",
    "E_eps = np.zeros((n_eps))\n",
    "w_eps = np.zeros((n_eps,n_ops))\n",
    "for i,eps in enumerate(eps_list):    \n",
    "    w_eps[i,:],E_eps[i] = EM.fit(ops,eps=eps,max_iter=max_iter)\n",
    "    print(eps,E_eps[i])"
   ]
  },
  {
   "cell_type": "code",
   "execution_count": 12,
   "metadata": {},
   "outputs": [],
   "source": [
    "np.savetxt('w_eps09.dat',w_eps[-1],fmt='%f')"
   ]
  },
  {
   "cell_type": "code",
   "execution_count": 13,
   "metadata": {},
   "outputs": [
    {
     "name": "stdout",
     "output_type": "stream",
     "text": [
      "0.92 -711.6255597866084\n",
      "0.935 -705.7689428451328\n",
      "0.95 -706.8546800350513\n",
      "0.965 -719.9330903444665\n",
      "0.98 -767.5753296194733\n"
     ]
    }
   ],
   "source": [
    "eps_list = np.linspace(0.92,0.98,5)\n",
    "n_eps = len(eps_list)\n",
    "E_eps = np.zeros((n_eps))\n",
    "w_eps = np.zeros((n_eps,n_ops))\n",
    "for i,eps in enumerate(eps_list):    \n",
    "    w_eps[i,:],E_eps[i] = EM.fit(ops,eps=eps,max_iter=max_iter)\n",
    "    print(eps,E_eps[i])"
   ]
  },
  {
   "cell_type": "code",
   "execution_count": 14,
   "metadata": {},
   "outputs": [
    {
     "name": "stdout",
     "output_type": "stream",
     "text": [
      "1 0.935\n"
     ]
    }
   ],
   "source": [
    "ieps = np.argmax(E_eps)\n",
    "print(ieps,eps_list[ieps])\n",
    "np.savetxt('w.dat',w_eps[ieps],fmt='%f')"
   ]
  },
  {
   "cell_type": "code",
   "execution_count": null,
   "metadata": {},
   "outputs": [],
   "source": []
  }
 ],
 "metadata": {
  "kernelspec": {
   "display_name": "Python 3",
   "language": "python",
   "name": "python3"
  },
  "language_info": {
   "codemirror_mode": {
    "name": "ipython",
    "version": 3
   },
   "file_extension": ".py",
   "mimetype": "text/x-python",
   "name": "python",
   "nbconvert_exporter": "python",
   "pygments_lexer": "ipython3",
   "version": "3.7.3"
  }
 },
 "nbformat": 4,
 "nbformat_minor": 2
}
