{
 "cells": [
  {
   "cell_type": "code",
   "execution_count": 1,
   "metadata": {
    "colab": {},
    "colab_type": "code",
    "id": "g5vKJ3_zuOn5"
   },
   "outputs": [],
   "source": [
    "import matplotlib.pyplot as plt\n",
    "import numpy as np\n",
    "import numpy.linalg as nplin\n",
    "import itertools\n",
    "#from coniii import *\n",
    "from sklearn.linear_model import LinearRegression"
   ]
  },
  {
   "cell_type": "code",
   "execution_count": 2,
   "metadata": {
    "colab": {},
    "colab_type": "code",
    "id": "E9rJ58zEuOn7"
   },
   "outputs": [],
   "source": [
    "np.random.seed(0)"
   ]
  },
  {
   "cell_type": "code",
   "execution_count": 3,
   "metadata": {
    "colab": {},
    "colab_type": "code",
    "id": "IqacAI8puOn9"
   },
   "outputs": [],
   "source": [
    "def operators(s):\n",
    "    #generate terms in the energy function\n",
    "    n_seq,n_var = s.shape\n",
    "    ops = np.zeros((n_seq,n_var+int(n_var*(n_var-1)/2.0)))\n",
    "\n",
    "    jindex = 0\n",
    "    for index in range(n_var):\n",
    "        ops[:,jindex] = s[:,index]\n",
    "        jindex +=1\n",
    "\n",
    "    for index in range(n_var-1):\n",
    "        for index1 in range(index+1,n_var):\n",
    "            ops[:,jindex] = s[:,index]*s[:,index1]\n",
    "            jindex +=1\n",
    "            \n",
    "    return ops"
   ]
  },
  {
   "cell_type": "code",
   "execution_count": 4,
   "metadata": {
    "colab": {},
    "colab_type": "code",
    "id": "60qp9C3xuOn-"
   },
   "outputs": [],
   "source": [
    "def energy_ops(ops,w):\n",
    "    return np.sum(ops*w[np.newaxis,:],axis=1)"
   ]
  },
  {
   "cell_type": "code",
   "execution_count": 5,
   "metadata": {
    "colab": {},
    "colab_type": "code",
    "id": "joC9--aLuOn_"
   },
   "outputs": [],
   "source": [
    "def generate_seqs(n_var,n_seq,n_sample=30,g=1.0,w_true1=0.0):\n",
    "    n_ops = n_var+int(n_var*(n_var-1)/2.0)\n",
    "    #w_true = g*(np.random.rand(ops.shape[1])-0.5)/np.sqrt(float(n_var))\n",
    "    if np.isscalar(w_true1):\n",
    "      w_true = np.random.normal(0.,g/np.sqrt(n_var),size=n_ops)\n",
    "    else:\n",
    "      w_true = w_true1   \n",
    "    samples = np.random.choice([1.0,-1.0],size=(n_seq*n_sample,n_var),replace=True)\n",
    "    ops = operators(samples)\n",
    "    #n_ops = ops.shape[1]\n",
    "\n",
    "    sample_energy = energy_ops(ops,w_true)\n",
    "    p = np.exp(sample_energy)\n",
    "    p /= np.sum(p)\n",
    "    out_samples = np.random.choice(np.arange(n_seq*n_sample),size=n_seq,replace=True,p=p)\n",
    "    \n",
    "    return w_true,samples[out_samples] #,p[out_samples],sample_energy[out_samples]"
   ]
  },
  {
   "cell_type": "code",
   "execution_count": 6,
   "metadata": {
    "colab": {},
    "colab_type": "code",
    "id": "rXzrTKSGuOoA"
   },
   "outputs": [],
   "source": [
    "def hopfield_model(s):\n",
    "    ops = operators(s)\n",
    "    w = np.mean(ops,axis=0)\n",
    "    #print('hopfield error ',nplin.norm(w-w_true))\n",
    "    return w"
   ]
  },
  {
   "cell_type": "code",
   "execution_count": 7,
   "metadata": {
    "colab": {},
    "colab_type": "code",
    "id": "lxdYgsK5uOoC"
   },
   "outputs": [],
   "source": [
    "def boltzmann_machine_exact(s,s_all,max_iter=150,alpha=5e-2,cov=False):\n",
    "    n_seq,n_var = s.shape\n",
    "    ops = operators(s)\n",
    "    cov_inv = np.eye(ops.shape[1])\n",
    "    ops_obs = np.mean(ops,axis=0)\n",
    "    ops_model = operators(s_all)\n",
    "\n",
    "    n_ops = ops.shape[1]\n",
    "    \n",
    "    np.random.seed(13)\n",
    "    w = np.random.rand(n_ops)-0.5    \n",
    "    for iterate in range(max_iter):\n",
    "        energies_w = energy_ops(ops_model,w)\n",
    "        probs_w = np.exp(energies_w)\n",
    "        probs_w /= np.sum(probs_w)\n",
    "        if iterate%10 == 0: \n",
    "            #print(iterate,nplin.norm(w-w_true)) #,nplin.norm(spin_cov_w-spin_cov_obs))\n",
    "            MSE = ((w-w_true)**2).mean()\n",
    "            print(iterate,MSE)\n",
    "            \n",
    "        w += alpha*cov_inv.dot(ops_obs - np.sum(ops_model*probs_w[:,np.newaxis],axis=0))\n",
    "\n",
    "    print('final',iterate,MSE)\n",
    "\n",
    "    return w"
   ]
  },
  {
   "cell_type": "code",
   "execution_count": 8,
   "metadata": {
    "colab": {},
    "colab_type": "code",
    "id": "9IYwBqFiuOoD"
   },
   "outputs": [],
   "source": [
    "def eps_machine(s,eps_scale=0.1,max_iter=151,alpha=0.1):\n",
    "    MSE = np.zeros(max_iter)\n",
    "    KL = np.zeros(max_iter)\n",
    "    E_av = np.zeros(max_iter)\n",
    "    \n",
    "    n_seq,n_var = s.shape\n",
    "    ops = operators(s)\n",
    "    n_ops = ops.shape[1]\n",
    "    cov_inv = np.eye(ops.shape[1])\n",
    "\n",
    "    np.random.seed(13)\n",
    "    w = np.random.rand(n_ops)-0.5    \n",
    "    \n",
    "    w_iter = np.zeros((max_iter,n_ops))\n",
    "    for i in range(max_iter):         \n",
    "        #eps_scale = np.random.rand()/np.max([1.,np.max(np.abs(w))])\n",
    "        \n",
    "        energies_w = energy_ops(ops,w)\n",
    "        probs_w = np.exp(energies_w*(eps_scale-1))\n",
    "        z_data = np.sum(probs_w)\n",
    "        probs_w /= z_data\n",
    "        ops_expect_w = np.sum(probs_w[:,np.newaxis]*ops,axis=0)\n",
    "        \n",
    "        #if iterate%int(max_iter/5.0)==0:\n",
    "        #E_exp = (probs_w*energies_w).sum()\n",
    "        #KL[i] = -E_exp - np.log(z_data) + np.sum(np.log(np.cosh(w*eps_scale))) + n_var*np.log(2.)\n",
    "        \n",
    "        E_av[i] = energies_w.mean()\n",
    "        MSE[i] = ((w-w_true)**2).mean()\n",
    "        #print(RMSE[i])\n",
    "        #print(eps_scale,iterate,nplin.norm(w-w_true),RMSE,KL,E_av)\n",
    "        sec_order = w*eps_scale\n",
    "        w += alpha*cov_inv.dot((ops_expect_w - sec_order))        \n",
    "        #print('final ',eps_scale,iterate,nplin.norm(w-w_true))    \n",
    "        #w_iter[i,:] = w\n",
    "        \n",
    "    return MSE,-E_av,w"
   ]
  },
  {
   "cell_type": "code",
   "execution_count": 9,
   "metadata": {
    "colab": {
     "base_uri": "https://localhost:8080/",
     "height": 170
    },
    "colab_type": "code",
    "executionInfo": {
     "elapsed": 36540,
     "status": "ok",
     "timestamp": 1578934004226,
     "user": {
      "displayName": "Vipul Periwal",
      "photoUrl": "",
      "userId": "05204892068781355987"
     },
     "user_tz": 300
    },
    "id": "ker223_duOoE",
    "outputId": "79a9d239-6d9a-43a4-b751-520bce3b9f4e",
    "scrolled": true
   },
   "outputs": [
    {
     "name": "stdout",
     "output_type": "stream",
     "text": [
      "0.4\n",
      "0.45\n",
      "0.5\n",
      "0.55\n",
      "0.6000000000000001\n",
      "0.65\n",
      "0.7000000000000001\n",
      "0.75\n",
      "0.8\n"
     ]
    }
   ],
   "source": [
    "max_iter = 100\n",
    "\n",
    "n_var,n_seq = 40,10000\n",
    "g = 0.5\n",
    "\n",
    "n_ops = n_var+int(n_var*(n_var-1)/2.0)\n",
    "\n",
    "w_true,seqs = generate_seqs(n_var,n_seq,g=g)\n",
    "#VP modification\n",
    "w_true1,seqs_test = generate_seqs(n_var,n_seq,g=g,w_true1=w_true)\n",
    "#eps_list = [0.25,0.3,0.35,0.4,0.45,0.5]\n",
    "#eps_list = [0.36,0.37,0.38,0.39,0.40,0.41,0.42,0.43,0.44]\n",
    "eps_list = np.linspace(0.4,0.8,9)\n",
    "n_eps = len(eps_list)\n",
    "MSE = np.zeros((n_eps,max_iter))\n",
    "KL = np.zeros((n_eps,max_iter))\n",
    "E_av = np.zeros((n_eps,max_iter))\n",
    "w_eps = np.zeros((n_eps,n_ops))\n",
    "for i,eps in enumerate(eps_list):\n",
    "    print(eps)\n",
    "    MSE[i,:],E_av[i,:],w_eps[i,:] = eps_machine(seqs,eps_scale=eps,max_iter=max_iter)"
   ]
  },
  {
   "cell_type": "code",
   "execution_count": 10,
   "metadata": {
    "colab": {
     "base_uri": "https://localhost:8080/",
     "height": 285
    },
    "colab_type": "code",
    "executionInfo": {
     "elapsed": 36652,
     "status": "ok",
     "timestamp": 1578934004349,
     "user": {
      "displayName": "Vipul Periwal",
      "photoUrl": "",
      "userId": "05204892068781355987"
     },
     "user_tz": 300
    },
    "id": "hW2CRl6VuOoG",
    "outputId": "cd0ac7d0-27b3-4338-dd29-661bb3058339"
   },
   "outputs": [
    {
     "data": {
      "text/plain": [
       "[<matplotlib.lines.Line2D at 0x7f13dc18b1d0>]"
      ]
     },
     "execution_count": 10,
     "metadata": {},
     "output_type": "execute_result"
    },
    {
     "data": {
      "image/png": "[encoded data removed]",
      "text/plain": [
       "<Figure size 432x288 with 1 Axes>"
      ]
     },
     "metadata": {
      "needs_background": "light"
     },
     "output_type": "display_data"
    }
   ],
   "source": [
    "plt.plot(eps_list,E_av[:,-1])"
   ]
  },
  {
   "cell_type": "code",
   "execution_count": 11,
   "metadata": {
    "colab": {
     "base_uri": "https://localhost:8080/",
     "height": 34
    },
    "colab_type": "code",
    "executionInfo": {
     "elapsed": 36639,
     "status": "ok",
     "timestamp": 1578934004350,
     "user": {
      "displayName": "Vipul Periwal",
      "photoUrl": "",
      "userId": "05204892068781355987"
     },
     "user_tz": 300
    },
    "id": "kkTjMbx4uOoI",
    "outputId": "a8daaf3d-9468-4ae0-c49f-ad6c2f58879d"
   },
   "outputs": [
    {
     "name": "stdout",
     "output_type": "stream",
     "text": [
      "optimal eps: 5 0.65\n"
     ]
    }
   ],
   "source": [
    "# optimal eps\n",
    "ieps = np.argmax(E_av[:,-1])\n",
    "print('optimal eps:',ieps,eps_list[ieps])\n",
    "\n",
    "w = w_eps[ieps]"
   ]
  },
  {
   "cell_type": "code",
   "execution_count": 12,
   "metadata": {
    "colab": {
     "base_uri": "https://localhost:8080/",
     "height": 282
    },
    "colab_type": "code",
    "executionInfo": {
     "elapsed": 36862,
     "status": "ok",
     "timestamp": 1578934004585,
     "user": {
      "displayName": "Vipul Periwal",
      "photoUrl": "",
      "userId": "05204892068781355987"
     },
     "user_tz": 300
    },
    "id": "THIwYsCAuOoJ",
    "outputId": "d2d72039-83dc-44e1-f953-bbc4220d55a3",
    "scrolled": false
   },
   "outputs": [
    {
     "data": {
      "text/plain": [
       "[<matplotlib.lines.Line2D at 0x7f13dc134630>]"
      ]
     },
     "execution_count": 12,
     "metadata": {},
     "output_type": "execute_result"
    },
    {
     "data": {
      "image/png": "[encoded data removed]",
      "text/plain": [
       "<Figure size 432x288 with 1 Axes>"
      ]
     },
     "metadata": {
      "needs_background": "light"
     },
     "output_type": "display_data"
    }
   ],
   "source": [
    "plt.plot(w_true,w,'ro')\n",
    "plt.plot(w_true,w_true1,'ko',alpha=0.1)\n",
    "plt.plot([-0.6,0.6],[-0.6,0.6])"
   ]
  },
  {
   "cell_type": "code",
   "execution_count": 13,
   "metadata": {
    "colab": {},
    "colab_type": "code",
    "id": "fAWvmT8KuOoL"
   },
   "outputs": [],
   "source": [
    "# # Z_all_true\n",
    "# s_all = np.asarray(list(itertools.product([1.0, -1.0], repeat=n_var)))\n",
    "# ops_all = operators(s_all)\n",
    "\n",
    "# E_all_true = energy_ops(ops_all,w_true)\n",
    "# P_all_true = np.exp(E_all_true)\n",
    "# Z_all_true = P_all_true.sum()\n",
    "# np.log(Z_all_true)"
   ]
  },
  {
   "cell_type": "code",
   "execution_count": 14,
   "metadata": {
    "colab": {
     "base_uri": "https://localhost:8080/",
     "height": 232
    },
    "colab_type": "code",
    "executionInfo": {
     "elapsed": 383,
     "status": "error",
     "timestamp": 1578934041830,
     "user": {
      "displayName": "Vipul Periwal",
      "photoUrl": "",
      "userId": "05204892068781355987"
     },
     "user_tz": 300
    },
    "id": "u7i4XNwxuOoM",
    "outputId": "83f4e83e-c464-4bb9-cebd-544e44365b8c"
   },
   "outputs": [],
   "source": [
    "# random configs\n",
    "#n_random = 10000\n",
    "#i_random = np.random.choice(s_all.shape[0],n_random)\n",
    "#s_random = s_all[i_random]\n",
    "#ops_random = operators(s_random)\n",
    "\n",
    "#E_true = energy_ops(ops_random,w_true)\n",
    "#P_true = np.exp(E_true)\n",
    "\n",
    "#p0 = P_true/Z_all_true\n",
    "\n",
    "#VP modification - look at test seqs that are representative of the actual distribution\n",
    "ops_test = operators(seqs_test)\n",
    "#E_true_test = energy_ops(ops_test,w_true)\n",
    "#P_true_test = np.exp(E_true_test)\n",
    "\n",
    "#p0_test = P_true_test/Z_all_true"
   ]
  },
  {
   "cell_type": "code",
   "execution_count": 15,
   "metadata": {
    "colab": {},
    "colab_type": "code",
    "id": "6F-Wst6euOoN"
   },
   "outputs": [],
   "source": [
    "seq_unique,i_seq,seq_count1 = np.unique(seqs,return_inverse=True,return_counts=True,axis=0)\n",
    "seq_count = seq_count1[i_seq]"
   ]
  },
  {
   "cell_type": "code",
   "execution_count": 16,
   "metadata": {
    "colab": {},
    "colab_type": "code",
    "id": "FOioV9CeNZ1B"
   },
   "outputs": [],
   "source": [
    "#VP modification\n",
    "seq_unique_test,i_seq_test,seq_count1_test = np.unique(seqs_test,return_inverse=True,return_counts=True,axis=0)\n",
    "seq_count_test = seq_count1_test[i_seq_test]"
   ]
  },
  {
   "cell_type": "code",
   "execution_count": 17,
   "metadata": {
    "colab": {},
    "colab_type": "code",
    "id": "GBxTHWM2uOoP"
   },
   "outputs": [],
   "source": [
    "def partition_data(seqs,eps=0.999):   \n",
    "    ops = operators(seqs)\n",
    "    energies_w = energy_ops(ops,w)\n",
    "\n",
    "    probs_w = np.exp(energies_w*(eps-1))\n",
    "    z_data = np.sum(probs_w)\n",
    "    probs_w /= z_data\n",
    "\n",
    "    x = np.log(seq_count*probs_w).reshape(-1,1)\n",
    "    y = eps*energies_w.reshape(-1,1)\n",
    "\n",
    "    reg = LinearRegression().fit(x,y)\n",
    "    score = reg.score(x,y)\n",
    "    b = reg.intercept_[0]\n",
    "    m = reg.coef_[0][0]  # slope\n",
    "\n",
    "    # set slope = 1\n",
    "    lnZ_data = (eps*energies_w).mean() - (np.log(seq_count*probs_w)).mean()\n",
    "\n",
    "    # exact (to compare)\n",
    "    #probs_all = np.exp(eps*energies_all)\n",
    "    #Z_all = np.sum(probs_all)\n",
    "    #lnZ_all[i] = np.log(Z_all)\n",
    "\n",
    "    print(eps,score,m,b,lnZ_data)\n",
    "    \n",
    "    return lnZ_data"
   ]
  },
  {
   "cell_type": "code",
   "execution_count": 18,
   "metadata": {
    "colab": {},
    "colab_type": "code",
    "id": "SRPZMXvXuOoQ",
    "scrolled": true
   },
   "outputs": [],
   "source": [
    "#lnZ_data = partition_data(seqs,eps=0.9999)\n",
    "#print(lnZ_data)\n",
    "\n",
    "# Z_infer:\n",
    "#Z_infer = np.exp(lnZ_data) ### NOTE\n",
    "\n",
    "#E_infer = energy_ops(ops_random,w)\n",
    "#P_infer = np.exp(E_infer)\n",
    "#p1 = P_infer/Z_infer\n",
    "\n",
    "#plt.plot(-np.log(p0),-np.log(p1),'ko',markersize=3)\n",
    "#plt.plot([5,35],[5,35])"
   ]
  },
  {
   "cell_type": "code",
   "execution_count": 19,
   "metadata": {
    "colab": {},
    "colab_type": "code",
    "id": "VvfBnZoAuOoR"
   },
   "outputs": [],
   "source": [
    "# Z_direct at eps = 1 : unique\n",
    "ops_unique = operators(seq_unique)\n",
    "#energies_w = energy_ops(ops_unique,w)\n",
    "\n",
    "#probs_w = np.exp(energies_w)\n",
    "#Z_direct = (probs_w/seq_count1).mean()\n",
    "#lnZ_direct = np.log(Z_direct) + np.log(n_seq)\n",
    "#print(lnZ_direct)"
   ]
  },
  {
   "cell_type": "code",
   "execution_count": 20,
   "metadata": {
    "colab": {},
    "colab_type": "code",
    "id": "yr7dEyyqbaIC"
   },
   "outputs": [
    {
     "name": "stdout",
     "output_type": "stream",
     "text": [
      "0.4 -5.7266271281893015 15.03378446880101 -9.307157340611708 0.0006276452143545382\n",
      "0.45 -5.592223848332248 14.883388905479142 -9.291165057146895 0.0005477483828442492\n",
      "0.5 -5.499775762802722 14.789734472316537 -9.289958709513815 0.0005043166612935528\n",
      "0.55 -5.441417968790708 14.74359808823207 -9.302180119441362 0.00048722398062951705\n",
      "0.6000000000000001 -5.412107388797381 14.739663395959774 -9.327556007162393 0.0004940107082286983\n",
      "0.65 -5.40884628516298 14.775667001440247 -9.366820716277267 0.0005289128543002505\n",
      "0.7000000000000001 -5.430372351881708 14.852245738026982 -9.421873386145274 0.000606408871400615\n",
      "0.75 -5.477289075445951 14.973551131360074 -9.496262055914123 0.0007642430250435169\n",
      "0.8 -5.55275736797456 15.14904240600175 -9.59628503802719 0.0011080061379516385\n"
     ]
    }
   ],
   "source": [
    "# VP modification\n",
    "freq_count1 = seq_count1/n_seq\n",
    "freq_count1_test = seq_count1_test/n_seq\n",
    "ops_unique_test = operators(seq_unique_test)\n",
    "\n",
    "for i,eps in enumerate(eps_list):\n",
    "  energies_w = energy_ops(ops_unique,w_eps[i,:])\n",
    "  energies_w_test = energy_ops(ops_unique_test,w_eps[i,:])\n",
    "  alpha = 1.5\n",
    "  lnZ_unique = -np.mean(freq_count1**alpha  * (-energies_w + np.log(freq_count1)))/np.mean(freq_count1**alpha )\n",
    "  E_mean_f = -np.sum(energies_w*freq_count1)\n",
    "  probs_test = np.exp(energies_w_test-lnZ_unique)\n",
    "  print(eps,E_mean_f,lnZ_unique,-lnZ_unique - E_mean_f,np.mean(((probs_test-freq_count1_test)**2)/freq_count1_test))"
   ]
  },
  {
   "cell_type": "code",
   "execution_count": 21,
   "metadata": {
    "colab": {},
    "colab_type": "code",
    "id": "OhnFfdDCuOoT"
   },
   "outputs": [
    {
     "name": "stdout",
     "output_type": "stream",
     "text": [
      "15.250864643450761\n"
     ]
    }
   ],
   "source": [
    "# all obs\n",
    "ops = operators(seqs)\n",
    "energies_w = energy_ops(ops,w)\n",
    "\n",
    "probs_w = np.exp(energies_w)\n",
    "Z_direct = (probs_w/seq_count).mean()\n",
    "lnZ_direct = np.log(Z_direct) + np.log(n_seq)\n",
    "print(lnZ_direct)"
   ]
  },
  {
   "cell_type": "code",
   "execution_count": 22,
   "metadata": {
    "colab": {},
    "colab_type": "code",
    "id": "OZIBio_ouOoU"
   },
   "outputs": [
    {
     "name": "stdout",
     "output_type": "stream",
     "text": [
      "0.65\n",
      "14.019393470956096\n"
     ]
    }
   ],
   "source": [
    "# Z from optimal eps\n",
    "eps0 = eps_list[ieps]\n",
    "print(eps0)\n",
    "\n",
    "ops_unique = operators(seq_unique)\n",
    "energies_w = energy_ops(ops_unique,w)\n",
    "probs_w = np.exp(eps0*energies_w)\n",
    "\n",
    "Z1 = (probs_w).sum()\n",
    "Z2 = (seq_count1*np.exp((eps0-1)*energies_w)).sum()\n",
    "\n",
    "lnZ = np.log(Z1*n_seq/Z2)\n",
    "print(lnZ)"
   ]
  },
  {
   "cell_type": "code",
   "execution_count": 23,
   "metadata": {
    "colab": {},
    "colab_type": "code",
    "id": "DNqMDbETuOoY"
   },
   "outputs": [
    {
     "data": {
      "text/plain": [
       "6939"
      ]
     },
     "execution_count": 23,
     "metadata": {},
     "output_type": "execute_result"
    }
   ],
   "source": [
    "seq_unique.shape[0]"
   ]
  },
  {
   "cell_type": "code",
   "execution_count": 24,
   "metadata": {
    "colab": {},
    "colab_type": "code",
    "id": "6LBY0K4RMr9F"
   },
   "outputs": [],
   "source": [
    "# VP modification -1/13/2020\n",
    "def free_energy_fixed_point(f_count_uniq,ops_uniq,w,gamma=2e-1,toler=0.1):\n",
    "  energies_w = energy_ops(ops_uniq,w)\n",
    "  log_f_count = np.log(f_count_uniq)\n",
    "  entropy = - np.sum(f_count_uniq*log_f_count)\n",
    "  E_mean_f = -np.sum(energies_w*f_count_uniq)\n",
    "  F_0 = E_mean_f - entropy\n",
    "  F_gamma = F_0\n",
    "  update = np.inf\n",
    "  while update > toler:\n",
    "    F_gamma_new = F_0 + np.sum(f_count_uniq*np.sinh(gamma*(F_gamma + energies_w - log_f_count)))/gamma\n",
    "    print((F_gamma + energies_w - log_f_count)[3:7])\n",
    "    update = np.abs(F_gamma - F_gamma_new)\n",
    "    F_gamma = F_gamma_new\n",
    "  return F_gamma\n",
    "\n",
    "def free_energy_improved(f_count_uniq,ops_uniq,w,gamma=0.02,toler=5e-2):\n",
    "  F_true = 4*(free_energy_fixed_point(f_count_uniq,ops_uniq,w,gamma=gamma,toler=toler)-\\\n",
    "              0.25*free_energy_fixed_point(f_count_uniq,ops_uniq,w,gamma=2*gamma,toler=toler))/3.0\n",
    "  return F_true"
   ]
  },
  {
   "cell_type": "code",
   "execution_count": 25,
   "metadata": {
    "colab": {},
    "colab_type": "code",
    "id": "Hag5hcndsjYS"
   },
   "outputs": [],
   "source": [
    "# VP modification - 1/13/2020\n",
    "# try to get free energy by integrating mean energy over temperature\n",
    "def free_energy_integrated(f_count_uniq,ops_uniq,w,d_beta=0.1,obs=True):\n",
    "  E_mean_f = 0.0\n",
    "  for i in range(int(1.0/d_beta)):\n",
    "    bet = (i+0.5)*d_beta\n",
    "    if obs: \n",
    "      E_mean_f += -np.sum(energies_w*f_count_uniq**bet)/np.sum(f_count_uniq**bet)   \n",
    "    else:\n",
    "      E_mean_f += -np.sum(energies_w*np.exp(energies_w*bet))/np.sum(np.exp(energies_w*bet))\n",
    "  return E_mean_f*d_beta"
   ]
  },
  {
   "cell_type": "code",
   "execution_count": 26,
   "metadata": {
    "colab": {},
    "colab_type": "code",
    "id": "id7mZ0zOMY2E"
   },
   "outputs": [
    {
     "name": "stdout",
     "output_type": "stream",
     "text": [
      "0.4 -5.7266271281893015 6.661418262193493 -0.9347911340041914 -1.1701046791071397 16215.088865932783\n",
      "0.45 -5.592223848332248 6.474740316715867 -0.8825164683836189 -1.1163255878324518 15561.902043521475\n",
      "0.5 -5.499775762802722 6.363883753332871 -0.8641079905301492 -1.0992964905944422 15003.888634122153\n",
      "0.55 -5.441417968790708 6.317253779593711 -0.8758358108030038 -1.1151584561894818 14519.500167234992\n",
      "0.6000000000000001 -5.412107388797381 6.330310347606699 -0.9182029588093181 -1.1644837157184993 14077.89807294205\n",
      "0.65 -5.40884628516298 6.405085366509046 -0.996239081346066 -1.2525747022006515 13634.149229062918\n",
      "0.7000000000000001 -5.430372351881708 6.551983560762103 -1.1216112088803953 -1.3916238504693554 13108.229132208322\n",
      "0.75 -5.477289075445951 6.795588019553664 -1.3182989441077133 -1.6065057348821972 12326.032180283548\n",
      "0.8 -5.55275736797456 7.189863705481021 -1.6371063375064612 -1.9495437643838383 10873.470178125359\n"
     ]
    }
   ],
   "source": [
    "# VP modification -1/13/2020\n",
    "# try to find free energy with the upper and lower bounds\n",
    "freq_count1 = seq_count1/n_seq\n",
    "freq_count1_test = seq_count1_test/n_seq\n",
    "ops_unique_test = operators(seq_unique_test)\n",
    "\n",
    "E_mean_f_list = np.zeros(len(eps_list))\n",
    "lnZ_unique_list = np.zeros(len(eps_list))\n",
    "lnZ_unique_E_mean_list = np.zeros(len(eps_list))\n",
    "\n",
    "for i,eps in enumerate(eps_list):\n",
    "    energies_w = energy_ops(ops_unique,w_eps[i,:])\n",
    "    energies_w_test = energy_ops(ops_unique_test,w_eps[i,:])\n",
    "    # lnZ_unique = -free_energy_improved(freq_count1,ops_unique,w_eps[i,:],gamma=0.04,toler=1e-1)\n",
    "    lnZ_unique = -free_energy_integrated(freq_count1,ops_unique,w_eps[i,:],obs=False)\n",
    "    E_mean_f = -np.sum(energies_w*freq_count1)\n",
    "    E_mean_f_test = -np.sum(energies_w_test*freq_count1_test)\n",
    "    probs_test = np.exp(energies_w_test-lnZ_unique)\n",
    "\n",
    "    print(eps,E_mean_f,lnZ_unique,-lnZ_unique - E_mean_f,-lnZ_unique - E_mean_f_test,np.mean(((probs_test-freq_count1_test)**2)/freq_count1_test))\n",
    "\n",
    "    # 2020.01.13: Tai added \n",
    "    E_mean_f_list[i] = E_mean_f\n",
    "    lnZ_unique_list[i] = lnZ_unique\n",
    "    lnZ_unique_E_mean_list[i] = -lnZ_unique - E_mean_f"
   ]
  },
  {
   "cell_type": "code",
   "execution_count": 27,
   "metadata": {},
   "outputs": [
    {
     "data": {
      "image/png": "[encoded data removed]",
      "text/plain": [
       "<Figure size 216x633.6 with 4 Axes>"
      ]
     },
     "metadata": {
      "needs_background": "light"
     },
     "output_type": "display_data"
    }
   ],
   "source": [
    "nx,ny = 1,4\n",
    "fig, ax = plt.subplots(ny,nx,figsize=(nx*3,ny*2.2))\n",
    "\n",
    "ax[0].plot(eps_list, MSE[:,-1],'ko-')\n",
    "ax[1].plot(eps_list, E_mean_f_list,'ko-')\n",
    "ax[2].plot(eps_list, lnZ_unique_list,'ko-')\n",
    "ax[3].plot(eps_list, lnZ_unique_E_mean_list,'ko-')\n",
    "\n",
    "ax[0].set_ylabel('MSE')\n",
    "ax[1].set_ylabel('Energy')\n",
    "ax[2].set_ylabel('LnZ')\n",
    "ax[3].set_ylabel('-LnZ-Energy')\n",
    "\n",
    "plt.tight_layout(h_pad=0.5, w_pad=0.6)\n",
    "#plt.savefig('fig1.pdf', format='pdf', dpi=100)"
   ]
  }
 ],
 "metadata": {
  "colab": {
   "collapsed_sections": [],
   "name": "find_Z_opt_eps.ipynb",
   "provenance": []
  },
  "kernelspec": {
   "display_name": "Python 3",
   "language": "python",
   "name": "python3"
  },
  "language_info": {
   "codemirror_mode": {
    "name": "ipython",
    "version": 3
   },
   "file_extension": ".py",
   "mimetype": "text/x-python",
   "name": "python",
   "nbconvert_exporter": "python",
   "pygments_lexer": "ipython3",
   "version": "3.7.3"
  }
 },
 "nbformat": 4,
 "nbformat_minor": 1
}
