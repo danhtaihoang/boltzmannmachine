{
 "cells": [
  {
   "cell_type": "code",
   "execution_count": 1,
   "metadata": {},
   "outputs": [],
   "source": [
    "import matplotlib.pyplot as plt\n",
    "import numpy as np\n",
    "import numpy.linalg as nplin\n",
    "import itertools"
   ]
  },
  {
   "cell_type": "code",
   "execution_count": 2,
   "metadata": {},
   "outputs": [],
   "source": [
    "np.random.seed(0)"
   ]
  },
  {
   "cell_type": "code",
   "execution_count": 3,
   "metadata": {},
   "outputs": [],
   "source": [
    "def operators(s):\n",
    "    #generate terms in the energy function\n",
    "    n_seq,n_var = s.shape\n",
    "    ops = np.zeros((n_seq,n_var+int(n_var*(n_var-1)/2.0)))\n",
    "\n",
    "    jindex = 0\n",
    "    for index in range(n_var):\n",
    "        ops[:,jindex] = s[:,index]\n",
    "        jindex +=1\n",
    "\n",
    "    for index in range(n_var-1):\n",
    "        for index1 in range(index+1,n_var):\n",
    "            ops[:,jindex] = s[:,index]*s[:,index1]\n",
    "            jindex +=1\n",
    "            \n",
    "    return ops"
   ]
  },
  {
   "cell_type": "code",
   "execution_count": 4,
   "metadata": {},
   "outputs": [],
   "source": [
    "def energy_ops(ops,w):\n",
    "    return np.sum(ops*w[np.newaxis,:],axis=1)"
   ]
  },
  {
   "cell_type": "code",
   "execution_count": 5,
   "metadata": {},
   "outputs": [],
   "source": [
    "def generate_seqs(n_var,n_seq,n_sample=30,g=1.0):\n",
    "    samples = np.random.choice([1.0,-1.0],size=(n_seq*n_sample,n_var),replace=True)\n",
    "    ops = operators(samples)\n",
    "    n_ops = ops.shape[1]\n",
    "\n",
    "    #w_true = g*(np.random.rand(ops.shape[1])-0.5)/np.sqrt(float(n_var))\n",
    "    w_true = np.random.normal(0.,g/np.sqrt(n_var),size=n_ops)\n",
    "\n",
    "    sample_energy = energy_ops(ops,w_true)\n",
    "    p = np.exp(sample_energy)\n",
    "    p /= np.sum(p)\n",
    "    out_samples = np.random.choice(np.arange(n_seq*n_sample),size=n_seq,replace=True,p=p)\n",
    "    \n",
    "    return w_true,samples[out_samples] #,p[out_samples],sample_energy[out_samples]"
   ]
  },
  {
   "cell_type": "code",
   "execution_count": 6,
   "metadata": {},
   "outputs": [],
   "source": [
    "def eps_machine(s,eps_scale=.01,max_iter=151,alpha=0.1):\n",
    "    MSE = np.zeros(max_iter)\n",
    "    KL = np.zeros(max_iter)\n",
    "    E_av = np.zeros(max_iter)\n",
    "    \n",
    "    n_seq,n_var = s.shape\n",
    "    ops = operators(s)\n",
    "    n_ops = ops.shape[1]\n",
    "    cov_inv = np.eye(ops.shape[1])\n",
    "\n",
    "    np.random.seed(13)\n",
    "    w = np.random.rand(n_ops)-0.5\n",
    "    for i in range(max_iter): \n",
    "        \n",
    "        #eps_scale = np.random.rand()/np.max([1.,np.max(np.abs(w))])\n",
    "        \n",
    "        energies_w = energy_ops(ops,w)\n",
    "        probs_w = np.exp(-energies_w*(1-eps_scale))\n",
    "        z_data = np.sum(probs_w)\n",
    "        probs_w /= z_data\n",
    "        ops_expect_w = np.sum(probs_w[:,np.newaxis]*ops,axis=0)\n",
    "        \n",
    "        #if iterate%int(max_iter/5.0)==0:\n",
    "        E_exp = (probs_w*energies_w).sum()\n",
    "        KL[i] = -E_exp - np.log(z_data) + np.sum(np.log(np.cosh(w*eps_scale))) + n_var*np.log(2.)\n",
    "        \n",
    "        E_av[i] = energies_w.mean()\n",
    "        MSE[i] = ((w-w_true)**2).mean()\n",
    "        #print(RMSE[i])\n",
    "        \n",
    "        #print(eps_scale,iterate,nplin.norm(w-w_true),RMSE,KL,E_av)\n",
    "\n",
    "        sec_order = w*eps_scale\n",
    "        w += alpha*cov_inv.dot((ops_expect_w - sec_order))\n",
    "        \n",
    "    #print('final ',eps_scale,iterate,nplin.norm(w-w_true))\n",
    "    \n",
    "    return MSE,KL,-E_av"
   ]
  },
  {
   "cell_type": "code",
   "execution_count": 7,
   "metadata": {
    "scrolled": true
   },
   "outputs": [
    {
     "name": "stdout",
     "output_type": "stream",
     "text": [
      "eps: 0.01\n",
      "eps: 0.1\n",
      "eps: 0.2\n",
      "eps: 0.3\n",
      "eps: 0.4\n",
      "eps: 0.5\n",
      "eps: 0.6\n",
      "eps: 0.7\n",
      "eps: 0.8\n",
      "eps: 0.9\n",
      "eps: 0.99\n"
     ]
    }
   ],
   "source": [
    "max_iter = 100\n",
    "\n",
    "n_var,n_seq = 40,5000\n",
    "g = 1.\n",
    "\n",
    "w_true,seqs = generate_seqs(n_var,n_seq,g=g)\n",
    "\n",
    "#eps_list = np.linspace(0,1.0,11)\n",
    "eps_list = [0.01,0.1,0.2,0.3,0.4,0.5,0.6,0.7,0.8,0.9,0.99]\n",
    "n_eps = len(eps_list)\n",
    "\n",
    "#w = np.zeros((n_eps,max_iter,))\n",
    "MSE = np.zeros((n_eps,max_iter))\n",
    "KL = np.zeros((n_eps,max_iter))\n",
    "E_av = np.zeros((n_eps,max_iter))\n",
    "\n",
    "for i,eps in enumerate(eps_list):     \n",
    "    print('eps:',eps)\n",
    "    MSE[i,:],KL[i,:],E_av[i,:] = eps_machine(seqs,eps_scale=eps,max_iter=max_iter)"
   ]
  },
  {
   "cell_type": "code",
   "execution_count": 18,
   "metadata": {},
   "outputs": [],
   "source": [
    "MSE_eps = np.zeros(n_eps)\n",
    "MSE_eps_KL = np.zeros(n_eps)\n",
    "KL_eps = np.zeros(n_eps)\n",
    "E_eps = np.zeros(n_eps)\n",
    "for i in range(n_eps):\n",
    "    it = np.argmin(KL[i,:])    \n",
    "    MSE_eps_KL[i] = MSE[i,it]\n",
    "    #KL_eps[i] = KL[i,it]\n",
    "    #E_eps[i] = E_av[i,:].min()\n",
    "    \n",
    "    ### the last value\n",
    "    MSE_eps[i] = MSE[i,-1]\n",
    "    #KL_eps[i] = KL[i,it]\n",
    "    E_eps[i] = E_av[i,-1].min()"
   ]
  },
  {
   "cell_type": "code",
   "execution_count": 12,
   "metadata": {},
   "outputs": [
    {
     "data": {
      "text/plain": [
       "array([-134.62684594,  -89.78413425,  -62.02276315,  -46.30058238,\n",
       "        -37.2340238 ,  -32.35629193,  -30.28859952,  -30.4105041 ,\n",
       "        -33.2604401 ,  -42.51708825,  -93.17879245])"
      ]
     },
     "execution_count": 12,
     "metadata": {},
     "output_type": "execute_result"
    }
   ],
   "source": [
    "E_eps"
   ]
  },
  {
   "cell_type": "code",
   "execution_count": 20,
   "metadata": {
    "scrolled": true
   },
   "outputs": [
    {
     "data": {
      "image/png": "[encoded data removed]",
      "text/plain": [
       "<Figure size 504x432 with 4 Axes>"
      ]
     },
     "metadata": {
      "needs_background": "light"
     },
     "output_type": "display_data"
    }
   ],
   "source": [
    "ieps_show = [3,6,9]\n",
    "\n",
    "nx,ny = 2,2\n",
    "fig, ax = plt.subplots(ny,nx,figsize=(nx*3.5,ny*3))\n",
    "\n",
    "for i in ieps_show:\n",
    "    ax[0,0].plot(MSE[i],label='eps=%s'%eps_list[i])\n",
    "    ax[1,0].plot(E_av[i],label='eps=%s'%eps_list[i])\n",
    "\n",
    "ax[0,1].plot(eps_list[:],MSE_eps[:],'ko--')\n",
    "ax[0,1].plot(eps_list[:],MSE_eps_KL[:],'bs--')\n",
    "ax[1,1].plot(eps_list[:],E_eps[:],'ko--')\n",
    "\n",
    "#ax[0,0].set_ylim([0,0.005])\n",
    "#ax[1,0].set_ylim([3.5,7])\n",
    "#ax[3,1].set_ylim([0,0.008])\n",
    "\n",
    "ax[0,0].legend()\n",
    "\n",
    "plt.tight_layout(h_pad=1, w_pad=1.5)\n",
    "#plt.savefig('fig.pdf', format='pdf', dpi=100)"
   ]
  },
  {
   "cell_type": "code",
   "execution_count": 10,
   "metadata": {},
   "outputs": [
    {
     "data": {
      "text/plain": [
       "0.009728279993186198"
      ]
     },
     "execution_count": 10,
     "metadata": {},
     "output_type": "execute_result"
    }
   ],
   "source": [
    "min(MSE_eps)"
   ]
  },
  {
   "cell_type": "code",
   "execution_count": 16,
   "metadata": {},
   "outputs": [],
   "source": [
    "np.savetxt('MSE_l5k.txt',MSE,fmt='%f')\n",
    "np.savetxt('E_av_l5k.txt',E_av,fmt='%f')"
   ]
  },
  {
   "cell_type": "code",
   "execution_count": null,
   "metadata": {},
   "outputs": [],
   "source": []
  }
 ],
 "metadata": {
  "kernelspec": {
   "display_name": "Python 3",
   "language": "python",
   "name": "python3"
  },
  "language_info": {
   "codemirror_mode": {
    "name": "ipython",
    "version": 3
   },
   "file_extension": ".py",
   "mimetype": "text/x-python",
   "name": "python",
   "nbconvert_exporter": "python",
   "pygments_lexer": "ipython3",
   "version": "3.7.3"
  }
 },
 "nbformat": 4,
 "nbformat_minor": 2
}
