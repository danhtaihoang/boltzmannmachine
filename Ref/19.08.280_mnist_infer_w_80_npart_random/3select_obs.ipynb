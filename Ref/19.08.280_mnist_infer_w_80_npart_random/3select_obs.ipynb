{
 "cells": [
  {
   "cell_type": "code",
   "execution_count": 1,
   "metadata": {},
   "outputs": [],
   "source": [
    "import numpy as np\n",
    "import matplotlib.pyplot as plt\n",
    "#import emachine as EM"
   ]
  },
  {
   "cell_type": "code",
   "execution_count": 2,
   "metadata": {},
   "outputs": [],
   "source": [
    "np.random.seed(0)"
   ]
  },
  {
   "cell_type": "code",
   "execution_count": 3,
   "metadata": {},
   "outputs": [],
   "source": [
    "s0 = np.loadtxt('../MNIST_data/mnist_test.csv',delimiter=',')"
   ]
  },
  {
   "cell_type": "code",
   "execution_count": 4,
   "metadata": {},
   "outputs": [
    {
     "name": "stdout",
     "output_type": "stream",
     "text": [
      "(10000, 784) (10000,)\n"
     ]
    }
   ],
   "source": [
    "seq = s0[:,1:] \n",
    "label = s0[:,0]\n",
    "print(seq.shape,label.shape)"
   ]
  },
  {
   "cell_type": "code",
   "execution_count": 5,
   "metadata": {},
   "outputs": [
    {
     "name": "stdout",
     "output_type": "stream",
     "text": [
      "8 (974, 784) (974,)\n"
     ]
    }
   ],
   "source": [
    "# select only 1 digit\n",
    "digit = 8\n",
    "i = label == digit\n",
    "label1 = label[i]\n",
    "seq1 = seq[i]\n",
    "print(digit,seq1.shape,label1.shape)\n",
    "\n",
    "# convert to binary\n",
    "seq1 = np.sign(seq1-1.5)"
   ]
  },
  {
   "cell_type": "code",
   "execution_count": 6,
   "metadata": {},
   "outputs": [],
   "source": [
    "t = 2 \n",
    "seq1 = seq1[t]"
   ]
  },
  {
   "cell_type": "code",
   "execution_count": 7,
   "metadata": {},
   "outputs": [
    {
     "name": "stdout",
     "output_type": "stream",
     "text": [
      "(28, 28)\n"
     ]
    }
   ],
   "source": [
    "# cut the boudaries \n",
    "# combine pixels to reduce the size of image\n",
    "#n = seq1.shape[0]\n",
    "m = int(np.sqrt(seq1.shape[0]))\n",
    "seq2 = seq1.reshape(m,m) # recover the image\n",
    "print(seq2.shape)\n",
    "\n",
    "# reduce the size\n",
    "#seq2 = seq2[:,4:24,4:24]\n",
    "# 3D to 2D\n",
    "#seq1 = seq2.reshape(n,-1)"
   ]
  },
  {
   "cell_type": "code",
   "execution_count": 8,
   "metadata": {
    "scrolled": false
   },
   "outputs": [
    {
     "data": {
      "text/plain": [
       "<matplotlib.image.AxesImage at 0x7f9a49db5e80>"
      ]
     },
     "execution_count": 8,
     "metadata": {},
     "output_type": "execute_result"
    },
    {
     "data": {
      "image/png": "[encoded data removed]",
      "text/plain": [
       "<Figure size 504x201.6 with 2 Axes>"
      ]
     },
     "metadata": {
      "needs_background": "light"
     },
     "output_type": "display_data"
    }
   ],
   "source": [
    "seq_obs = np.copy(seq2)\n",
    "seq_obs[7:20,13:15] = 0.\n",
    "\n",
    "nx,ny = 2,1\n",
    "nfig = nx*ny\n",
    "fig, ax = plt.subplots(ny,nx,figsize=(nx*3.5,ny*2.8))\n",
    "\n",
    "ax[0].imshow(seq2,interpolation='nearest')\n",
    "ax[1].imshow(seq_obs,interpolation='nearest')"
   ]
  },
  {
   "cell_type": "code",
   "execution_count": 9,
   "metadata": {},
   "outputs": [
    {
     "data": {
      "text/plain": [
       "(784,)"
      ]
     },
     "execution_count": 9,
     "metadata": {},
     "output_type": "execute_result"
    }
   ],
   "source": [
    "seq1.shape"
   ]
  },
  {
   "cell_type": "code",
   "execution_count": 10,
   "metadata": {},
   "outputs": [
    {
     "data": {
      "text/plain": [
       "176"
      ]
     },
     "execution_count": 10,
     "metadata": {},
     "output_type": "execute_result"
    }
   ],
   "source": [
    "i_pos = np.array([i for i in range(len(seq1)) if seq1[i] == 1])\n",
    "len(i_pos)"
   ]
  },
  {
   "cell_type": "code",
   "execution_count": 11,
   "metadata": {
    "scrolled": false
   },
   "outputs": [
    {
     "name": "stdout",
     "output_type": "stream",
     "text": [
      "[16]\n"
     ]
    },
    {
     "data": {
      "text/plain": [
       "<matplotlib.image.AxesImage at 0x7f9a49961550>"
      ]
     },
     "execution_count": 11,
     "metadata": {},
     "output_type": "execute_result"
    },
    {
     "data": {
      "image/png": "[encoded data removed]",
      "text/plain": [
       "<Figure size 504x201.6 with 2 Axes>"
      ]
     },
     "metadata": {
      "needs_background": "light"
     },
     "output_type": "display_data"
    }
   ],
   "source": [
    "seq_obs = np.copy(seq2)\n",
    "seq_obs[4:8,12:16] = 0.\n",
    "\n",
    "i_list = seq_obs.reshape((784,-1)) == 0.\n",
    "print(sum(i_list))\n",
    "\n",
    "nx,ny = 2,1\n",
    "nfig = nx*ny\n",
    "fig, ax = plt.subplots(ny,nx,figsize=(nx*3.5,ny*2.8))\n",
    "\n",
    "ax[0].imshow(seq2,interpolation='nearest')\n",
    "ax[1].imshow(seq_obs,interpolation='nearest')"
   ]
  },
  {
   "cell_type": "code",
   "execution_count": 12,
   "metadata": {},
   "outputs": [
    {
     "name": "stdout",
     "output_type": "stream",
     "text": [
      "[40]\n"
     ]
    },
    {
     "data": {
      "text/plain": [
       "<matplotlib.image.AxesImage at 0x7f9a495483c8>"
      ]
     },
     "execution_count": 12,
     "metadata": {},
     "output_type": "execute_result"
    },
    {
     "data": {
      "image/png": "[encoded data removed]",
      "text/plain": [
       "<Figure size 504x201.6 with 2 Axes>"
      ]
     },
     "metadata": {
      "needs_background": "light"
     },
     "output_type": "display_data"
    }
   ],
   "source": [
    "seq_obs = np.copy(seq2)\n",
    "seq_obs[17:25,14:19] = 0.\n",
    "\n",
    "i_list = seq_obs.reshape((784,-1)) == 0.\n",
    "print(sum(i_list))\n",
    "\n",
    "nx,ny = 2,1\n",
    "nfig = nx*ny\n",
    "fig, ax = plt.subplots(ny,nx,figsize=(nx*3.5,ny*2.8))\n",
    "\n",
    "ax[0].imshow(seq2,interpolation='nearest')\n",
    "ax[1].imshow(seq_obs,interpolation='nearest')"
   ]
  },
  {
   "cell_type": "code",
   "execution_count": 13,
   "metadata": {},
   "outputs": [
    {
     "name": "stdout",
     "output_type": "stream",
     "text": [
      "40\n",
      "23\n"
     ]
    }
   ],
   "source": [
    "seq_obs1 = seq_obs.reshape((784,-1))\n",
    "i_hidden = np.array([i for i in range(len(seq_obs1)) if seq_obs1[i] == 0])\n",
    "print(len(i_hidden))\n",
    "\n",
    "i_hidden_pos = np.intersect1d(i_pos,i_hidden)\n",
    "print(len(i_hidden_pos))\n",
    "\n",
    "np.savetxt('cols_hidden.dat',i_hidden_pos,fmt='%i')"
   ]
  },
  {
   "cell_type": "code",
   "execution_count": 14,
   "metadata": {},
   "outputs": [],
   "source": [
    "# observed columns\n",
    "#seq_obs1 = seq_obs.reshape(n,-1)\n",
    "#m = seq_obs1.shape[1]\n",
    "#cols_obs = [i for i in range(m) if seq_obs1[0,i] != 0]\n",
    "#len(cols_obs)"
   ]
  },
  {
   "cell_type": "code",
   "execution_count": 15,
   "metadata": {},
   "outputs": [],
   "source": [
    "#cols_hidden = np.setdiff1d(np.arange(m),cols_obs)\n",
    "#print(len(cols_hidden))\n",
    "#np.savetxt('cols_obs.txt',cols_obs,fmt='%i')\n",
    "#np.savetxt('cols_hidden.txt',cols_hidden,fmt='%i')"
   ]
  },
  {
   "cell_type": "code",
   "execution_count": null,
   "metadata": {},
   "outputs": [],
   "source": []
  }
 ],
 "metadata": {
  "kernelspec": {
   "display_name": "Python 3",
   "language": "python",
   "name": "python3"
  },
  "language_info": {
   "codemirror_mode": {
    "name": "ipython",
    "version": 3
   },
   "file_extension": ".py",
   "mimetype": "text/x-python",
   "name": "python",
   "nbconvert_exporter": "python",
   "pygments_lexer": "ipython3",
   "version": "3.7.3"
  }
 },
 "nbformat": 4,
 "nbformat_minor": 2
}
