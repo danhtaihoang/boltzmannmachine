{
 "cells": [
  {
   "cell_type": "code",
   "execution_count": 1,
   "metadata": {},
   "outputs": [],
   "source": [
    "import numpy as np\n",
    "from sklearn.preprocessing import OneHotEncoder"
   ]
  },
  {
   "cell_type": "code",
   "execution_count": 2,
   "metadata": {
    "scrolled": false
   },
   "outputs": [
    {
     "name": "stdout",
     "output_type": "stream",
     "text": [
      "(372, 20)\n",
      "[[48.    80.     1.02  ... -1.    -1.     1.   ]\n",
      " [ 7.    50.     1.02  ... -1.    -1.     1.   ]\n",
      " [62.    80.     1.01  ... -1.     1.     1.   ]\n",
      " ...\n",
      " [12.    80.     1.02  ... -1.    -1.     0.   ]\n",
      " [17.    60.     1.025 ... -1.    -1.     0.   ]\n",
      " [58.    80.     1.025 ... -1.    -1.     0.   ]]\n"
     ]
    }
   ],
   "source": [
    "Xy = np.loadtxt('data_processed.dat')\n",
    "\n",
    "print(Xy.shape)\n",
    "print(Xy)"
   ]
  },
  {
   "cell_type": "markdown",
   "metadata": {},
   "source": [
    "We find number of unique value for each column, to have an idea about which variables are continuous, which variables are binary, category. It depends on data, however it is likely that nu = 2 --> binary; nu = 3 or 4: --> category, n > 4: continuous. Of course, we have to see data in detail as well."
   ]
  },
  {
   "cell_type": "code",
   "execution_count": 4,
   "metadata": {
    "scrolled": false
   },
   "outputs": [
    {
     "name": "stdout",
     "output_type": "stream",
     "text": [
      "number of uniques of each variable:\n",
      "[ 74  10   5   6   6   2   2   2 141 111  76 113  42   2   2   2   2   2\n",
      "   2]\n"
     ]
    }
   ],
   "source": [
    "X = Xy[:,:-1]\n",
    "l,n = X.shape\n",
    "nu = np.array([len(np.unique(X[:,i])) for i in range(n)])\n",
    "print('number of uniques of each variable:')\n",
    "print(nu)"
   ]
  },
  {
   "cell_type": "code",
   "execution_count": 5,
   "metadata": {},
   "outputs": [
    {
     "name": "stdout",
     "output_type": "stream",
     "text": [
      "[1. 1. 1. 1. 1. 2. 2. 2. 1. 1. 1. 1. 1. 2. 2. 2. 2. 2. 2.]\n"
     ]
    }
   ],
   "source": [
    "# We then define variable type, 1: continuous, 2: binary, 3: category.\n",
    "variable_type  = np.ones(n) # continuous\n",
    "variable_type[5:8] = 2 # binary\n",
    "variable_type[13:] = 2 # binary\n",
    "\n",
    "print(variable_type)"
   ]
  },
  {
   "cell_type": "code",
   "execution_count": 6,
   "metadata": {},
   "outputs": [],
   "source": [
    "def convert_continuous_to_binary(x,variable_type):\n",
    "    \"\"\"\n",
    "    convert continuous to binary by subtracting them with mean values.\n",
    "    \"\"\"\n",
    "    \n",
    "    # create 2 initial columns\n",
    "    x_new = np.zeros((x.shape[0],2))\n",
    "\n",
    "    for i,i_type in enumerate(variable_type):\n",
    "        if i_type == 1: # continuous            \n",
    "            x1 = np.sign(x[:,i] - x[:,i].mean())            \n",
    "        x_new = np.hstack((x_new,x1[:,np.newaxis]))\n",
    "    # drop the 2 initial column\n",
    "    x_new = x_new[:,2:]\n",
    "    \n",
    "    return x_new.astype(float)"
   ]
  },
  {
   "cell_type": "code",
   "execution_count": 7,
   "metadata": {},
   "outputs": [],
   "source": [
    "X_new = convert_continuous_to_binary(X,variable_type)"
   ]
  },
  {
   "cell_type": "code",
   "execution_count": 8,
   "metadata": {},
   "outputs": [
    {
     "name": "stdout",
     "output_type": "stream",
     "text": [
      "number of uniques of each variable:\n",
      "[2 2 2 2 2 2 2 2 2 2 2 2 2 2 2 2 2 2 2]\n"
     ]
    }
   ],
   "source": [
    "nu = np.array([len(np.unique(X_new[:,i])) for i in range(n)])\n",
    "print('number of uniques of each variable:')\n",
    "print(nu)"
   ]
  },
  {
   "cell_type": "code",
   "execution_count": 11,
   "metadata": {},
   "outputs": [
    {
     "name": "stdout",
     "output_type": "stream",
     "text": [
      "[[-1.  1.  1. ...  1.  1.  1.]\n",
      " [-1. -1.  1. ... -1. -1. -1.]\n",
      " [ 1.  1. -1. ... -1. -1. -1.]\n",
      " ...\n",
      " [-1.  1.  1. ...  1.  1.  1.]\n",
      " [-1. -1.  1. ...  1.  1.  1.]\n",
      " [ 1.  1.  1. ...  1.  1.  1.]]\n"
     ]
    }
   ],
   "source": [
    "print(X_new)"
   ]
  },
  {
   "cell_type": "code",
   "execution_count": 13,
   "metadata": {},
   "outputs": [
    {
     "name": "stdout",
     "output_type": "stream",
     "text": [
      "0 (array([-1.,  1.]), array([166, 206]))\n",
      "1 (array([-1.,  1.]), array([178, 194]))\n",
      "2 (array([-1.,  1.]), array([161, 211]))\n",
      "3 (array([-1.,  1.]), array([220, 152]))\n",
      "4 (array([-1.,  1.]), array([313,  59]))\n",
      "5 (array([-1.,  1.]), array([313,  59]))\n",
      "6 (array([-1.,  1.]), array([313,  59]))\n",
      "7 (array([-1.,  1.]), array([313,  59]))\n",
      "8 (array([-1.,  1.]), array([274,  98]))\n",
      "9 (array([-1.,  1.]), array([273,  99]))\n",
      "10 (array([-1.,  1.]), array([279,  93]))\n",
      "11 (array([-1.,  1.]), array([164, 208]))\n",
      "12 (array([-1.,  1.]), array([148, 224]))\n",
      "13 (array([-1.,  1.]), array([148, 224]))\n",
      "14 (array([-1.,  1.]), array([148, 224]))\n",
      "15 (array([-1.,  1.]), array([148, 224]))\n",
      "16 (array([-1.,  1.]), array([148, 224]))\n",
      "17 (array([-1.,  1.]), array([148, 224]))\n",
      "18 (array([-1.,  1.]), array([148, 224]))\n"
     ]
    }
   ],
   "source": [
    "for i in range(n):\n",
    "    print(i,np.unique(X_new[:,i],return_counts=True))"
   ]
  },
  {
   "cell_type": "code",
   "execution_count": 15,
   "metadata": {},
   "outputs": [],
   "source": [
    "# disease vs non-disease\n",
    "# select non-disease\n",
    "t = Xy[:,-1] == 0\n",
    "X1 = X_new[t]\n",
    "X2 = X_new[~t]"
   ]
  },
  {
   "cell_type": "code",
   "execution_count": 16,
   "metadata": {},
   "outputs": [
    {
     "name": "stdout",
     "output_type": "stream",
     "text": [
      "0 (array([-1.,  1.]), array([92, 57])) (array([-1.,  1.]), array([ 74, 149]))\n",
      "1 (array([-1.,  1.]), array([83, 66])) (array([-1.,  1.]), array([ 95, 128]))\n",
      "2 (array([1.]), array([149])) (array([-1.,  1.]), array([161,  62]))\n",
      "3 (array([-1.]), array([149])) (array([-1.,  1.]), array([ 71, 152]))\n",
      "4 (array([-1.]), array([149])) (array([-1.,  1.]), array([164,  59]))\n",
      "5 (array([-1.]), array([149])) (array([-1.,  1.]), array([164,  59]))\n",
      "6 (array([-1.]), array([149])) (array([-1.,  1.]), array([164,  59]))\n",
      "7 (array([-1.]), array([149])) (array([-1.,  1.]), array([164,  59]))\n",
      "8 (array([-1.]), array([149])) (array([-1.,  1.]), array([125,  98]))\n",
      "9 (array([-1.]), array([149])) (array([-1.,  1.]), array([124,  99]))\n",
      "10 (array([-1.]), array([149])) (array([-1.,  1.]), array([130,  93]))\n",
      "11 (array([1.]), array([149])) (array([-1.,  1.]), array([164,  59]))\n",
      "12 (array([1.]), array([149])) (array([-1.,  1.]), array([148,  75]))\n",
      "13 (array([1.]), array([149])) (array([-1.,  1.]), array([148,  75]))\n",
      "14 (array([1.]), array([149])) (array([-1.,  1.]), array([148,  75]))\n",
      "15 (array([1.]), array([149])) (array([-1.,  1.]), array([148,  75]))\n",
      "16 (array([1.]), array([149])) (array([-1.,  1.]), array([148,  75]))\n",
      "17 (array([1.]), array([149])) (array([-1.,  1.]), array([148,  75]))\n",
      "18 (array([1.]), array([149])) (array([-1.,  1.]), array([148,  75]))\n"
     ]
    }
   ],
   "source": [
    "for i in range(n):\n",
    "    print(i,np.unique(X1[:,i],return_counts=True),np.unique(X2[:,i],return_counts=True))"
   ]
  },
  {
   "cell_type": "code",
   "execution_count": 18,
   "metadata": {},
   "outputs": [],
   "source": [
    "np.savetxt('data_binary_nondisease.txt',X1,fmt='%i')\n",
    "np.savetxt('data_binary_disease.txt',X2,fmt='%i')\n",
    "np.savetxt('data_binary.txt',X_new,fmt='%i')"
   ]
  },
  {
   "cell_type": "code",
   "execution_count": null,
   "metadata": {},
   "outputs": [],
   "source": []
  }
 ],
 "metadata": {
  "kernelspec": {
   "display_name": "Python 3",
   "language": "python",
   "name": "python3"
  },
  "language_info": {
   "codemirror_mode": {
    "name": "ipython",
    "version": 3
   },
   "file_extension": ".py",
   "mimetype": "text/x-python",
   "name": "python",
   "nbconvert_exporter": "python",
   "pygments_lexer": "ipython3",
   "version": "3.7.3"
  }
 },
 "nbformat": 4,
 "nbformat_minor": 2
}
