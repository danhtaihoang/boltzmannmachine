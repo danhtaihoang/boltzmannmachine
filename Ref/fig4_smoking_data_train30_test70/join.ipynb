{
 "cells": [
  {
   "cell_type": "code",
   "execution_count": 1,
   "metadata": {},
   "outputs": [],
   "source": [
    "import numpy as np"
   ]
  },
  {
   "cell_type": "code",
   "execution_count": 2,
   "metadata": {},
   "outputs": [
    {
     "name": "stdout",
     "output_type": "stream",
     "text": [
      "[[2.48273508e-312 2.05833592e-312 2.05833592e-312 2.29175545e-312\n",
      "  2.07955588e-312]]\n"
     ]
    }
   ],
   "source": [
    "#a = np.array([])\n",
    "#a = []\n",
    "a = np.empty((1,5))\n",
    "print(a)\n",
    "\n",
    "b = np.array([1,-1,1,1,-1])\n",
    "c = np.array([-1,-1,-1,-1,-1])"
   ]
  },
  {
   "cell_type": "code",
   "execution_count": 3,
   "metadata": {},
   "outputs": [
    {
     "name": "stdout",
     "output_type": "stream",
     "text": [
      "[ 2.48273508e-312  2.05833592e-312  2.05833592e-312  2.29175545e-312\n",
      "  2.07955588e-312  1.00000000e+000 -1.00000000e+000  1.00000000e+000\n",
      "  1.00000000e+000 -1.00000000e+000]\n"
     ]
    }
   ],
   "source": [
    "a = np.append(a, b[np.newaxis,:])\n",
    "print(a)"
   ]
  },
  {
   "cell_type": "code",
   "execution_count": 10,
   "metadata": {},
   "outputs": [
    {
     "name": "stdout",
     "output_type": "stream",
     "text": [
      "[[ 5.e-324      nan  5.e-324  5.e-324      nan]\n",
      " [ 1.e+000 -1.e+000  1.e+000  1.e+000 -1.e+000]]\n"
     ]
    }
   ],
   "source": [
    "a = np.empty((1,5))\n",
    "#print(a)\n",
    "b = np.array([1,-1,1,1,-1])\n",
    "a = np.vstack((a, b[np.newaxis,:]))\n",
    "print(a)"
   ]
  },
  {
   "cell_type": "code",
   "execution_count": 21,
   "metadata": {},
   "outputs": [
    {
     "name": "stdout",
     "output_type": "stream",
     "text": [
      "[[ 1 -1  1  1 -1]\n",
      " [-1 -1 -1 -1 -1]]\n"
     ]
    }
   ],
   "source": [
    "a = np.array([])\n",
    "#print(a)\n",
    "b = np.array([1,-1,1,1,-1])\n",
    "c = np.array([-1,-1,-1,-1,-1])\n",
    "\n",
    "a = np.vstack([a, b[np.newaxis,:]]) if a.size else b\n",
    "\n",
    "a = np.vstack([a, c[np.newaxis,:]]) if a.size else c\n",
    "\n",
    "print(a)"
   ]
  },
  {
   "cell_type": "code",
   "execution_count": 16,
   "metadata": {},
   "outputs": [],
   "source": [
    "a = np.empty([])"
   ]
  },
  {
   "cell_type": "code",
   "execution_count": 17,
   "metadata": {},
   "outputs": [
    {
     "data": {
      "text/plain": [
       "1"
      ]
     },
     "execution_count": 17,
     "metadata": {},
     "output_type": "execute_result"
    }
   ],
   "source": [
    "a.size"
   ]
  },
  {
   "cell_type": "code",
   "execution_count": 19,
   "metadata": {},
   "outputs": [
    {
     "name": "stdout",
     "output_type": "stream",
     "text": [
      "[[ 1  2  3  4  5]\n",
      " [10 20 30 40 50]]\n"
     ]
    }
   ],
   "source": [
    "a = np.array([])\n",
    "#print(a)\n",
    "b = np.array([[1,2,3,4,5],[10,20,30,40,50]])\n",
    "a = np.vstack([a, b]) if a.size else b\n",
    "print(a)"
   ]
  },
  {
   "cell_type": "code",
   "execution_count": null,
   "metadata": {},
   "outputs": [],
   "source": []
  }
 ],
 "metadata": {
  "kernelspec": {
   "display_name": "Python 3",
   "language": "python",
   "name": "python3"
  },
  "language_info": {
   "codemirror_mode": {
    "name": "ipython",
    "version": 3
   },
   "file_extension": ".py",
   "mimetype": "text/x-python",
   "name": "python",
   "nbconvert_exporter": "python",
   "pygments_lexer": "ipython3",
   "version": "3.7.3"
  }
 },
 "nbformat": 4,
 "nbformat_minor": 2
}
