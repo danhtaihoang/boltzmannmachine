{
 "cells": [
  {
   "cell_type": "code",
   "execution_count": 1,
   "metadata": {},
   "outputs": [],
   "source": [
    "import numpy as np\n",
    "import matplotlib.pyplot as plt\n",
    "import itertools\n",
    "\n",
    "import emachine as EM"
   ]
  },
  {
   "cell_type": "code",
   "execution_count": 2,
   "metadata": {},
   "outputs": [],
   "source": [
    "np.random.seed(1)"
   ]
  },
  {
   "cell_type": "code",
   "execution_count": 3,
   "metadata": {},
   "outputs": [
    {
     "name": "stdout",
     "output_type": "stream",
     "text": [
      "1076 38\n"
     ]
    }
   ],
   "source": [
    "s0 = np.loadtxt('s_test.dat')\n",
    "l,n = s0.shape\n",
    "print(l,n)"
   ]
  },
  {
   "cell_type": "code",
   "execution_count": 4,
   "metadata": {},
   "outputs": [
    {
     "name": "stdout",
     "output_type": "stream",
     "text": [
      "[8, 18, 33, 36]\n"
     ]
    }
   ],
   "source": [
    "# find conserved variables\n",
    "fc = 0.9\n",
    "l,n = s0.shape\n",
    "frequency = [max(np.unique(s0[:,i], return_counts=True)[1]) for i in range(n)]\n",
    "cols_conserved = [i for i in range(n) if frequency[i]/float(l) > fc]\n",
    "print(cols_conserved)"
   ]
  },
  {
   "cell_type": "code",
   "execution_count": 5,
   "metadata": {},
   "outputs": [
    {
     "name": "stdout",
     "output_type": "stream",
     "text": [
      "34\n"
     ]
    }
   ],
   "source": [
    "cols_active = np.delete(np.arange(0,n),cols_conserved)\n",
    "print(len(cols_active))"
   ]
  },
  {
   "cell_type": "code",
   "execution_count": 6,
   "metadata": {},
   "outputs": [
    {
     "name": "stdout",
     "output_type": "stream",
     "text": [
      "(741,)\n"
     ]
    }
   ],
   "source": [
    "# load predicted w from train set\n",
    "#w_mle = np.loadtxt('w_mle.dat')\n",
    "w_ple = np.loadtxt('w_ple.dat')\n",
    "w_em = np.loadtxt('w_em.dat')\n",
    "print(w_em.shape)"
   ]
  },
  {
   "cell_type": "code",
   "execution_count": 7,
   "metadata": {
    "scrolled": true
   },
   "outputs": [
    {
     "name": "stdout",
     "output_type": "stream",
     "text": [
      "accuracy of MLE, PLE, EM: 14 [0.         0.64013542 0.84081253]\n"
     ]
    }
   ],
   "source": [
    "# random missing position\n",
    "#for n_hidden in [2,4,6,8,10,12,14]:\n",
    "#for n_hidden in [10]:\n",
    "#for n_hidden in [2]:\n",
    "n_hidden = 14\n",
    "\n",
    "# every possibilities of configurations of hiddens\n",
    "s_hidden_possibles = np.asarray(list(itertools.product([1.0, -1.0], repeat=n_hidden)))\n",
    "n_possibles = s_hidden_possibles.shape[0]\n",
    "#print(n_possibles)\n",
    "\n",
    "s_hidden_all = np.array([])\n",
    "s_recover_all1 = np.array([])\n",
    "s_recover_all2 = np.array([])\n",
    "# consider a specific sample t:\n",
    "acc = np.zeros((3,l))\n",
    "for t in range(l):\n",
    "    s = s0[t].copy()\n",
    "    #print(s)\n",
    "\n",
    "    #hidden = np.random.choice(np.arange(17,n),n_hidden,replace=False)\n",
    "    #hidden = np.random.choice(np.arange(0,n),n_hidden,replace=False)\n",
    "\n",
    "    hidden = np.random.choice(cols_active,n_hidden,replace=False)       \n",
    "    #print(hidden)\n",
    "\n",
    "    s_possibles = np.tile(s,(n_possibles,1))\n",
    "    s_possibles[:,hidden] = s_hidden_possibles\n",
    "    #print(s_possibles)\n",
    "\n",
    "    # calculate energy of each possible configuration\n",
    "    ops = EM.operators(s_possibles)\n",
    "\n",
    "    \"\"\"\n",
    "    #----------------------------------------------\n",
    "    # w from MLE\n",
    "    energy0 = -ops.dot(w_mle)    \n",
    "    # select the best sequence that maximize probability\n",
    "    s_hidden_recover0 = s_hidden_possibles[np.argmin(energy0)]\n",
    "    #print(s_hidden_recover)\n",
    "    acc[0,t] = np.sum((s[hidden] == s_hidden_recover0))\n",
    "    #print(acc[t])\n",
    "    \"\"\"\n",
    "    #----------------------------------------------\n",
    "    # w from PLE\n",
    "    energy1 = -ops.dot(w_ple)    \n",
    "    s_hidden_recover1 = s_hidden_possibles[np.argmin(energy1)]\n",
    "    acc[1,t] = np.sum((s[hidden] == s_hidden_recover1))\n",
    "\n",
    "    #----------------------------------------------\n",
    "    # w from EM\n",
    "    energy2 = -ops.dot(w_em)\n",
    "    s_hidden_recover2 = s_hidden_possibles[np.argmin(energy2)]\n",
    "    acc[2,t] = np.sum((s[hidden] == s_hidden_recover2))\n",
    "\n",
    "    # 2019.11.25: for raster plot\n",
    "    # hidden\n",
    "    s[hidden] = 0\n",
    "    s_hidden_all = np.vstack([s_hidden_all,s[np.newaxis,:]]) if s_hidden_all.shape[0]>0 else s\n",
    "\n",
    "    # recover by PLE\n",
    "    s_recover1 = s.copy()\n",
    "    s_recover1[hidden] = s_hidden_recover1\n",
    "    s_recover_all1 = np.vstack([s_recover_all1,s_recover1[np.newaxis,:]]) \\\n",
    "                    if s_recover_all1.shape[0]>0 else s_recover1        \n",
    "\n",
    "    # recover by EM\n",
    "    s_recover2 = s.copy()\n",
    "    s_recover2[hidden] = s_hidden_recover2\n",
    "    s_recover_all2 = np.vstack([s_recover_all2,s_recover2[np.newaxis,:]]) \\\n",
    "                    if s_recover_all2.shape[0]>0 else s_recover2\n",
    "\n",
    "acc_av = acc.sum(axis=1)/(n_hidden*l) \n",
    "print('accuracy of MLE, PLE, EM:',n_hidden,acc_av)"
   ]
  },
  {
   "cell_type": "code",
   "execution_count": 8,
   "metadata": {},
   "outputs": [],
   "source": [
    "np.savetxt('s_hidden_nh%s.dat'%n_hidden,s_hidden_all,fmt='%i')\n",
    "np.savetxt('s_recover_PLE_nh%s.dat'%n_hidden,s_recover_all1,fmt='%i')\n",
    "np.savetxt('s_recover_EM_nh%s.dat'%n_hidden,s_recover_all2,fmt='%i')"
   ]
  },
  {
   "cell_type": "code",
   "execution_count": 10,
   "metadata": {},
   "outputs": [
    {
     "data": {
      "image/png": "[encoded data removed]",
      "text/plain": [
       "<Figure size 324x835.2 with 4 Axes>"
      ]
     },
     "metadata": {
      "needs_background": "light"
     },
     "output_type": "display_data"
    }
   ],
   "source": [
    "nx,ny = 1,4\n",
    "nfig = nx*ny\n",
    "fig, ax = plt.subplots(ny,nx,figsize=(nx*4.5,ny*2.9))\n",
    "\n",
    "tcut = 100\n",
    "\n",
    "#plt.title('raster')\n",
    "ax[0].imshow(s0.T[:,:tcut],origin='lower')\n",
    "ax[1].imshow(s_hidden_all.T[:,:tcut],origin='lower')\n",
    "ax[2].imshow(s_recover_all1.T[:,:tcut],origin='lower')\n",
    "ax[3].imshow(s_recover_all2.T[:,:tcut],origin='lower')\n",
    "\n",
    "#plt.xlabel('samples')\n",
    "#plt.ylabel('variable index')\n",
    "plt.tight_layout(h_pad=1, w_pad=1.5)\n",
    "plt.show()"
   ]
  },
  {
   "cell_type": "code",
   "execution_count": null,
   "metadata": {},
   "outputs": [],
   "source": []
  }
 ],
 "metadata": {
  "kernelspec": {
   "display_name": "Python 3",
   "language": "python",
   "name": "python3"
  },
  "language_info": {
   "codemirror_mode": {
    "name": "ipython",
    "version": 3
   },
   "file_extension": ".py",
   "mimetype": "text/x-python",
   "name": "python",
   "nbconvert_exporter": "python",
   "pygments_lexer": "ipython3",
   "version": "3.7.3"
  }
 },
 "nbformat": 4,
 "nbformat_minor": 2
}
