{
 "cells": [
  {
   "cell_type": "code",
   "execution_count": 1,
   "metadata": {},
   "outputs": [],
   "source": [
    "import numpy as np\n",
    "import matplotlib.pyplot as plt\n",
    "import emachine as EM"
   ]
  },
  {
   "cell_type": "code",
   "execution_count": 2,
   "metadata": {},
   "outputs": [],
   "source": [
    "np.random.seed(0)"
   ]
  },
  {
   "cell_type": "code",
   "execution_count": 3,
   "metadata": {},
   "outputs": [],
   "source": [
    "seqs = np.loadtxt('s_train.dat')"
   ]
  },
  {
   "cell_type": "code",
   "execution_count": 4,
   "metadata": {
    "scrolled": true
   },
   "outputs": [
    {
     "data": {
      "text/plain": [
       "(460, 741)"
      ]
     },
     "execution_count": 4,
     "metadata": {},
     "output_type": "execute_result"
    }
   ],
   "source": [
    "ops = EM.operators(seqs)\n",
    "ops.shape"
   ]
  },
  {
   "cell_type": "code",
   "execution_count": 5,
   "metadata": {
    "scrolled": true
   },
   "outputs": [
    {
     "name": "stdout",
     "output_type": "stream",
     "text": [
      "0 0.5 -120.64053709002287\n",
      "1 0.6 -103.21424571935913\n",
      "2 0.98 -117.56814047498665\n",
      "3 0.99 -133.9202765398716\n"
     ]
    }
   ],
   "source": [
    "#eps_list = np.linspace(0.7,0.95,26)\n",
    "eps_list = [0.5,0.6,0.98,0.99]\n",
    "E_eps = np.zeros(len(eps_list))\n",
    "w_eps = np.zeros((len(eps_list),ops.shape[1]))\n",
    "for i,eps in enumerate(eps_list):    \n",
    "    w_eps[i,:],E_eps[i] = EM.fit(ops,eps=eps,max_iter=100)\n",
    "    print(i,eps,E_eps[i])"
   ]
  },
  {
   "cell_type": "code",
   "execution_count": 6,
   "metadata": {},
   "outputs": [
    {
     "data": {
      "text/plain": [
       "[<matplotlib.lines.Line2D at 0x7faac6c330b8>]"
      ]
     },
     "execution_count": 6,
     "metadata": {},
     "output_type": "execute_result"
    },
    {
     "data": {
      "image/png": "[encoded data removed]",
      "text/plain": [
       "<Figure size 432x288 with 1 Axes>"
      ]
     },
     "metadata": {
      "needs_background": "light"
     },
     "output_type": "display_data"
    }
   ],
   "source": [
    "plt.plot(eps_list,E_eps,'ko-')"
   ]
  },
  {
   "cell_type": "code",
   "execution_count": 7,
   "metadata": {
    "scrolled": true
   },
   "outputs": [
    {
     "name": "stdout",
     "output_type": "stream",
     "text": [
      "The optimal value of eps: 0.6\n"
     ]
    }
   ],
   "source": [
    "ieps = np.argmax(E_eps)\n",
    "print('The optimal value of eps:',eps_list[ieps])"
   ]
  },
  {
   "cell_type": "markdown",
   "metadata": {},
   "source": [
    "So our inferred interactions from our eps machine should be"
   ]
  },
  {
   "cell_type": "code",
   "execution_count": 8,
   "metadata": {},
   "outputs": [],
   "source": [
    "w_em = w_eps[ieps]\n",
    "\n",
    "#np.savetxt('w_em.dat',w_em,fmt='%f')"
   ]
  },
  {
   "cell_type": "code",
   "execution_count": 9,
   "metadata": {},
   "outputs": [],
   "source": [
    "## # Maximum Likelihood Estimation (MLE)\n",
    "#w_mle = EM.MLE_method(seqs)\n",
    "#np.savetxt('w_mle.dat',w_mle,fmt='%f')\n",
    "\n",
    "# Pseudo Likelihood Estimation (PLE)\n",
    "#w_ple = EM.PLE_method(seqs)\n",
    "#np.savetxt('w_ple.dat',w_ple,fmt='%f')\n",
    "\n",
    "#np.savetxt('w_HF.dat',ops.mean(axis=0),fmt='%f')"
   ]
  },
  {
   "cell_type": "code",
   "execution_count": 10,
   "metadata": {},
   "outputs": [],
   "source": [
    "#ieps1 = np.argwhere(eps_list == 0.8)[0]\n",
    "#print(ieps1)\n",
    "#np.savetxt('w_em_eps08.dat',w_eps[ieps1],fmt='%f')\n",
    "\n",
    "#ieps2 = np.argwhere(eps_list == 0.95)[0]\n",
    "#print(ieps2)\n",
    "#np.savetxt('w_em_eps095.dat',w_eps[ieps2],fmt='%f')"
   ]
  },
  {
   "cell_type": "code",
   "execution_count": 12,
   "metadata": {},
   "outputs": [
    {
     "data": {
      "text/plain": [
       "[0.5, 0.6, 0.98, 0.99]"
      ]
     },
     "execution_count": 12,
     "metadata": {},
     "output_type": "execute_result"
    }
   ],
   "source": [
    "eps_list"
   ]
  },
  {
   "cell_type": "code",
   "execution_count": 13,
   "metadata": {},
   "outputs": [],
   "source": [
    "np.savetxt('w_em_eps05.dat',w_eps[0],fmt='%f')\n",
    "np.savetxt('w_em_eps06.dat',w_eps[1],fmt='%f')\n",
    "np.savetxt('w_em_eps098.dat',w_eps[2],fmt='%f')\n",
    "np.savetxt('w_em_eps099.dat',w_eps[3],fmt='%f')"
   ]
  },
  {
   "cell_type": "code",
   "execution_count": null,
   "metadata": {},
   "outputs": [],
   "source": []
  }
 ],
 "metadata": {
  "kernelspec": {
   "display_name": "Python 3",
   "language": "python",
   "name": "python3"
  },
  "language_info": {
   "codemirror_mode": {
    "name": "ipython",
    "version": 3
   },
   "file_extension": ".py",
   "mimetype": "text/x-python",
   "name": "python",
   "nbconvert_exporter": "python",
   "pygments_lexer": "ipython3",
   "version": "3.7.3"
  }
 },
 "nbformat": 4,
 "nbformat_minor": 2
}
