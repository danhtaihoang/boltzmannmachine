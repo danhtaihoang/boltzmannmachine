{
 "cells": [
  {
   "cell_type": "code",
   "execution_count": 1,
   "metadata": {},
   "outputs": [],
   "source": [
    "import numpy as np\n",
    "\n",
    "import matplotlib.pyplot as plt\n",
    "%matplotlib inline"
   ]
  },
  {
   "cell_type": "code",
   "execution_count": 2,
   "metadata": {},
   "outputs": [],
   "source": [
    "np.random.seed(1)"
   ]
  },
  {
   "cell_type": "code",
   "execution_count": 3,
   "metadata": {
    "scrolled": true
   },
   "outputs": [
    {
     "name": "stdout",
     "output_type": "stream",
     "text": [
      "[[ 2.          0.81459108  0.94888476  0.84665428]\n",
      " [ 4.          0.80901487  0.91101301  0.85385688]\n",
      " [ 6.          0.80669145  0.85052664  0.85145601]\n",
      " [ 8.          0.80378717  0.80703996  0.84862918]\n",
      " [10.          0.79869888  0.75046468  0.84814126]\n",
      " [12.          0.80429058  0.69865242  0.84502788]\n",
      " [14.          0.79381306  0.64644185  0.84180828]\n",
      " [16.          0.79298327  0.61071097  0.83538569]]\n"
     ]
    }
   ],
   "source": [
    "acc = np.loadtxt('acc.dat')\n",
    "print(acc)"
   ]
  },
  {
   "cell_type": "code",
   "execution_count": 4,
   "metadata": {},
   "outputs": [],
   "source": [
    "acc_eps = np.loadtxt('acc_eps07_eps098.dat')"
   ]
  },
  {
   "cell_type": "code",
   "execution_count": 9,
   "metadata": {},
   "outputs": [
    {
     "data": {
      "image/png": "[encoded data removed]",
      "text/plain": [
       "<Figure size 252x208.8 with 1 Axes>"
      ]
     },
     "metadata": {
      "needs_background": "light"
     },
     "output_type": "display_data"
    }
   ],
   "source": [
    "nx,ny = 1,1\n",
    "nfig = nx*ny\n",
    "fig, ax = plt.subplots(ny,nx,figsize=(nx*3.5,ny*2.9))\n",
    "\n",
    "#ax.semilogy(t1[0,3:],t1[1,3:],'kv--',mfc='none',markersize=5,label='MLE')\n",
    "#ax.semilogy(t2[0,3:-5],t2[1,3:-5],'bs--',mfc='none',markersize=5,label='PLE')\n",
    "#ax.semilogy(t3[0,3:],t3[1,3:]*9,'ro-',markersize=5,label='EM')\n",
    "\n",
    "ax.plot(acc[3:,0],acc[3:,2],'bs--',mfc='none',markersize=5,label='PLE')\n",
    "#ax.plot(acc[3:,0],acc[3:,2],'ro-',markersize=5,label='EM')\n",
    "ax.plot(acc_eps[:,0],acc_eps[:,1],'ro-',markersize=5,label='EM')\n",
    "ax.plot(acc_eps[:,0],acc_eps[:,2],'r^--',mfc='none',markersize=5,label='eps=0.7')\n",
    "ax.plot(acc_eps[:,0],acc_eps[:,3],'rv--',mfc='none',markersize=5,label='eps=0.98')\n",
    "\n",
    "ax.set_xlabel('Number of missing variables')\n",
    "ax.set_ylabel('Accuracy')\n",
    "ax.legend()\n",
    "#ax.set_ylim([5,1500])\n",
    "\n",
    "# manipulate\n",
    "vals = ax.get_yticks()\n",
    "#ax.set_yticklabels(['{:,.1%}'.format(x) for x in vals])\n",
    "ax.set_yticklabels(['{:,.0%}'.format(x) for x in vals])\n",
    "\n",
    "plt.tight_layout(h_pad=1, w_pad=1.5)\n",
    "#plt.savefig('fig_impute.pdf', format='pdf', dpi=100)"
   ]
  },
  {
   "cell_type": "code",
   "execution_count": null,
   "metadata": {},
   "outputs": [],
   "source": []
  }
 ],
 "metadata": {
  "kernelspec": {
   "display_name": "Python 3",
   "language": "python",
   "name": "python3"
  },
  "language_info": {
   "codemirror_mode": {
    "name": "ipython",
    "version": 3
   },
   "file_extension": ".py",
   "mimetype": "text/x-python",
   "name": "python",
   "nbconvert_exporter": "python",
   "pygments_lexer": "ipython3",
   "version": "3.7.3"
  }
 },
 "nbformat": 4,
 "nbformat_minor": 2
}
