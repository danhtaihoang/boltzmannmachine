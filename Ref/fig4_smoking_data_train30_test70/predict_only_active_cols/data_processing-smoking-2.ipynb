{
 "cells": [
  {
   "cell_type": "markdown",
   "metadata": {},
   "source": [
    "## Data processing\n",
    "\n",
    "This Jupyter Noterbook helps us to convert binary attribute(s) to +/-1, categorical attributes(s) to onehot."
   ]
  },
  {
   "cell_type": "code",
   "execution_count": 14,
   "metadata": {},
   "outputs": [],
   "source": [
    "import numpy as np\n",
    "from sklearn.preprocessing import OneHotEncoder"
   ]
  },
  {
   "cell_type": "markdown",
   "metadata": {},
   "source": [
    "We load the data which were cleaned from the `data cleaning` step."
   ]
  },
  {
   "cell_type": "code",
   "execution_count": 15,
   "metadata": {
    "scrolled": false
   },
   "outputs": [
    {
     "name": "stdout",
     "output_type": "stream",
     "text": [
      "(1574, 94)\n",
      "[['35.0' '2.0' '1.0' ... '0.0' '1.0' '0.0']\n",
      " ['34.0' '1.0' '4.0' ... '0.0' '1.0' '0.0']\n",
      " ['37.0' '2.0' '3.0' ... '0.0' '1.0' '0.0']\n",
      " ...\n",
      " ['28.0' '1.0' '4.0' ... '1.0' '4.0' '0.0']\n",
      " ['29.0' '1.0' '2.0' ... '0.0' '2.0' '0.0']\n",
      " ['47.0' '2.0' '1.0' ... '0.0' '1.0' '0.0']]\n"
     ]
    }
   ],
   "source": [
    "Xy = np.loadtxt('smoking_cleaned.dat', dtype = 'str')\n",
    "\n",
    "print(Xy.shape)\n",
    "print(Xy)"
   ]
  },
  {
   "cell_type": "markdown",
   "metadata": {},
   "source": [
    "### Attributes"
   ]
  },
  {
   "cell_type": "markdown",
   "metadata": {},
   "source": [
    "We find number of unique value for each column, to have an idea about which variables are continuous, which variables are binary, category. It depends on data, however it is likely that nu = 2 --> binary; nu = 3 or 4: --> category, n > 4: continuous. Of course, we have to see data in detail as well."
   ]
  },
  {
   "cell_type": "code",
   "execution_count": 16,
   "metadata": {
    "scrolled": true
   },
   "outputs": [
    {
     "name": "stdout",
     "output_type": "stream",
     "text": [
      "number of uniques of each variable:\n",
      "[  58    2    5    3    5    4    6    3    3    2    2    2    3    4\n",
      "    3    3    3    7    3    3    3    4    3    3    3    3    3    3\n",
      "    8    9    3    3    3    3    3    3    3    4    4    4    4    3\n",
      " 1565   10    4    3    3    3    5    2    3    7    3    2    2    2\n",
      "    3    3    3    3    3    4    2    2    2    2    2    2    2    2\n",
      "    9    2    9    2    2    2    2    2    2    2    2    2    2    2\n",
      "    2    2    2    2    2    2    2    2    4]\n"
     ]
    }
   ],
   "source": [
    "X = Xy[:,:-1]\n",
    "l,n = X.shape\n",
    "nu = np.array([len(np.unique(X[:,i])) for i in range(n)])\n",
    "print('number of uniques of each variable:')\n",
    "print(nu)"
   ]
  },
  {
   "cell_type": "markdown",
   "metadata": {},
   "source": [
    "We then define variable type, 1: continuous, 2: binary, 3: category."
   ]
  },
  {
   "cell_type": "code",
   "execution_count": 17,
   "metadata": {},
   "outputs": [
    {
     "name": "stdout",
     "output_type": "stream",
     "text": [
      "[1. 2. 1. 3. 1. 1. 1. 3. 3. 2. 2. 2. 3. 1. 3. 3. 3. 1. 3. 3. 3. 1. 3. 3.\n",
      " 3. 3. 3. 3. 1. 1. 3. 3. 3. 3. 3. 3. 3. 1. 1. 1. 1. 3. 1. 1. 1. 3. 3. 3.\n",
      " 1. 2. 3. 1. 3. 2. 2. 2. 3. 3. 3. 3. 3. 1. 2. 2. 2. 2. 2. 2. 2. 2. 1. 2.\n",
      " 1. 2. 2. 2. 2. 2. 2. 2. 2. 2. 2. 2. 2. 2. 2. 2. 2. 2. 2. 2. 1.]\n"
     ]
    }
   ],
   "source": [
    "variable_type  = np.ones(n) # continuous\n",
    "variable_type[1] = 2 # binary\n",
    "variable_type[9:12] = 2 # binary\n",
    "variable_type[49] = 2 # binary\n",
    "variable_type[53:56] = 2 # binary\n",
    "variable_type[62:70] = 2 # binary\n",
    "variable_type[71] = 2 # binary\n",
    "variable_type[73:92] = 2 # binary\n",
    "variable_type[3] = 3 # category\n",
    "variable_type[7:9] = 3 # category\n",
    "variable_type[12] = 3 # category\n",
    "variable_type[14:17] = 3 # category\n",
    "variable_type[18:21] = 3 # category\n",
    "variable_type[22:28] = 3 # category    \n",
    "variable_type[30:37] = 3 # category        \n",
    "variable_type[41] = 3 # category            \n",
    "variable_type[45:48] = 3 # category           \n",
    "variable_type[50] = 3 # category                \n",
    "variable_type[52] = 3 # category                \n",
    "variable_type[56:61] = 3 # category                \n",
    "print(variable_type)"
   ]
  },
  {
   "cell_type": "markdown",
   "metadata": {},
   "source": [
    "We now convert binary to +/-1, category to onehot."
   ]
  },
  {
   "cell_type": "code",
   "execution_count": 18,
   "metadata": {},
   "outputs": [],
   "source": [
    "def convert_binary_and_category(x,variable_type):\n",
    "    \"\"\"\n",
    "    convert binary to +-1, category to one hot; remain continuous.\n",
    "    \"\"\"\n",
    "    \n",
    "    onehot_encoder = OneHotEncoder(sparse=False,categories='auto')\n",
    "\n",
    "    # create 2 initial columns\n",
    "    x_new = np.zeros((x.shape[0],2))\n",
    "\n",
    "    for i,i_type in enumerate(variable_type):\n",
    "        if i_type == 1: # continuous\n",
    "            x_new = np.hstack((x_new,x[:,i][:,np.newaxis]))\n",
    "        elif i_type == 2: # binary\n",
    "            unique_value = np.unique(x[:,i])\n",
    "            x1 = np.array([-1. if value == unique_value[0] else 1. for value in x[:,i]])        \n",
    "            x_new = np.hstack((x_new,x1[:,np.newaxis]))\n",
    "        else: # category      \n",
    "            x1 = onehot_encoder.fit_transform(x[:,i].reshape(-1,1))\n",
    "            x_new = np.hstack((x_new,x1))        \n",
    "\n",
    "    # drop the 2 initial column\n",
    "    x_new = x_new[:,2:]\n",
    "    \n",
    "    return x_new.astype(float)"
   ]
  },
  {
   "cell_type": "code",
   "execution_count": 19,
   "metadata": {},
   "outputs": [
    {
     "name": "stdout",
     "output_type": "stream",
     "text": [
      "(1574, 161)\n",
      "[[35.  1.  1. ... -1. -1.  1.]\n",
      " [34. -1.  4. ... -1. -1.  1.]\n",
      " [37.  1.  3. ... -1. -1.  1.]\n",
      " ...\n",
      " [28. -1.  4. ... -1.  1.  4.]\n",
      " [29. -1.  2. ... -1. -1.  2.]\n",
      " [47.  1.  1. ... -1. -1.  1.]]\n"
     ]
    }
   ],
   "source": [
    "# convert X\n",
    "X_new = convert_binary_and_category(X,variable_type)\n",
    "\n",
    "print(X_new.shape)\n",
    "print(X_new)"
   ]
  },
  {
   "cell_type": "markdown",
   "metadata": {},
   "source": [
    "### Target"
   ]
  },
  {
   "cell_type": "code",
   "execution_count": 20,
   "metadata": {
    "scrolled": true
   },
   "outputs": [
    {
     "name": "stdout",
     "output_type": "stream",
     "text": [
      "(array([0., 1.]), array([852, 722]))\n"
     ]
    }
   ],
   "source": [
    "## target\n",
    "y = Xy[:,-1].astype(float)\n",
    "\n",
    "print(np.unique(y,return_counts=True))"
   ]
  },
  {
   "cell_type": "code",
   "execution_count": 21,
   "metadata": {},
   "outputs": [
    {
     "name": "stdout",
     "output_type": "stream",
     "text": [
      "(array([0., 1.]), array([852, 722]))\n"
     ]
    }
   ],
   "source": [
    "y_new = y\n",
    "# convert taget to 0 and 1\n",
    "#y_new = np.ones(y.shape[0])\n",
    "#y_new[y =='notckd'] = 0\n",
    "\n",
    "print(np.unique(y_new,return_counts=True))"
   ]
  },
  {
   "cell_type": "code",
   "execution_count": 22,
   "metadata": {},
   "outputs": [],
   "source": [
    "# combine X and y\n",
    "Xy_new = np.hstack((X_new,y_new[:,np.newaxis]))"
   ]
  },
  {
   "cell_type": "code",
   "execution_count": 23,
   "metadata": {},
   "outputs": [],
   "source": [
    "np.savetxt('smoking_processed.dat',Xy_new,fmt='%f')"
   ]
  },
  {
   "cell_type": "code",
   "execution_count": null,
   "metadata": {},
   "outputs": [],
   "source": []
  }
 ],
 "metadata": {
  "kernelspec": {
   "display_name": "Python 3",
   "language": "python",
   "name": "python3"
  },
  "language_info": {
   "codemirror_mode": {
    "name": "ipython",
    "version": 3
   },
   "file_extension": ".py",
   "mimetype": "text/x-python",
   "name": "python",
   "nbconvert_exporter": "python",
   "pygments_lexer": "ipython3",
   "version": "3.7.3"
  }
 },
 "nbformat": 4,
 "nbformat_minor": 2
}
