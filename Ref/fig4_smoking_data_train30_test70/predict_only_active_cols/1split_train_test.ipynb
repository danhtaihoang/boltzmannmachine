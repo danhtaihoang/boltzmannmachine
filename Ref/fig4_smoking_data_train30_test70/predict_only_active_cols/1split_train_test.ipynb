{
 "cells": [
  {
   "cell_type": "code",
   "execution_count": 1,
   "metadata": {},
   "outputs": [],
   "source": [
    "import numpy as np\n",
    "from sklearn.model_selection import train_test_split"
   ]
  },
  {
   "cell_type": "code",
   "execution_count": 2,
   "metadata": {},
   "outputs": [],
   "source": [
    "np.random.seed(1)"
   ]
  },
  {
   "cell_type": "code",
   "execution_count": 3,
   "metadata": {
    "scrolled": false
   },
   "outputs": [
    {
     "name": "stdout",
     "output_type": "stream",
     "text": [
      "(1574, 36)\n"
     ]
    }
   ],
   "source": [
    "s = np.loadtxt('smoking_binary.dat')\n",
    "#s2 = np.loadtxt('data_binary_nondisease.txt')\n",
    "\n",
    "#s = np.vstack([s1,s2])\n",
    "print(s.shape)"
   ]
  },
  {
   "cell_type": "code",
   "execution_count": 4,
   "metadata": {
    "scrolled": false
   },
   "outputs": [
    {
     "name": "stdout",
     "output_type": "stream",
     "text": [
      "(472, 36) (1102, 36)\n"
     ]
    }
   ],
   "source": [
    "s_train,s_test = train_test_split(s,test_size=0.7,random_state = 1)\n",
    "#s_train,s_test = train_test_split(s1,test_size=0.5,random_state = 1)\n",
    "print(s_train.shape,s_test.shape)"
   ]
  },
  {
   "cell_type": "code",
   "execution_count": 5,
   "metadata": {},
   "outputs": [],
   "source": [
    "#s_train = np.vstack([s_train,s2])\n",
    "#print(s_train.shape)"
   ]
  },
  {
   "cell_type": "code",
   "execution_count": 6,
   "metadata": {},
   "outputs": [],
   "source": [
    "np.savetxt('s_train.dat',s_train,fmt='%i')\n",
    "np.savetxt('s_test.dat',s_test,fmt='%i')"
   ]
  },
  {
   "cell_type": "code",
   "execution_count": null,
   "metadata": {},
   "outputs": [],
   "source": []
  }
 ],
 "metadata": {
  "kernelspec": {
   "display_name": "Python 3",
   "language": "python",
   "name": "python3"
  },
  "language_info": {
   "codemirror_mode": {
    "name": "ipython",
    "version": 3
   },
   "file_extension": ".py",
   "mimetype": "text/x-python",
   "name": "python",
   "nbconvert_exporter": "python",
   "pygments_lexer": "ipython3",
   "version": "3.7.3"
  }
 },
 "nbformat": 4,
 "nbformat_minor": 2
}
