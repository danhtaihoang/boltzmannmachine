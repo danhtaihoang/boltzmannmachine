{
 "cells": [
  {
   "cell_type": "code",
   "execution_count": 1,
   "metadata": {},
   "outputs": [],
   "source": [
    "import numpy as np\n",
    "import matplotlib.pyplot as plt\n",
    "import emachine as EM"
   ]
  },
  {
   "cell_type": "code",
   "execution_count": 2,
   "metadata": {},
   "outputs": [],
   "source": [
    "np.random.seed(0)"
   ]
  },
  {
   "cell_type": "code",
   "execution_count": 3,
   "metadata": {},
   "outputs": [],
   "source": [
    "seqs = np.loadtxt('s_train.dat')"
   ]
  },
  {
   "cell_type": "code",
   "execution_count": 4,
   "metadata": {
    "scrolled": true
   },
   "outputs": [
    {
     "data": {
      "text/plain": [
       "(787, 528)"
      ]
     },
     "execution_count": 4,
     "metadata": {},
     "output_type": "execute_result"
    }
   ],
   "source": [
    "ops = EM.operators(seqs)\n",
    "ops.shape"
   ]
  },
  {
   "cell_type": "code",
   "execution_count": 5,
   "metadata": {
    "scrolled": true
   },
   "outputs": [
    {
     "name": "stdout",
     "output_type": "stream",
     "text": [
      "0.7 -53.47386263757198\n",
      "0.71 -53.11598942493712\n",
      "0.72 -52.79594483915088\n",
      "0.73 -52.51457302133103\n",
      "0.74 -52.27294083537119\n",
      "0.75 -52.072371923624054\n",
      "0.76 -51.91448868262882\n",
      "0.77 -51.80126408024199\n",
      "0.78 -51.73508585406411\n",
      "0.79 -51.718836477479236\n",
      "0.8 -51.75599344830873\n",
      "0.81 -51.850756086017164\n",
      "0.8200000000000001 -52.008207327023435\n",
      "0.8300000000000001 -52.234522304693876\n",
      "0.84 -52.53724028723956\n",
      "0.85 -52.92562360340369\n",
      "0.86 -53.411137761826055\n",
      "0.87 -54.008103104111704\n",
      "0.88 -54.73459341981724\n",
      "0.89 -55.61369677322355\n",
      "0.9 -56.67531840479335\n"
     ]
    }
   ],
   "source": [
    "eps_list = np.linspace(0.7,0.9,21)\n",
    "E_eps = np.zeros(len(eps_list))\n",
    "w_eps = np.zeros((len(eps_list),ops.shape[1]))\n",
    "for i,eps in enumerate(eps_list):    \n",
    "    w_eps[i,:],E_eps[i] = EM.fit(ops,eps=eps,max_iter=100)\n",
    "    print(eps,E_eps[i])"
   ]
  },
  {
   "cell_type": "code",
   "execution_count": 6,
   "metadata": {},
   "outputs": [
    {
     "data": {
      "text/plain": [
       "[<matplotlib.lines.Line2D at 0x7ff113547748>]"
      ]
     },
     "execution_count": 6,
     "metadata": {},
     "output_type": "execute_result"
    },
    {
     "data": {
      "image/png": "[encoded data removed]",
      "text/plain": [
       "<Figure size 432x288 with 1 Axes>"
      ]
     },
     "metadata": {
      "needs_background": "light"
     },
     "output_type": "display_data"
    }
   ],
   "source": [
    "plt.plot(eps_list,E_eps,'ko-')"
   ]
  },
  {
   "cell_type": "code",
   "execution_count": 7,
   "metadata": {
    "scrolled": true
   },
   "outputs": [
    {
     "name": "stdout",
     "output_type": "stream",
     "text": [
      "The optimal value of eps: 0.79\n"
     ]
    }
   ],
   "source": [
    "ieps = np.argmax(E_eps)\n",
    "print('The optimal value of eps:',eps_list[ieps])"
   ]
  },
  {
   "cell_type": "markdown",
   "metadata": {},
   "source": [
    "So our inferred interactions from our eps machine should be"
   ]
  },
  {
   "cell_type": "code",
   "execution_count": 8,
   "metadata": {},
   "outputs": [],
   "source": [
    "w_em = w_eps[ieps]\n",
    "\n",
    "np.savetxt('w_em.dat',w_em,fmt='%f')"
   ]
  },
  {
   "cell_type": "code",
   "execution_count": 9,
   "metadata": {},
   "outputs": [],
   "source": [
    "## # Maximum Likelihood Estimation (MLE)\n",
    "#w_mle = EM.MLE_method(seqs)\n",
    "#np.savetxt('w_mle.dat',w_mle,fmt='%f')\n",
    "\n",
    "# Pseudo Likelihood Estimation (PLE)\n",
    "w_ple = EM.PLE_method(seqs)\n",
    "np.savetxt('w_ple.dat',w_ple,fmt='%f')"
   ]
  }
 ],
 "metadata": {
  "kernelspec": {
   "display_name": "Python 3",
   "language": "python",
   "name": "python3"
  },
  "language_info": {
   "codemirror_mode": {
    "name": "ipython",
    "version": 3
   },
   "file_extension": ".py",
   "mimetype": "text/x-python",
   "name": "python",
   "nbconvert_exporter": "python",
   "pygments_lexer": "ipython3",
   "version": "3.7.3"
  }
 },
 "nbformat": 4,
 "nbformat_minor": 2
}
