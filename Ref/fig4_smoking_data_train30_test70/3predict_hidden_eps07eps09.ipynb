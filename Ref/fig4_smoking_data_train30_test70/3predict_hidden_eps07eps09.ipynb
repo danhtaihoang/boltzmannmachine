{
 "cells": [
  {
   "cell_type": "code",
   "execution_count": 1,
   "metadata": {},
   "outputs": [],
   "source": [
    "import numpy as np\n",
    "import matplotlib.pyplot as plt\n",
    "import itertools\n",
    "\n",
    "import emachine as EM"
   ]
  },
  {
   "cell_type": "code",
   "execution_count": 2,
   "metadata": {},
   "outputs": [],
   "source": [
    "np.random.seed(1)"
   ]
  },
  {
   "cell_type": "code",
   "execution_count": 3,
   "metadata": {},
   "outputs": [
    {
     "name": "stdout",
     "output_type": "stream",
     "text": [
      "1076 38\n"
     ]
    }
   ],
   "source": [
    "s0 = np.loadtxt('s_test.dat')\n",
    "l,n = s0.shape\n",
    "print(l,n)"
   ]
  },
  {
   "cell_type": "code",
   "execution_count": 4,
   "metadata": {},
   "outputs": [
    {
     "name": "stdout",
     "output_type": "stream",
     "text": [
      "[8, 18, 33, 36]\n"
     ]
    }
   ],
   "source": [
    "# find conserved variables\n",
    "fc = 0.9\n",
    "l,n = s0.shape\n",
    "frequency = [max(np.unique(s0[:,i], return_counts=True)[1]) for i in range(n)]\n",
    "cols_conserved = [i for i in range(n) if frequency[i]/float(l) > fc]\n",
    "print(cols_conserved)"
   ]
  },
  {
   "cell_type": "code",
   "execution_count": 5,
   "metadata": {},
   "outputs": [
    {
     "name": "stdout",
     "output_type": "stream",
     "text": [
      "34\n"
     ]
    }
   ],
   "source": [
    "cols_active = np.delete(np.arange(0,n),cols_conserved)\n",
    "print(len(cols_active))"
   ]
  },
  {
   "cell_type": "code",
   "execution_count": 6,
   "metadata": {},
   "outputs": [],
   "source": [
    "# load predicted w from train set\n",
    "#w_mle = np.loadtxt('w_mle.dat')\n",
    "#w_ple = np.loadtxt('w_ple.dat')\n",
    "w_eps1 = np.loadtxt('w_em_eps07.dat')\n",
    "w_eps2 = np.loadtxt('w_em_eps09.dat')\n",
    "w_em = np.loadtxt('w_em.dat')\n",
    "#print(w_em.shape)\n",
    "#w_HF = np.loadtxt('w_HF.dat')"
   ]
  },
  {
   "cell_type": "code",
   "execution_count": 7,
   "metadata": {},
   "outputs": [
    {
     "name": "stdout",
     "output_type": "stream",
     "text": [
      "accuracy with eps1, eps2, eps_optimal: 2 [0.83828996 0.84433086 0.84665428]\n",
      "accuracy with eps1, eps2, eps_optimal: 4 [0.8445632  0.8561803  0.85385688]\n",
      "accuracy with eps1, eps2, eps_optimal: 6 [0.84541512 0.85439901 0.85145601]\n",
      "accuracy with eps1, eps2, eps_optimal: 8 [0.84038104 0.84944238 0.84862918]\n",
      "accuracy with eps1, eps2, eps_optimal: 10 [0.84228625 0.84916357 0.84814126]\n",
      "accuracy with eps1, eps2, eps_optimal: 12 [0.83635378 0.84789343 0.84502788]\n",
      "accuracy with eps1, eps2, eps_optimal: 14 [0.83463887 0.84340149 0.84180828]\n",
      "accuracy with eps1, eps2, eps_optimal: 16 [0.82562732 0.83776719 0.83538569]\n"
     ]
    }
   ],
   "source": [
    "# random missing position\n",
    "for n_hidden in [2,4,6,8,10,12,14,16]:\n",
    "#for n_hidden in [2]:\n",
    "    # every possibilities of configurations of hiddens\n",
    "    s_hidden_possibles = np.asarray(list(itertools.product([1.0, -1.0], repeat=n_hidden)))\n",
    "    n_possibles = s_hidden_possibles.shape[0]\n",
    "    #print(n_possibles)\n",
    "\n",
    "    # consider a specific sample t:\n",
    "    acc = np.zeros((3,l))\n",
    "    for t in range(l):\n",
    "        s = s0[t]\n",
    "        #print(s)\n",
    "\n",
    "        #hidden = np.random.choice(np.arange(17,n),n_hidden,replace=False)\n",
    "        #hidden = np.random.choice(np.arange(0,n),n_hidden,replace=False)\n",
    "        \n",
    "        hidden = np.random.choice(cols_active,n_hidden,replace=False)       \n",
    "        #print(hidden)\n",
    "\n",
    "        \n",
    "        s_possibles = np.tile(s,(n_possibles,1))\n",
    "        s_possibles[:,hidden] = s_hidden_possibles\n",
    "        #print(s_possibles)\n",
    "\n",
    "        # calculate energy of each possible configuration\n",
    "        ops = EM.operators(s_possibles)\n",
    "\n",
    "        \"\"\"\n",
    "        #----------------------------------------------\n",
    "        # w from MLE\n",
    "        energy0 = -ops.dot(w_mle)    \n",
    "        # select the best sequence that maximize probability\n",
    "        #s_hidden_recover0 = s_hidden_possibles[np.argmin(energy0)]\n",
    "        #print(s_hidden_recover)\n",
    "        acc[0,t] = np.sum((s[hidden] == s_hidden_recover0))\n",
    "        #print(acc[t])\n",
    "        \"\"\"\n",
    "        #----------------------------------------------\n",
    "        # w from HF\n",
    "        #energy0 = -ops.dot(w_HF)\n",
    "        energy0 = -ops.dot(w_eps1)\n",
    "        s_hidden_recover0 = s_hidden_possibles[np.argmin(energy0)]\n",
    "        acc[0,t] = np.sum((s[hidden] == s_hidden_recover0))\n",
    "        \n",
    "        # w from PLE\n",
    "        #energy1 = -ops.dot(w_ple)\n",
    "        energy1 = -ops.dot(w_eps2) \n",
    "        s_hidden_recover1 = s_hidden_possibles[np.argmin(energy1)]\n",
    "        acc[1,t] = np.sum((s[hidden] == s_hidden_recover1))               \n",
    "\n",
    "        #----------------------------------------------\n",
    "        # w from EM\n",
    "        energy2 = -ops.dot(w_em)\n",
    "        s_hidden_recover2 = s_hidden_possibles[np.argmin(energy2)]\n",
    "        acc[2,t] = np.sum((s[hidden] == s_hidden_recover2))\n",
    "        \n",
    "    acc_av = acc.sum(axis=1)/(n_hidden*l) \n",
    "    #print('accuracy of MLE, PLE, EM, HF:',n_hidden,acc_av)\n",
    "    print('accuracy with eps1, eps2, eps_optimal:',n_hidden,acc_av)"
   ]
  },
  {
   "cell_type": "code",
   "execution_count": null,
   "metadata": {},
   "outputs": [],
   "source": []
  }
 ],
 "metadata": {
  "kernelspec": {
   "display_name": "Python 3",
   "language": "python",
   "name": "python3"
  },
  "language_info": {
   "codemirror_mode": {
    "name": "ipython",
    "version": 3
   },
   "file_extension": ".py",
   "mimetype": "text/x-python",
   "name": "python",
   "nbconvert_exporter": "python",
   "pygments_lexer": "ipython3",
   "version": "3.7.3"
  }
 },
 "nbformat": 4,
 "nbformat_minor": 2
}
