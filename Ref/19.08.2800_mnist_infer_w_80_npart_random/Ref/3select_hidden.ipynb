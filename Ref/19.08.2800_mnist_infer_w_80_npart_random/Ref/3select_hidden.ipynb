{
 "cells": [
  {
   "cell_type": "code",
   "execution_count": 1,
   "metadata": {},
   "outputs": [],
   "source": [
    "import numpy as np\n",
    "import matplotlib.pyplot as plt\n",
    "import emachine as EM\n",
    "import itertools"
   ]
  },
  {
   "cell_type": "code",
   "execution_count": 2,
   "metadata": {},
   "outputs": [],
   "source": [
    "np.random.seed(0)"
   ]
  },
  {
   "cell_type": "code",
   "execution_count": 3,
   "metadata": {},
   "outputs": [
    {
     "name": "stdout",
     "output_type": "stream",
     "text": [
      "8 (974, 784)\n"
     ]
    }
   ],
   "source": [
    "# data\n",
    "s0 = np.loadtxt('../MNIST_data/mnist_test.csv',delimiter=',')\n",
    "\n",
    "seq = s0[:,1:] \n",
    "label = s0[:,0]\n",
    "#print(seq.shape,label.shape)\n",
    "\n",
    "# select only 1 digit\n",
    "digit = 8\n",
    "i = label == digit\n",
    "label1 = label[i]\n",
    "seq1 = seq[i]\n",
    "print(digit,seq1.shape)\n",
    "\n",
    "# convert to binary\n",
    "seq1 = np.sign(seq1-1.5)"
   ]
  },
  {
   "cell_type": "code",
   "execution_count": 4,
   "metadata": {},
   "outputs": [],
   "source": [
    "w = np.loadtxt('w.dat')"
   ]
  },
  {
   "cell_type": "code",
   "execution_count": 5,
   "metadata": {},
   "outputs": [],
   "source": [
    "n_hidden_active = 16\n",
    "n_hidden_conserved = 84\n",
    "# hidden from active cols\n",
    "cols_active = np.loadtxt('cols_selected.txt').astype(int)\n",
    "hidden_active = np.random.choice(cols_active,n_hidden_active,replace=False)\n",
    "#print(len(hidden_active))\n",
    "\n",
    "# hidden from conserved cols\n",
    "cols_conserved = np.setdiff1d(np.arange(28*28),cols_active)\n",
    "hidden_conserved = np.random.choice(cols_active,n_hidden_conserved)\n",
    "#print(len(hidden_conserved))\n",
    "\n",
    "# hidden\n",
    "hidden = np.hstack([hidden_active,hidden_conserved])"
   ]
  },
  {
   "cell_type": "code",
   "execution_count": 6,
   "metadata": {},
   "outputs": [
    {
     "name": "stdout",
     "output_type": "stream",
     "text": [
      "number of possible configs: 65536\n"
     ]
    }
   ],
   "source": [
    "seq_all = np.asarray(list(itertools.product([1.0, -1.0], repeat=n_hidden_active)))\n",
    "n_possibles = seq_all.shape[0]\n",
    "print('number of possible configs:',n_possibles)"
   ]
  },
  {
   "cell_type": "code",
   "execution_count": 7,
   "metadata": {},
   "outputs": [],
   "source": [
    "active_hidden_indices = np.intersect1d(cols_active,hidden_active,return_indices=True)[1]"
   ]
  },
  {
   "cell_type": "code",
   "execution_count": 8,
   "metadata": {},
   "outputs": [],
   "source": [
    "# consider only one test image\n",
    "t = 2\n",
    "seq_active = seq1[t,cols_active]\n",
    "\n",
    "seq_active_possibles = np.tile(seq_active,(n_possibles,1))\n",
    "seq_active_possibles[:,active_hidden_indices] = seq_all"
   ]
  },
  {
   "cell_type": "code",
   "execution_count": 9,
   "metadata": {},
   "outputs": [
    {
     "data": {
      "text/plain": [
       "(65536, 222)"
      ]
     },
     "execution_count": 9,
     "metadata": {},
     "output_type": "execute_result"
    }
   ],
   "source": [
    "seq_active_possibles.shape"
   ]
  },
  {
   "cell_type": "code",
   "execution_count": 10,
   "metadata": {},
   "outputs": [
    {
     "data": {
      "text/plain": [
       "(65536, 16)"
      ]
     },
     "execution_count": 10,
     "metadata": {},
     "output_type": "execute_result"
    }
   ],
   "source": [
    "seq_all.shape"
   ]
  },
  {
   "cell_type": "code",
   "execution_count": 11,
   "metadata": {},
   "outputs": [],
   "source": [
    "# recover hidden\n",
    "ops = EM.operators(seq_active_possibles)\n",
    "energy = ops.dot(w)\n",
    "\n",
    "i = np.argmax(energy)\n",
    "seq_hidden_part = seq_all[i]"
   ]
  },
  {
   "cell_type": "code",
   "execution_count": 13,
   "metadata": {},
   "outputs": [],
   "source": [
    "# plot:\n",
    "# hidden\n",
    "seq_hidden = seq1[t].copy()\n",
    "seq_hidden[hidden] = 0.\n",
    "\n",
    "# recover\n",
    "seq_recover = seq1[t].copy()\n",
    "\n",
    "cols_neg = np.loadtxt('cols_neg.txt').astype(int)\n",
    "cols_pos = np.loadtxt('cols_pos.txt').astype(int)\n",
    "hidden_neg = np.intersect1d(hidden_conserved,cols_neg)\n",
    "hidden_pos = np.intersect1d(hidden_conserved,cols_pos)\n",
    "\n",
    "seq_recover[hidden_neg] = -1.\n",
    "seq_recover[hidden_pos] = 1.\n",
    "seq_recover[hidden_active] = seq_hidden_part"
   ]
  },
  {
   "cell_type": "code",
   "execution_count": 15,
   "metadata": {},
   "outputs": [
    {
     "data": {
      "image/png": "[encoded data removed]",
      "text/plain": [
       "<Figure size 756x201.6 with 3 Axes>"
      ]
     },
     "metadata": {
      "needs_background": "light"
     },
     "output_type": "display_data"
    }
   ],
   "source": [
    "nx,ny = 3,1\n",
    "nfig = nx*ny\n",
    "fig, ax = plt.subplots(ny,nx,figsize=(nx*3.5,ny*2.8))\n",
    "ax[0].imshow(seq1[t].reshape(28,28),interpolation='nearest')\n",
    "ax[1].imshow(seq_hidden.reshape(28,28),interpolation='nearest')\n",
    "ax[2].imshow(seq_recover.reshape(28,28),interpolation='nearest')\n",
    "\n",
    "plt.tight_layout(h_pad=0.7, w_pad=1.5)\n",
    "plt.savefig('fig4.pdf', format='pdf', dpi=100)"
   ]
  },
  {
   "cell_type": "code",
   "execution_count": null,
   "metadata": {},
   "outputs": [],
   "source": []
  }
 ],
 "metadata": {
  "kernelspec": {
   "display_name": "Python 3",
   "language": "python",
   "name": "python3"
  },
  "language_info": {
   "codemirror_mode": {
    "name": "ipython",
    "version": 3
   },
   "file_extension": ".py",
   "mimetype": "text/x-python",
   "name": "python",
   "nbconvert_exporter": "python",
   "pygments_lexer": "ipython3",
   "version": "3.7.3"
  }
 },
 "nbformat": 4,
 "nbformat_minor": 2
}
