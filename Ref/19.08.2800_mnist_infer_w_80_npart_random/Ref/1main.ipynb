{
 "cells": [
  {
   "cell_type": "code",
   "execution_count": 1,
   "metadata": {},
   "outputs": [],
   "source": [
    "import matplotlib.pyplot as plt\n",
    "import numpy as np\n",
    "import emachine as EM"
   ]
  },
  {
   "cell_type": "code",
   "execution_count": 2,
   "metadata": {},
   "outputs": [],
   "source": [
    "np.random.seed(0)"
   ]
  },
  {
   "cell_type": "code",
   "execution_count": 3,
   "metadata": {},
   "outputs": [],
   "source": [
    "m = 10\n",
    "n = 1000"
   ]
  },
  {
   "cell_type": "code",
   "execution_count": 4,
   "metadata": {},
   "outputs": [],
   "source": [
    "w_true,s = EM.generate_seq(m,n)"
   ]
  },
  {
   "cell_type": "code",
   "execution_count": 5,
   "metadata": {},
   "outputs": [
    {
     "data": {
      "text/plain": [
       "(1000, 55)"
      ]
     },
     "execution_count": 5,
     "metadata": {},
     "output_type": "execute_result"
    }
   ],
   "source": [
    "ops = EM.operators(s)\n",
    "ops.shape"
   ]
  },
  {
   "cell_type": "code",
   "execution_count": 11,
   "metadata": {
    "scrolled": true
   },
   "outputs": [
    {
     "name": "stdout",
     "output_type": "stream",
     "text": [
      "0.5 -5.06680371749221\n",
      "0.52 -5.027859542126527\n",
      "0.54 -4.993003111149721\n",
      "0.56 -4.961949063017886\n",
      "0.58 -4.934454728735329\n",
      "0.6 -4.910314243412053\n",
      "0.62 -4.889353360655441\n",
      "0.64 -4.871424792487073\n",
      "0.66 -4.856403957657076\n",
      "0.6799999999999999 -4.844185078382241\n",
      "0.7 -4.834677622213766\n",
      "0.72 -4.827803145900581\n",
      "0.74 -4.823492667685645\n",
      "0.76 -4.821684781771209\n",
      "0.78 -4.822324844686171\n",
      "0.8 -4.82536572196551\n",
      "0.8200000000000001 -4.83077080293394\n",
      "0.8400000000000001 -4.838520296737952\n",
      "0.86 -4.848622255164944\n",
      "0.88 -4.861130404831139\n",
      "0.9 -4.8761718744195095\n"
     ]
    }
   ],
   "source": [
    "max_iter = 100\n",
    "\n",
    "n_ops = ops.shape[1]\n",
    "\n",
    "eps_list = np.linspace(0.5,0.9,21)\n",
    "n_eps = len(eps_list)\n",
    "E_eps = np.zeros((n_eps))\n",
    "w_eps = np.zeros((n_eps,n_ops))\n",
    "\n",
    "for i,eps in enumerate(eps_list):    \n",
    "    w_eps[i,:],E_eps[i] = EM.fit(ops,eps=eps,max_iter=max_iter)\n",
    "    print(eps,E_eps[i])"
   ]
  },
  {
   "cell_type": "code",
   "execution_count": 13,
   "metadata": {},
   "outputs": [
    {
     "name": "stdout",
     "output_type": "stream",
     "text": [
      "optimal eps: 13 0.76\n"
     ]
    }
   ],
   "source": [
    "#optimal eps\n",
    "ieps = np.argmax(E_eps[:])\n",
    "print('optimal eps:',ieps,eps_list[ieps])\n",
    "w = w_eps[ieps]"
   ]
  },
  {
   "cell_type": "code",
   "execution_count": 14,
   "metadata": {},
   "outputs": [
    {
     "data": {
      "text/plain": [
       "[<matplotlib.lines.Line2D at 0x7ff0ef3a5b70>]"
      ]
     },
     "execution_count": 14,
     "metadata": {},
     "output_type": "execute_result"
    },
    {
     "data": {
      "image/png": "[encoded data removed]",
      "text/plain": [
       "<Figure size 432x288 with 1 Axes>"
      ]
     },
     "metadata": {
      "needs_background": "light"
     },
     "output_type": "display_data"
    }
   ],
   "source": [
    "plt.plot(w_true,w,'ko')"
   ]
  },
  {
   "cell_type": "code",
   "execution_count": null,
   "metadata": {},
   "outputs": [],
   "source": []
  }
 ],
 "metadata": {
  "kernelspec": {
   "display_name": "Python 3",
   "language": "python",
   "name": "python3"
  },
  "language_info": {
   "codemirror_mode": {
    "name": "ipython",
    "version": 3
   },
   "file_extension": ".py",
   "mimetype": "text/x-python",
   "name": "python",
   "nbconvert_exporter": "python",
   "pygments_lexer": "ipython3",
   "version": "3.7.3"
  }
 },
 "nbformat": 4,
 "nbformat_minor": 2
}
