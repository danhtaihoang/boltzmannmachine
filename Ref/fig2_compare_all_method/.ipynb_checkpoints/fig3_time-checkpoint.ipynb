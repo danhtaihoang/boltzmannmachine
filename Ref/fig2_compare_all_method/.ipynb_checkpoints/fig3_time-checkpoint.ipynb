{
 "cells": [
  {
   "cell_type": "code",
   "execution_count": 1,
   "metadata": {},
   "outputs": [],
   "source": [
    "import matplotlib.pyplot as plt\n",
    "import numpy as np\n",
    "import numpy.linalg as nplin\n",
    "import itertools\n",
    "from sklearn.linear_model import LinearRegression\n",
    "\n",
    "from matplotlib.ticker import MultipleLocator,FormatStrFormatter,AutoMinorLocator,ScalarFormatter"
   ]
  },
  {
   "cell_type": "code",
   "execution_count": 2,
   "metadata": {},
   "outputs": [],
   "source": [
    "np.random.seed(0)"
   ]
  },
  {
   "cell_type": "code",
   "execution_count": 3,
   "metadata": {},
   "outputs": [],
   "source": [
    "t1 = np.loadtxt('fig3d_time/run_time_MLE_v2.txt')\n",
    "t2 = np.loadtxt('fig3d_time/run_time_pseudo.txt')\n",
    "t3 = np.loadtxt('fig3d_time/run_time_eps_random.txt')"
   ]
  },
  {
   "cell_type": "code",
   "execution_count": 4,
   "metadata": {
    "scrolled": false
   },
   "outputs": [
    {
     "data": {
      "text/plain": [
       "array([[1.00000000e+01, 1.20000000e+01, 1.40000000e+01, 1.60000000e+01,\n",
       "        1.80000000e+01, 2.00000000e+01, 2.20000000e+01],\n",
       "       [6.14495450e-02, 2.11363919e-01, 6.62128193e-01, 6.85190064e+00,\n",
       "        3.51443882e+01, 1.99694275e+02, 1.17790068e+03]])"
      ]
     },
     "execution_count": 4,
     "metadata": {},
     "output_type": "execute_result"
    }
   ],
   "source": [
    "t1"
   ]
  },
  {
   "cell_type": "code",
   "execution_count": 5,
   "metadata": {
    "scrolled": true
   },
   "outputs": [
    {
     "data": {
      "text/plain": [
       "array([[ 10.      ,  12.      ,  14.      ,  16.      ,  18.      ,\n",
       "         20.      ,  22.      ,  24.      ,  26.      ,  28.      ,\n",
       "         30.      ,  32.      ,  34.      ,  36.      ,  38.      ,\n",
       "         40.      ,  42.      ,  44.      ,  46.      ,  48.      ,\n",
       "         50.      ],\n",
       "       [  2.512838,   3.660549,   5.258081,   7.487202,  13.243825,\n",
       "         18.117704,  25.671093,  37.81652 ,  66.42647 ,  89.719998,\n",
       "        132.254361, 147.156494, 185.664231, 390.475166, 326.110694,\n",
       "        437.741985, 402.843895, 434.270566, 851.89246 , 500.312532,\n",
       "        454.403391]])"
      ]
     },
     "execution_count": 5,
     "metadata": {},
     "output_type": "execute_result"
    }
   ],
   "source": [
    "t2"
   ]
  },
  {
   "cell_type": "code",
   "execution_count": 6,
   "metadata": {},
   "outputs": [
    {
     "data": {
      "text/plain": [
       "array([[ 10.        ,  12.        ,  14.        ,  16.        ,\n",
       "         18.        ,  20.        ,  22.        ,  24.        ,\n",
       "         26.        ,  28.        ,  30.        ,  32.        ,\n",
       "         34.        ,  36.        ,  38.        ,  40.        ,\n",
       "         50.        ,  60.        ,  70.        ,  80.        ,\n",
       "         90.        , 100.        ],\n",
       "       [  0.288709  ,   0.278753  ,   0.363201  ,   0.502419  ,\n",
       "          0.671001  ,   0.943775  ,   1.237384  ,   1.560124  ,\n",
       "          1.923651  ,   2.240903  ,   3.444192  ,   3.961162  ,\n",
       "          4.526621  ,   5.111497  ,   5.94871   ,   6.33455   ,\n",
       "          9.99265753,  13.91150365,  19.0744927 ,  25.28372218,\n",
       "         32.67651698,  40.27229404]])"
      ]
     },
     "execution_count": 6,
     "metadata": {},
     "output_type": "execute_result"
    }
   ],
   "source": [
    "t3"
   ]
  },
  {
   "cell_type": "code",
   "execution_count": 15,
   "metadata": {},
   "outputs": [
    {
     "data": {
      "image/png": "[encoded data removed]",
      "text/plain": [
       "<Figure size 252x208.8 with 1 Axes>"
      ]
     },
     "metadata": {
      "needs_background": "light"
     },
     "output_type": "display_data"
    }
   ],
   "source": [
    "label = ['(a)','(b)','(c)','(d)']\n",
    "\n",
    "nx,ny = 1,1\n",
    "nfig = nx*ny\n",
    "fig, ax = plt.subplots(ny,nx,figsize=(nx*3.5,ny*2.9))\n",
    "\n",
    "#ax.semilogy(t1[0,3:],t1[1,3:],'kv--',mfc='none',markersize=5,label='MLE')\n",
    "#ax.semilogy(t2[0,3:-5],t2[1,3:-5],'bs--',mfc='none',markersize=5,label='PLE')\n",
    "#ax.semilogy(t3[0,3:],t3[1,3:]*9,'ro-',markersize=5,label='EM')\n",
    "\n",
    "ax.semilogy(t1[0,:],t1[1,:],'kv--',mfc='none',markersize=5,label='MLE')\n",
    "ax.semilogy(t2[0,:-5],t2[1,:-5],'bs--',mfc='none',markersize=5,label='PLE')\n",
    "ax.semilogy(t3[0,:],t3[1,:]*9,'ro-',markersize=5,label='EM')\n",
    "ax.set_xlabel('System size')\n",
    "ax.set_ylabel('Computational time (s)')\n",
    "ax.legend()\n",
    "ax.set_ylim([5,1500])\n",
    "\n",
    "plt.tight_layout(h_pad=1, w_pad=1.5)\n",
    "plt.savefig('fig3_9.pdf', format='pdf', dpi=100)"
   ]
  },
  {
   "cell_type": "code",
   "execution_count": null,
   "metadata": {},
   "outputs": [],
   "source": []
  }
 ],
 "metadata": {
  "kernelspec": {
   "display_name": "Python 3",
   "language": "python",
   "name": "python3"
  },
  "language_info": {
   "codemirror_mode": {
    "name": "ipython",
    "version": 3
   },
   "file_extension": ".py",
   "mimetype": "text/x-python",
   "name": "python",
   "nbconvert_exporter": "python",
   "pygments_lexer": "ipython3",
   "version": "3.7.3"
  }
 },
 "nbformat": 4,
 "nbformat_minor": 2
}
