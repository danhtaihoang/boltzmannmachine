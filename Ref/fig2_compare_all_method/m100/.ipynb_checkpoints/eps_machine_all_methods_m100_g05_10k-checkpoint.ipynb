{
 "cells": [
  {
   "cell_type": "code",
   "execution_count": 1,
   "metadata": {},
   "outputs": [],
   "source": [
    "import matplotlib.pyplot as plt\n",
    "import numpy as np\n",
    "import numpy.linalg as nplin\n",
    "import itertools\n",
    "from coniii import *"
   ]
  },
  {
   "cell_type": "code",
   "execution_count": 2,
   "metadata": {},
   "outputs": [],
   "source": [
    "np.random.seed(0)"
   ]
  },
  {
   "cell_type": "code",
   "execution_count": 3,
   "metadata": {},
   "outputs": [],
   "source": [
    "def operators(s):\n",
    "    #generate terms in the energy function\n",
    "    n_seq,n_var = s.shape\n",
    "    ops = np.zeros((n_seq,n_var+int(n_var*(n_var-1)/2.0)))\n",
    "\n",
    "    jindex = 0\n",
    "    for index in range(n_var):\n",
    "        ops[:,jindex] = s[:,index]\n",
    "        jindex +=1\n",
    "\n",
    "    for index in range(n_var-1):\n",
    "        for index1 in range(index+1,n_var):\n",
    "            ops[:,jindex] = s[:,index]*s[:,index1]\n",
    "            jindex +=1\n",
    "            \n",
    "    return ops"
   ]
  },
  {
   "cell_type": "code",
   "execution_count": 4,
   "metadata": {},
   "outputs": [],
   "source": [
    "def energy_ops(ops,w):\n",
    "    return np.sum(ops*w[np.newaxis,:],axis=1)"
   ]
  },
  {
   "cell_type": "code",
   "execution_count": 5,
   "metadata": {},
   "outputs": [],
   "source": [
    "def generate_seqs(n_var,n_seq,n_sample=30,g=1.0):\n",
    "    n_ops = n_var+int(n_var*(n_var-1)/2.0)\n",
    "    #w_true = g*(np.random.rand(ops.shape[1])-0.5)/np.sqrt(float(n_var))\n",
    "    w_true = np.random.normal(0.,g/np.sqrt(n_var),size=n_ops)\n",
    "    \n",
    "    samples = np.random.choice([1.0,-1.0],size=(n_seq*n_sample,n_var),replace=True)\n",
    "    ops = operators(samples)\n",
    "    #n_ops = ops.shape[1]\n",
    "\n",
    "    sample_energy = energy_ops(ops,w_true)\n",
    "    p = np.exp(sample_energy)\n",
    "    p /= np.sum(p)\n",
    "    out_samples = np.random.choice(np.arange(n_seq*n_sample),size=n_seq,replace=True,p=p)\n",
    "    \n",
    "    return w_true,samples[out_samples] #,p[out_samples],sample_energy[out_samples]"
   ]
  },
  {
   "cell_type": "code",
   "execution_count": 6,
   "metadata": {},
   "outputs": [],
   "source": [
    "def hopfield_model(s):\n",
    "    ops = operators(s)\n",
    "    w = np.mean(ops,axis=0)\n",
    "    #print('hopfield error ',nplin.norm(w-w_true))\n",
    "    return w"
   ]
  },
  {
   "cell_type": "code",
   "execution_count": 7,
   "metadata": {},
   "outputs": [],
   "source": [
    "def MLE(s,s_all,max_iter=100,alpha=5e-2,cov=False):\n",
    "    n_seq,n_var = s.shape\n",
    "    ops = operators(s)\n",
    "    cov_inv = np.eye(ops.shape[1])\n",
    "    ops_obs = np.mean(ops,axis=0)\n",
    "    ops_model = operators(s_all)\n",
    "\n",
    "    n_ops = ops.shape[1]\n",
    "    \n",
    "    np.random.seed(13)\n",
    "    w = np.random.rand(n_ops)-0.5    \n",
    "    for iterate in range(max_iter):\n",
    "        energies_w = energy_ops(ops_model,w)\n",
    "        probs_w = np.exp(energies_w)\n",
    "        probs_w /= np.sum(probs_w)\n",
    "        #if iterate%10 == 0: \n",
    "            #print(iterate,nplin.norm(w-w_true)) #,nplin.norm(spin_cov_w-spin_cov_obs))\n",
    "            #MSE = ((w-w_true)**2).mean()\n",
    "            #print(iterate,MSE)\n",
    "            \n",
    "        w += alpha*cov_inv.dot(ops_obs - np.sum(ops_model*probs_w[:,np.newaxis],axis=0))\n",
    "\n",
    "    #print('final',iterate,MSE)\n",
    "\n",
    "    return w"
   ]
  },
  {
   "cell_type": "code",
   "execution_count": 8,
   "metadata": {},
   "outputs": [],
   "source": [
    "def eps_machine(s,eps_scale=0.1,max_iter=100,alpha=0.1,eps_type='random'):\n",
    "    MSE = np.zeros(max_iter)\n",
    "    #KL = np.zeros(max_iter)\n",
    "    E_av = np.zeros(max_iter)\n",
    "    \n",
    "    n_seq,n_var = s.shape\n",
    "    ops = operators(s)\n",
    "    n_ops = ops.shape[1]\n",
    "    cov_inv = np.eye(ops.shape[1])\n",
    "\n",
    "    np.random.seed(13)\n",
    "    w = np.random.rand(n_ops)-0.5    \n",
    "    \n",
    "    w_iter = np.zeros((max_iter,n_ops))\n",
    "    for i in range(max_iter):         \n",
    "        if eps_type == 'random':\n",
    "            eps_scale = np.random.rand()/np.max([1.,np.max(np.abs(w))])            \n",
    "        #if eps_scale == 'modified':    \n",
    "        #    eps_scale /= np.max([1.,np.max(np.abs(w))])\n",
    "        \n",
    "        energies_w = energy_ops(ops,w)\n",
    "        probs_w = np.exp(-energies_w*(1-eps_scale))\n",
    "        z_data = np.sum(probs_w)\n",
    "        probs_w /= z_data\n",
    "        ops_expect_w = np.sum(probs_w[:,np.newaxis]*ops,axis=0)\n",
    "        \n",
    "        E_exp = (probs_w*energies_w).sum()\n",
    "        E_av[i] = energies_w.mean()\n",
    "        \n",
    "        #KL[i] = -E_exp - np.log(z_data) + np.sum(np.log(np.cosh(w*eps_scale))) + n_var*np.log(2.)        \n",
    "        #MSE[i] = ((w-w_true)**2).mean()\n",
    "        sec_order = w*eps_scale\n",
    "        w += alpha*cov_inv.dot((ops_expect_w - sec_order))           \n",
    "        #w_iter[i,:] = w\n",
    "        \n",
    "    return -E_av,w"
   ]
  },
  {
   "cell_type": "code",
   "execution_count": 9,
   "metadata": {},
   "outputs": [],
   "source": [
    "max_iter = 100\n",
    "\n",
    "n_var,n_seq = 100,10000\n",
    "g = 0.5\n",
    "\n",
    "w_true,seqs = generate_seqs(n_var,n_seq,g=g)\n",
    "n_ops = n_var+int(n_var*(n_var-1)/2.0)\n",
    "\n",
    "n_method = 5\n",
    "w = np.zeros((n_method,n_ops))\n",
    "mse = np.zeros(n_method)"
   ]
  },
  {
   "cell_type": "code",
   "execution_count": 10,
   "metadata": {},
   "outputs": [
    {
     "name": "stdout",
     "output_type": "stream",
     "text": [
      "HF: 0.008135630293778364\n"
     ]
    }
   ],
   "source": [
    "## Hopfield:\n",
    "w_hf = hopfield_model(seqs)\n",
    "\n",
    "w[0,:] = w_hf\n",
    "mse[0] = ((w_hf-w_true)**2).mean()\n",
    "print('HF:',mse[0])"
   ]
  },
  {
   "cell_type": "code",
   "execution_count": 11,
   "metadata": {},
   "outputs": [],
   "source": [
    "## MLE:\n",
    "#s_all = np.asarray(list(itertools.product([1.0, -1.0], repeat=n_var)))\n",
    "#print('all configs size:',s_all.shape)\n",
    "#w_mle = MLE(seqs,s_all,cov=False)\n",
    "\n",
    "#w[1,:] = w_mle\n",
    "#mse[1] = ((w_mle-w_true)**2).mean()\n",
    "#print('MLE:',mse[1])"
   ]
  },
  {
   "cell_type": "code",
   "execution_count": 12,
   "metadata": {},
   "outputs": [
    {
     "data": {
      "text/plain": [
       "\"\\n## pseudo likelihood estimation\\nnp.random.seed(13)\\n# Define common functions\\ncalc_e,calc_observables,mchApproximation = define_ising_helper_functions()    \\nget_multipliers_r,calc_observables_r = define_pseudo_ising_helpers(n_var)\\n\\nsolver = Pseudo(n_var,calc_observables=calc_observables,\\n                calc_observables_r=calc_observables_r,\\n                get_multipliers_r=get_multipliers_r)\\n\\nw_pl = solver.solve(seqs,np.zeros(n_ops))\\n\\nw[2,:] = w_pl\\nmse[2] = ((w_pl-w_true)**2).mean()\\nprint('PL:',mse[2])\\n\""
      ]
     },
     "execution_count": 12,
     "metadata": {},
     "output_type": "execute_result"
    }
   ],
   "source": [
    "\"\"\"\n",
    "## pseudo likelihood estimation\n",
    "np.random.seed(13)\n",
    "# Define common functions\n",
    "calc_e,calc_observables,mchApproximation = define_ising_helper_functions()    \n",
    "get_multipliers_r,calc_observables_r = define_pseudo_ising_helpers(n_var)\n",
    "\n",
    "solver = Pseudo(n_var,calc_observables=calc_observables,\n",
    "                calc_observables_r=calc_observables_r,\n",
    "                get_multipliers_r=get_multipliers_r)\n",
    "\n",
    "w_pl = solver.solve(seqs,np.zeros(n_ops))\n",
    "\n",
    "w[2,:] = w_pl\n",
    "mse[2] = ((w_pl-w_true)**2).mean()\n",
    "print('PL:',mse[2])\n",
    "\"\"\""
   ]
  },
  {
   "cell_type": "code",
   "execution_count": 13,
   "metadata": {},
   "outputs": [
    {
     "name": "stdout",
     "output_type": "stream",
     "text": [
      "random eps: 0.0013201802233845257\n"
     ]
    }
   ],
   "source": [
    "## random eps\n",
    "E_av,w_random = eps_machine(seqs,eps_scale=0.1,max_iter=max_iter,eps_type='random')\n",
    "\n",
    "w[3,:] = w_random\n",
    "mse[3] = ((w_random-w_true)**2).mean()\n",
    "print('random eps:',mse[3])"
   ]
  },
  {
   "cell_type": "code",
   "execution_count": 14,
   "metadata": {},
   "outputs": [
    {
     "name": "stdout",
     "output_type": "stream",
     "text": [
      "optimal eps: 4 0.68\n",
      "opt epsilon: 0.0006546024495949063\n"
     ]
    },
    {
     "data": {
      "text/plain": [
       "[<matplotlib.lines.Line2D at 0x7feb60156668>]"
      ]
     },
     "execution_count": 14,
     "metadata": {},
     "output_type": "execute_result"
    },
    {
     "data": {
      "image/png": "[encoded data removed]",
      "text/plain": [
       "<Figure size 432x288 with 1 Axes>"
      ]
     },
     "metadata": {
      "needs_background": "light"
     },
     "output_type": "display_data"
    }
   ],
   "source": [
    "## optimal eps\n",
    "eps_list = np.linspace(0.6,0.8,11)\n",
    "n_eps = len(eps_list)\n",
    "\n",
    "E_av = np.zeros((n_eps,max_iter))\n",
    "w_eps = np.zeros((n_eps,n_ops))\n",
    "for i,eps in enumerate(eps_list):    \n",
    "    E_av[i,:],w_eps[i,:] = eps_machine(seqs,eps_scale=eps,max_iter=max_iter,eps_type='optimal')\n",
    "    #print(eps,E_av[i,-1])\n",
    "\n",
    "ieps = np.argmax(E_av[:,-1])\n",
    "print('optimal eps:',ieps,eps_list[ieps])\n",
    "w_opt = w_eps[ieps]\n",
    "\n",
    "w[4,:] = w_eps[ieps]\n",
    "mse[4] = ((w_eps[ieps]-w_true)**2).mean()\n",
    "print('opt epsilon:',mse[4])\n",
    "\n",
    "plt.plot(eps_list,E_av[:,-1])"
   ]
  },
  {
   "cell_type": "code",
   "execution_count": 18,
   "metadata": {},
   "outputs": [
    {
     "data": {
      "text/plain": [
       "<matplotlib.legend.Legend at 0x7feb55f45908>"
      ]
     },
     "execution_count": 18,
     "metadata": {},
     "output_type": "execute_result"
    },
    {
     "data": {
      "image/png": "[encoded data removed]",
      "text/plain": [
       "<Figure size 432x288 with 1 Axes>"
      ]
     },
     "metadata": {
      "needs_background": "light"
     },
     "output_type": "display_data"
    }
   ],
   "source": [
    "plt.plot([-0.2,0.2],[-0.2,0.2])\n",
    "plt.plot(w_true,w[0],'m^',marker='^',mfc='none',markersize=5,label='HF')\n",
    "#plt.plot(w_true,w[1],'kv',marker='v',mfc='none',markersize=5,label='MLE')\n",
    "#plt.plot(w_true,w[2],'bs',marker='s',mfc='none',markersize=5,label='PLE')\n",
    "#plt.plot(w_true,w[3],'go',marker='o',mfc='none',markersize=5,label='RE')\n",
    "plt.plot(w_true,w[4],'ro',marker='o',markersize=5,label='OE')\n",
    "plt.xlim([-0.3,0.3])\n",
    "plt.ylim([-0.3,0.3])\n",
    "\n",
    "plt.legend()"
   ]
  },
  {
   "cell_type": "code",
   "execution_count": 19,
   "metadata": {},
   "outputs": [
    {
     "name": "stdout",
     "output_type": "stream",
     "text": [
      "[0.00813563 0.         0.         0.00132018 0.0006546 ]\n"
     ]
    }
   ],
   "source": [
    "print(mse)\n",
    "w_all = np.vstack((w_true[np.newaxis,:],w))\n",
    "np.savetxt('w_%s_%s_%s.dat'%(n_var,g,n_seq),w_all,fmt='%f')\n",
    "np.savetxt('mse_%s_%s_%s.dat'%(n_var,g,n_seq),mse,fmt='%f')"
   ]
  },
  {
   "cell_type": "code",
   "execution_count": null,
   "metadata": {},
   "outputs": [],
   "source": []
  }
 ],
 "metadata": {
  "kernelspec": {
   "display_name": "Python 3",
   "language": "python",
   "name": "python3"
  },
  "language_info": {
   "codemirror_mode": {
    "name": "ipython",
    "version": 3
   },
   "file_extension": ".py",
   "mimetype": "text/x-python",
   "name": "python",
   "nbconvert_exporter": "python",
   "pygments_lexer": "ipython3",
   "version": "3.7.3"
  }
 },
 "nbformat": 4,
 "nbformat_minor": 2
}
