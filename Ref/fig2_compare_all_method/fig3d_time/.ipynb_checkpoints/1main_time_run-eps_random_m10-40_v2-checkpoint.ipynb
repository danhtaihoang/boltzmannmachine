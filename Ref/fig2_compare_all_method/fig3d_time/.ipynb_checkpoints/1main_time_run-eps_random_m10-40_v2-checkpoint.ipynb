{
 "cells": [
  {
   "cell_type": "code",
   "execution_count": 1,
   "metadata": {},
   "outputs": [],
   "source": [
    "import matplotlib.pyplot as plt\n",
    "import numpy as np\n",
    "import numpy.linalg as nplin\n",
    "import itertools\n",
    "import timeit"
   ]
  },
  {
   "cell_type": "code",
   "execution_count": 2,
   "metadata": {},
   "outputs": [],
   "source": [
    "np.random.seed(0)"
   ]
  },
  {
   "cell_type": "code",
   "execution_count": 3,
   "metadata": {},
   "outputs": [],
   "source": [
    "def operators(s):\n",
    "    #generate terms in the energy function\n",
    "    n_seq,n_var = s.shape\n",
    "    ops = np.zeros((n_seq,n_var+int(n_var*(n_var-1)/2.0)))\n",
    "\n",
    "    jindex = 0\n",
    "    for index in range(n_var):\n",
    "        ops[:,jindex] = s[:,index]\n",
    "        jindex +=1\n",
    "\n",
    "    for index in range(n_var-1):\n",
    "        for index1 in range(index+1,n_var):\n",
    "            ops[:,jindex] = s[:,index]*s[:,index1]\n",
    "            jindex +=1\n",
    "            \n",
    "    return ops"
   ]
  },
  {
   "cell_type": "code",
   "execution_count": 4,
   "metadata": {},
   "outputs": [],
   "source": [
    "def energy_ops(ops,w):\n",
    "    return np.sum(ops*w[np.newaxis,:],axis=1)"
   ]
  },
  {
   "cell_type": "code",
   "execution_count": 5,
   "metadata": {},
   "outputs": [],
   "source": [
    "def generate_seqs(n_var,n_seq,n_sample=30,g=1.0):\n",
    "    samples = np.random.choice([1.0,-1.0],size=(n_seq*n_sample,n_var),replace=True)\n",
    "    ops = operators(samples)\n",
    "    n_ops = ops.shape[1]\n",
    "\n",
    "    #w_true = g*(np.random.rand(ops.shape[1])-0.5)/np.sqrt(float(n_var))\n",
    "    w_true = np.random.normal(0.,g/np.sqrt(n_var),size=n_ops)\n",
    "\n",
    "    sample_energy = energy_ops(ops,w_true)\n",
    "    p = np.exp(sample_energy)\n",
    "    p /= np.sum(p)\n",
    "    out_samples = np.random.choice(np.arange(n_seq*n_sample),size=n_seq,replace=True,p=p)\n",
    "    \n",
    "    return w_true,samples[out_samples] #,p[out_samples],sample_energy[out_samples]"
   ]
  },
  {
   "cell_type": "code",
   "execution_count": 6,
   "metadata": {},
   "outputs": [],
   "source": [
    "def eps_machine(s,eps_scale=0.1,max_iter=151,alpha=0.1):\n",
    "    MSE = np.zeros(max_iter)\n",
    "    KL = np.zeros(max_iter)\n",
    "    E_av = np.zeros(max_iter)\n",
    "    \n",
    "    n_seq,n_var = s.shape\n",
    "    ops = operators(s)\n",
    "    n_ops = ops.shape[1]\n",
    "    cov_inv = np.eye(ops.shape[1])\n",
    "\n",
    "    np.random.seed(13)\n",
    "    w = np.random.rand(n_ops)-0.5    \n",
    "    \n",
    "    #w_iter = np.zeros((max_iter,n_ops))\n",
    "    for i in range(max_iter): \n",
    "        \n",
    "        eps_scale = np.random.rand()/np.max([1.,np.max(np.abs(w))])\n",
    "        \n",
    "        energies_w = energy_ops(ops,w)\n",
    "        probs_w = np.exp(-energies_w*(1-eps_scale))\n",
    "        z_data = np.sum(probs_w)\n",
    "        probs_w /= z_data\n",
    "        ops_expect_w = np.sum(probs_w[:,np.newaxis]*ops,axis=0)\n",
    "        \n",
    "        #if i%int(10) == 0:\n",
    "        E_exp = (probs_w*energies_w).sum()\n",
    "        #KL[i] = -E_exp - np.log(z_data) + np.sum(np.log(np.cosh(w*eps_scale))) + n_var*np.log(2.)\n",
    "        \n",
    "        #if i > 50 and KL[i] >= KL[i-1]: break\n",
    "                \n",
    "        E_av[i] = energies_w.mean()\n",
    "        MSE[i] = ((w-w_true)**2).mean()\n",
    "        sec_order = w*eps_scale\n",
    "        w += alpha*cov_inv.dot((ops_expect_w - sec_order))        \n",
    "        \n",
    "        #w_iter[i,:] = w\n",
    "        \n",
    "    #return MSE,KL,E_av,w_iter\n",
    "    return MSE,-E_av,w"
   ]
  },
  {
   "cell_type": "code",
   "execution_count": 7,
   "metadata": {},
   "outputs": [],
   "source": [
    "def hopfield_model(s):\n",
    "    ops = operators(s)\n",
    "    w = np.mean(ops,axis=0)\n",
    "    #print('hopfield error ',nplin.norm(w-w_true))\n",
    "    return w"
   ]
  },
  {
   "cell_type": "code",
   "execution_count": 8,
   "metadata": {},
   "outputs": [],
   "source": [
    "def boltzmann_machine_exact(s,s_all,max_iter=150,alpha=5e-2,cov=False):\n",
    "    n_seq,n_var = s.shape\n",
    "    ops = operators(s)\n",
    "    cov_inv = np.eye(ops.shape[1])\n",
    "    ops_obs = np.mean(ops,axis=0)\n",
    "    ops_model = operators(s_all)\n",
    "\n",
    "    n_ops = ops.shape[1]\n",
    "    \n",
    "    np.random.seed(13)\n",
    "    w = np.random.rand(n_ops)-0.5    \n",
    "    for iterate in range(max_iter):\n",
    "        energies_w = energy_ops(ops_model,w)\n",
    "        probs_w = np.exp(energies_w)\n",
    "        probs_w /= np.sum(probs_w)\n",
    "        if iterate%10 == 0: \n",
    "            #print(iterate,nplin.norm(w-w_true)) #,nplin.norm(spin_cov_w-spin_cov_obs))\n",
    "            MSE = ((w-w_true)**2).mean()\n",
    "            #print(iterate,MSE)\n",
    "            \n",
    "        w += alpha*cov_inv.dot(ops_obs - np.sum(ops_model*probs_w[:,np.newaxis],axis=0))\n",
    "\n",
    "    #print('final',iterate,MSE)\n",
    "\n",
    "    return w"
   ]
  },
  {
   "cell_type": "code",
   "execution_count": 9,
   "metadata": {},
   "outputs": [],
   "source": [
    "#print('Hopfield:')\n",
    "#w1 = hopfield_model(seqs)\n",
    "#print(((w1-w_true)**2).mean())"
   ]
  },
  {
   "cell_type": "code",
   "execution_count": 10,
   "metadata": {},
   "outputs": [
    {
     "data": {
      "text/plain": [
       "array([10, 12, 14, 16, 18, 20, 22, 24, 26, 28, 30, 32, 34, 36, 38, 40])"
      ]
     },
     "execution_count": 10,
     "metadata": {},
     "output_type": "execute_result"
    }
   ],
   "source": [
    "nn_var = 16\n",
    "n_var_list = np.linspace(10,40,nn_var).astype(int)\n",
    "n_var_list"
   ]
  },
  {
   "cell_type": "code",
   "execution_count": 11,
   "metadata": {
    "scrolled": false
   },
   "outputs": [
    {
     "name": "stdout",
     "output_type": "stream",
     "text": [
      "esp machine:\n",
      "run_time: 10 0.2887086699993233 0.004250046974839709\n",
      "esp machine:\n",
      "run_time: 12 0.278752987000189 0.005423912438294265\n",
      "esp machine:\n",
      "run_time: 14 0.3632008169988694 0.0068510145653338786\n",
      "esp machine:\n",
      "run_time: 16 0.5024194689976866 0.004409782646752482\n",
      "esp machine:\n",
      "run_time: 18 0.6710007760011649 0.004162376780515645\n",
      "esp machine:\n",
      "run_time: 20 0.9437748489981459 0.004485328009463353\n",
      "esp machine:\n",
      "run_time: 22 1.2373842200031504 0.007682508603072752\n",
      "esp machine:\n",
      "run_time: 24 1.5601243729979615 0.0047537264880975075\n",
      "esp machine:\n",
      "run_time: 26 1.9236514900003385 0.006082236647057643\n",
      "esp machine:\n",
      "run_time: 28 2.2409028059992124 0.006555197872134502\n",
      "esp machine:\n",
      "run_time: 30 3.4441917779986397 0.01053632715455088\n",
      "esp machine:\n",
      "run_time: 32 3.9611615169997094 0.006064910835230919\n",
      "esp machine:\n",
      "run_time: 34 4.526621379001881 0.01268488082037958\n",
      "esp machine:\n",
      "run_time: 36 5.111497290999978 0.005888088428956886\n",
      "esp machine:\n",
      "run_time: 38 5.948709934000362 0.007930488855160091\n",
      "esp machine:\n",
      "run_time: 40 6.334549635001167 0.017195233322229386\n"
     ]
    }
   ],
   "source": [
    "max_iter = 100\n",
    "\n",
    "n_seq = 10000\n",
    "#n_var = 10\n",
    "g = 1.\n",
    "\n",
    "run_time1 = np.zeros(nn_var)\n",
    "run_time2 = np.zeros(nn_var)\n",
    "for i,n_var in enumerate(n_var_list):\n",
    "    n_var = int(n_var)\n",
    "    w_true,seqs = generate_seqs(n_var,n_seq,g=g)\n",
    "\n",
    "    print('esp machine:')\n",
    "    start_time1 = timeit.default_timer()\n",
    "    MSE,E_av,w = eps_machine(seqs,eps_scale=0.1,max_iter=max_iter)\n",
    "    run_time1[i] = timeit.default_timer() - start_time1\n",
    "    print('run_time:',n_var,run_time1[i],MSE[-1])\n",
    "\n",
    "    #print('Boltzmann (exact):')\n",
    "    #start_time2 = timeit.default_timer()\n",
    "    #s_all = np.asarray(list(itertools.product([1.0, -1.0], repeat=n_var)))\n",
    "    #w2 = boltzmann_machine_exact(seqs,s_all,cov=False)\n",
    "    #run_time2[i] = timeit.default_timer() - start_time2\n",
    "    #print('run_time:',run_time2[i])"
   ]
  },
  {
   "cell_type": "code",
   "execution_count": 12,
   "metadata": {},
   "outputs": [
    {
     "name": "stdout",
     "output_type": "stream",
     "text": [
      "[0.28870867 0.27875299 0.36320082 0.50241947 0.67100078 0.94377485\n",
      " 1.23738422 1.56012437 1.92365149 2.24090281 3.44419178 3.96116152\n",
      " 4.52662138 5.11149729 5.94870993 6.33454964]\n"
     ]
    }
   ],
   "source": [
    "print(run_time1)"
   ]
  },
  {
   "cell_type": "code",
   "execution_count": 13,
   "metadata": {},
   "outputs": [],
   "source": [
    "np.savetxt('run_time_eps_random.txt',(n_var_list,run_time1),fmt='%f')"
   ]
  },
  {
   "cell_type": "code",
   "execution_count": null,
   "metadata": {},
   "outputs": [],
   "source": []
  }
 ],
 "metadata": {
  "kernelspec": {
   "display_name": "Python 3",
   "language": "python",
   "name": "python3"
  },
  "language_info": {
   "codemirror_mode": {
    "name": "ipython",
    "version": 3
   },
   "file_extension": ".py",
   "mimetype": "text/x-python",
   "name": "python",
   "nbconvert_exporter": "python",
   "pygments_lexer": "ipython3",
   "version": "3.7.3"
  }
 },
 "nbformat": 4,
 "nbformat_minor": 2
}
