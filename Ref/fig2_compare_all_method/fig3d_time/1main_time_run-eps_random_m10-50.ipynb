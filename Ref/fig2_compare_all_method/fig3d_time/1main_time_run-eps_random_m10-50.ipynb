{
 "cells": [
  {
   "cell_type": "code",
   "execution_count": 1,
   "metadata": {},
   "outputs": [],
   "source": [
    "import matplotlib.pyplot as plt\n",
    "import numpy as np\n",
    "import numpy.linalg as nplin\n",
    "import itertools\n",
    "import timeit"
   ]
  },
  {
   "cell_type": "code",
   "execution_count": 2,
   "metadata": {},
   "outputs": [],
   "source": [
    "np.random.seed(0)"
   ]
  },
  {
   "cell_type": "code",
   "execution_count": 3,
   "metadata": {},
   "outputs": [],
   "source": [
    "def operators(s):\n",
    "    #generate terms in the energy function\n",
    "    n_seq,n_var = s.shape\n",
    "    ops = np.zeros((n_seq,n_var+int(n_var*(n_var-1)/2.0)))\n",
    "\n",
    "    jindex = 0\n",
    "    for index in range(n_var):\n",
    "        ops[:,jindex] = s[:,index]\n",
    "        jindex +=1\n",
    "\n",
    "    for index in range(n_var-1):\n",
    "        for index1 in range(index+1,n_var):\n",
    "            ops[:,jindex] = s[:,index]*s[:,index1]\n",
    "            jindex +=1\n",
    "            \n",
    "    return ops"
   ]
  },
  {
   "cell_type": "code",
   "execution_count": 4,
   "metadata": {},
   "outputs": [],
   "source": [
    "def energy_ops(ops,w):\n",
    "    return np.sum(ops*w[np.newaxis,:],axis=1)"
   ]
  },
  {
   "cell_type": "code",
   "execution_count": 5,
   "metadata": {},
   "outputs": [],
   "source": [
    "def generate_seqs(n_var,n_seq,n_sample=30,g=1.0):\n",
    "    samples = np.random.choice([1.0,-1.0],size=(n_seq*n_sample,n_var),replace=True)\n",
    "    ops = operators(samples)\n",
    "    n_ops = ops.shape[1]\n",
    "\n",
    "    #w_true = g*(np.random.rand(ops.shape[1])-0.5)/np.sqrt(float(n_var))\n",
    "    w_true = np.random.normal(0.,g/np.sqrt(n_var),size=n_ops)\n",
    "\n",
    "    sample_energy = energy_ops(ops,w_true)\n",
    "    p = np.exp(sample_energy)\n",
    "    p /= np.sum(p)\n",
    "    out_samples = np.random.choice(np.arange(n_seq*n_sample),size=n_seq,replace=True,p=p)\n",
    "    \n",
    "    return w_true,samples[out_samples] #,p[out_samples],sample_energy[out_samples]"
   ]
  },
  {
   "cell_type": "code",
   "execution_count": 6,
   "metadata": {},
   "outputs": [],
   "source": [
    "def eps_machine(s,eps_scale=0.1,max_iter=151,alpha=0.1):\n",
    "    MSE = np.zeros(max_iter)\n",
    "    KL = np.zeros(max_iter)\n",
    "    E_av = np.zeros(max_iter)\n",
    "    \n",
    "    n_seq,n_var = s.shape\n",
    "    ops = operators(s)\n",
    "    n_ops = ops.shape[1]\n",
    "    cov_inv = np.eye(ops.shape[1])\n",
    "\n",
    "    np.random.seed(13)\n",
    "    w = np.random.rand(n_ops)-0.5    \n",
    "    \n",
    "    w_iter = np.zeros((max_iter,n_ops))\n",
    "    for i in range(max_iter): \n",
    "        \n",
    "        eps_scale = np.random.rand()/np.max([1.,np.max(np.abs(w))])\n",
    "        \n",
    "        energies_w = energy_ops(ops,w)\n",
    "        probs_w = np.exp(-energies_w*(1-eps_scale))\n",
    "        z_data = np.sum(probs_w)\n",
    "        probs_w /= z_data\n",
    "        ops_expect_w = np.sum(probs_w[:,np.newaxis]*ops,axis=0)\n",
    "        \n",
    "        #if i%int(10) == 0:\n",
    "        E_exp = (probs_w*energies_w).sum()\n",
    "        KL[i] = -E_exp - np.log(z_data) + np.sum(np.log(np.cosh(w*eps_scale))) + n_var*np.log(2.)\n",
    "        \n",
    "        #if i > 50 and KL[i] >= KL[i-1]: break\n",
    "                \n",
    "        E_av[i] = energies_w.mean()\n",
    "        MSE[i] = ((w-w_true)**2).mean()\n",
    "        sec_order = w*eps_scale\n",
    "        w += alpha*cov_inv.dot((ops_expect_w - sec_order))        \n",
    "        \n",
    "        w_iter[i,:] = w\n",
    "        \n",
    "    #return MSE,KL,E_av,w_iter\n",
    "    return MSE,KL,E_av,w"
   ]
  },
  {
   "cell_type": "code",
   "execution_count": 7,
   "metadata": {},
   "outputs": [],
   "source": [
    "def hopfield_model(s):\n",
    "    ops = operators(s)\n",
    "    w = np.mean(ops,axis=0)\n",
    "    #print('hopfield error ',nplin.norm(w-w_true))\n",
    "    return w"
   ]
  },
  {
   "cell_type": "code",
   "execution_count": 8,
   "metadata": {},
   "outputs": [],
   "source": [
    "def boltzmann_machine_exact(s,s_all,max_iter=150,alpha=5e-2,cov=False):\n",
    "    n_seq,n_var = s.shape\n",
    "    ops = operators(s)\n",
    "    cov_inv = np.eye(ops.shape[1])\n",
    "    ops_obs = np.mean(ops,axis=0)\n",
    "    ops_model = operators(s_all)\n",
    "\n",
    "    n_ops = ops.shape[1]\n",
    "    \n",
    "    np.random.seed(13)\n",
    "    w = np.random.rand(n_ops)-0.5    \n",
    "    for iterate in range(max_iter):\n",
    "        energies_w = energy_ops(ops_model,w)\n",
    "        probs_w = np.exp(energies_w)\n",
    "        probs_w /= np.sum(probs_w)\n",
    "        if iterate%10 == 0: \n",
    "            #print(iterate,nplin.norm(w-w_true)) #,nplin.norm(spin_cov_w-spin_cov_obs))\n",
    "            MSE = ((w-w_true)**2).mean()\n",
    "            #print(iterate,MSE)\n",
    "            \n",
    "        w += alpha*cov_inv.dot(ops_obs - np.sum(ops_model*probs_w[:,np.newaxis],axis=0))\n",
    "\n",
    "    #print('final',iterate,MSE)\n",
    "\n",
    "    return w"
   ]
  },
  {
   "cell_type": "code",
   "execution_count": 9,
   "metadata": {},
   "outputs": [],
   "source": [
    "#print('Hopfield:')\n",
    "#w1 = hopfield_model(seqs)\n",
    "#print(((w1-w_true)**2).mean())"
   ]
  },
  {
   "cell_type": "code",
   "execution_count": 10,
   "metadata": {},
   "outputs": [
    {
     "data": {
      "text/plain": [
       "array([10, 12, 14, 16, 18, 20, 22, 24, 26, 28, 30, 32, 34, 36, 38, 40, 42,\n",
       "       44, 46, 48, 50])"
      ]
     },
     "execution_count": 10,
     "metadata": {},
     "output_type": "execute_result"
    }
   ],
   "source": [
    "nn_var = 21\n",
    "n_var_list = np.linspace(10,50,nn_var).astype(int)\n",
    "n_var_list"
   ]
  },
  {
   "cell_type": "code",
   "execution_count": 11,
   "metadata": {
    "scrolled": false
   },
   "outputs": [
    {
     "name": "stdout",
     "output_type": "stream",
     "text": [
      "esp machine:\n",
      "run_time: 10 0.6280793699988862 0.007075959809650157\n",
      "esp machine:\n",
      "run_time: 12 0.6353009769954951 0.00693672092175645\n",
      "esp machine:\n",
      "run_time: 14 0.7886525809881277 0.0033313510970969097\n",
      "esp machine:\n",
      "run_time: 16 1.0537066510005388 0.0055588277439389345\n",
      "esp machine:\n",
      "run_time: 18 1.6823212309973314 0.0070371842785550715\n",
      "esp machine:\n",
      "run_time: 20 2.3875244980008574 0.011324677988147843\n",
      "esp machine:\n",
      "run_time: 22 2.942008241006988 0.0046027584279003525\n",
      "esp machine:\n",
      "run_time: 24 3.827699211993604 0.0063165632967751946\n",
      "esp machine:\n",
      "run_time: 26 4.927416692007682 0.006656760519626698\n",
      "esp machine:\n",
      "run_time: 28 6.031966098002158 0.006707592050603911\n",
      "esp machine:\n",
      "run_time: 30 7.84307792900654 0.005212203635353991\n",
      "esp machine:\n",
      "run_time: 32 8.349034301994834 0.00702377669224223\n",
      "esp machine:\n",
      "run_time: 34 9.628452485994785 0.0071304339385291895\n",
      "esp machine:\n",
      "run_time: 36 11.577711619000183 0.005185641741372853\n",
      "esp machine:\n",
      "run_time: 38 14.177893681000569 0.013658598288839524\n",
      "esp machine:\n",
      "run_time: 40 15.081604060003883 0.005593342639130422\n",
      "esp machine:\n",
      "run_time: 42 17.66878194900346 0.009948118120301169\n",
      "esp machine:\n",
      "run_time: 44 16.02687536099984 0.009239701119637235\n",
      "esp machine:\n",
      "run_time: 46 18.067555457004346 0.005870387257370401\n",
      "esp machine:\n",
      "run_time: 48 19.481267057009973 0.01559986579961728\n",
      "esp machine:\n",
      "run_time: 50 23.290354416996706 0.008141880405863021\n"
     ]
    }
   ],
   "source": [
    "max_iter = 150\n",
    "\n",
    "n_seq = 10000\n",
    "#n_var = 10\n",
    "g = 1.\n",
    "\n",
    "run_time1 = np.zeros(nn_var)\n",
    "run_time2 = np.zeros(nn_var)\n",
    "for i,n_var in enumerate(n_var_list):\n",
    "    n_var = int(n_var)\n",
    "    w_true,seqs = generate_seqs(n_var,n_seq,g=g)\n",
    "\n",
    "    print('esp machine:')\n",
    "    start_time1 = timeit.default_timer()\n",
    "    MSE,KL,E_av,w = eps_machine(seqs,eps_scale=0.1,max_iter=max_iter)\n",
    "    run_time1[i] = timeit.default_timer() - start_time1\n",
    "    print('run_time:',n_var,run_time1[i],MSE[-1])\n",
    "\n",
    "    #print('Boltzmann (exact):')\n",
    "    #start_time2 = timeit.default_timer()\n",
    "    #s_all = np.asarray(list(itertools.product([1.0, -1.0], repeat=n_var)))\n",
    "    #w2 = boltzmann_machine_exact(seqs,s_all,cov=False)\n",
    "    #run_time2[i] = timeit.default_timer() - start_time2\n",
    "    #print('run_time:',run_time2[i])"
   ]
  },
  {
   "cell_type": "code",
   "execution_count": 12,
   "metadata": {},
   "outputs": [
    {
     "name": "stdout",
     "output_type": "stream",
     "text": [
      "[ 0.62807937  0.63530098  0.78865258  1.05370665  1.68232123  2.3875245\n",
      "  2.94200824  3.82769921  4.92741669  6.0319661   7.84307793  8.3490343\n",
      "  9.62845249 11.57771162 14.17789368 15.08160406 17.66878195 16.02687536\n",
      " 18.06755546 19.48126706 23.29035442]\n"
     ]
    }
   ],
   "source": [
    "print(run_time1)"
   ]
  },
  {
   "cell_type": "code",
   "execution_count": 13,
   "metadata": {},
   "outputs": [],
   "source": [
    "np.savetxt('run_time_eps_random.txt',(n_var_list,run_time1),fmt='%f')"
   ]
  },
  {
   "cell_type": "code",
   "execution_count": null,
   "metadata": {},
   "outputs": [],
   "source": []
  }
 ],
 "metadata": {
  "kernelspec": {
   "display_name": "Python 3",
   "language": "python",
   "name": "python3"
  },
  "language_info": {
   "codemirror_mode": {
    "name": "ipython",
    "version": 3
   },
   "file_extension": ".py",
   "mimetype": "text/x-python",
   "name": "python",
   "nbconvert_exporter": "python",
   "pygments_lexer": "ipython3",
   "version": "3.7.3"
  }
 },
 "nbformat": 4,
 "nbformat_minor": 2
}
