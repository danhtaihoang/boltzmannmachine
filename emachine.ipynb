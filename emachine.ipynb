{
 "cells": [
  {
   "cell_type": "markdown",
   "metadata": {},
   "source": [
    "## epsilon-machine\n",
    "\n",
    "We will test the performance of our method, epsilon-machine (EM), in inferring couplings $W_{ij}$ from synthetic data.\n",
    "\n",
    "First of all, we import the necessary packages to the Jupyter notebook:"
   ]
  },
  {
   "cell_type": "code",
   "execution_count": 1,
   "metadata": {},
   "outputs": [],
   "source": [
    "import numpy as np\n",
    "import matplotlib.pyplot as plt\n",
    "import emachine as EM"
   ]
  },
  {
   "cell_type": "code",
   "execution_count": 2,
   "metadata": {},
   "outputs": [],
   "source": [
    "np.random.seed(0)"
   ]
  },
  {
   "cell_type": "markdown",
   "metadata": {},
   "source": [
    "We consider a system of `n_var` variables that interact each others with a coupling variability parameter `g`. The number of observed sequences is `n_seq`."
   ]
  },
  {
   "cell_type": "code",
   "execution_count": 3,
   "metadata": {},
   "outputs": [],
   "source": [
    "# parameter setting\n",
    "n_var = 40\n",
    "g = 0.5\n",
    "n_seq = 2000"
   ]
  },
  {
   "cell_type": "markdown",
   "metadata": {},
   "source": [
    "Using the function `EM.generate_seq`, we synthesize non-time series of variable states, `seqs`. The actual interactions between variables is represented by `w_true`. In this code, `w_true` includes linear terms and quadratic terms."
   ]
  },
  {
   "cell_type": "code",
   "execution_count": 4,
   "metadata": {},
   "outputs": [],
   "source": [
    "w_true,seqs = EM.generate_seq(n_var,n_seq,g=g)"
   ]
  },
  {
   "cell_type": "markdown",
   "metadata": {},
   "source": [
    "For convenience and to reduce computing time (in python), we use Einstein convention to convert linear and quadratic terms: $\\{ops\\} = \\{\\sigma_i, \\sigma_i \\sigma_j\\}$ (with $i < j$). So that, `ops` is a matrix of `n_seq` x `n_var + 0.5*n_var*(n_var-1)`."
   ]
  },
  {
   "cell_type": "code",
   "execution_count": 5,
   "metadata": {
    "scrolled": true
   },
   "outputs": [
    {
     "data": {
      "text/plain": [
       "(2000, 820)"
      ]
     },
     "execution_count": 5,
     "metadata": {},
     "output_type": "execute_result"
    }
   ],
   "source": [
    "ops = EM.operators(seqs)\n",
    "ops.shape"
   ]
  },
  {
   "cell_type": "markdown",
   "metadata": {},
   "source": [
    "We will use the function `EM.fit` to run the EM with various value of `eps` from 0 to 1. The outputs are inferred interactions `w_eps` and the mean energy of observed configurations `E_eps`."
   ]
  },
  {
   "cell_type": "code",
   "execution_count": 6,
   "metadata": {
    "scrolled": false
   },
   "outputs": [
    {
     "name": "stdout",
     "output_type": "stream",
     "text": [
      "0.3 -8.604711201181791\n",
      "0.4 -7.29132964964224\n",
      "0.5 -6.550308616840322\n",
      "0.6000000000000001 -6.142749870702957\n",
      "0.7000000000000001 -5.960562976526811\n",
      "0.8 -5.965516508843928\n",
      "0.9 -6.181265276558269\n"
     ]
    }
   ],
   "source": [
    "eps_list = np.linspace(0.3,0.9,7)\n",
    "E_eps = np.zeros(len(eps_list))\n",
    "w_eps = np.zeros((len(eps_list),ops.shape[1]))\n",
    "for i,eps in enumerate(eps_list):    \n",
    "    w_eps[i,:],E_eps[i] = EM.fit(ops,eps=eps,max_iter=100)\n",
    "    print(eps,E_eps[i])"
   ]
  },
  {
   "cell_type": "markdown",
   "metadata": {},
   "source": [
    "We calculate the mean squared error between the actual and predicted interactions: `MSE = np.mean((w_eps - w_true[np.newaxis,:])**2, axis = 1)`."
   ]
  },
  {
   "cell_type": "code",
   "execution_count": 7,
   "metadata": {},
   "outputs": [],
   "source": [
    "MSE_eps = np.mean((w_eps - w_true[np.newaxis,:])**2,axis=1)"
   ]
  },
  {
   "cell_type": "markdown",
   "metadata": {},
   "source": [
    "As expected, `MSE` and `Energy` depend on `eps`."
   ]
  },
  {
   "cell_type": "code",
   "execution_count": 8,
   "metadata": {
    "scrolled": false
   },
   "outputs": [
    {
     "data": {
      "image/png": "[encoded data removed]",
      "text/plain": [
       "<Figure size 504x201.6 with 2 Axes>"
      ]
     },
     "metadata": {
      "needs_background": "light"
     },
     "output_type": "display_data"
    }
   ],
   "source": [
    "nx,ny = 2,1\n",
    "nfig = nx*ny\n",
    "fig, ax = plt.subplots(ny,nx,figsize=(nx*3.5,ny*2.8))\n",
    "\n",
    "ax[0].plot(eps_list,MSE_eps,'ko-')\n",
    "ax[1].plot(eps_list,E_eps,'ko-')\n",
    "\n",
    "ax[0].set_xlabel('$\\epsilon$')\n",
    "ax[0].set_ylabel('MSE')\n",
    "ax[1].set_xlabel('$\\epsilon$')\n",
    "ax[1].set_ylabel('Energy')\n",
    "\n",
    "label = ['(a)','(b)','(c)','(d)','(e)','(g)','(d)','(h)']\n",
    "xlabel = np.full(nfig,-0.2)\n",
    "ylabel = np.full(nfig,1.)\n",
    "k = 0\n",
    "for i in range(nx):     \n",
    "    ax[i].text(xlabel[k],ylabel[k],label[k],transform=ax[i].transAxes,va='top',ha='right',fontsize=13)\n",
    "    k += 1\n",
    "        \n",
    "plt.tight_layout(h_pad=1, w_pad=1.5)\n",
    "#plt.savefig('fig1.pdf', format='pdf', dpi=100)"
   ]
  },
  {
   "cell_type": "markdown",
   "metadata": {},
   "source": [
    "It is important to note that mean squared error `MSE_eps` and energy `E` respectively become minimal and maximal at the same optimal `eps`, so we can use `E_eps` to infer optimal `eps`."
   ]
  },
  {
   "cell_type": "code",
   "execution_count": 9,
   "metadata": {
    "scrolled": true
   },
   "outputs": [
    {
     "name": "stdout",
     "output_type": "stream",
     "text": [
      "The optimal value of eps: 0.7000000000000001\n"
     ]
    }
   ],
   "source": [
    "ieps = np.argmax(E_eps)\n",
    "print('The optimal value of eps:',eps_list[ieps])"
   ]
  },
  {
   "cell_type": "markdown",
   "metadata": {},
   "source": [
    "So our inferred interactions from our eps machine should be"
   ]
  },
  {
   "cell_type": "code",
   "execution_count": 10,
   "metadata": {},
   "outputs": [],
   "source": [
    "w = w_eps[ieps]"
   ]
  },
  {
   "cell_type": "markdown",
   "metadata": {},
   "source": [
    "We compare `w` and `w_true`."
   ]
  },
  {
   "cell_type": "code",
   "execution_count": 13,
   "metadata": {},
   "outputs": [
    {
     "data": {
      "text/plain": [
       "(-0.3, 0.3)"
      ]
     },
     "execution_count": 13,
     "metadata": {},
     "output_type": "execute_result"
    },
    {
     "data": {
      "image/png": "[encoded data removed]",
      "text/plain": [
       "<Figure size 288x216 with 1 Axes>"
      ]
     },
     "metadata": {
      "needs_background": "light"
     },
     "output_type": "display_data"
    }
   ],
   "source": [
    "plt.figure(figsize=(4,3))\n",
    "\n",
    "plt.plot([-1,1],[-1,1],'r--')\n",
    "plt.plot(w_true,w,'ko')\n",
    "plt.xlabel('Actual interactions')\n",
    "plt.ylabel('Inferred interactions')\n",
    "plt.xlim([-0.3,0.3])\n",
    "plt.ylim([-0.3,0.3])"
   ]
  },
  {
   "cell_type": "markdown",
   "metadata": {},
   "source": [
    "As you see, the inferred interactions look very similar to the actual interactions!"
   ]
  }
 ],
 "metadata": {
  "kernelspec": {
   "display_name": "Python 3",
   "language": "python",
   "name": "python3"
  },
  "language_info": {
   "codemirror_mode": {
    "name": "ipython",
    "version": 3
   },
   "file_extension": ".py",
   "mimetype": "text/x-python",
   "name": "python",
   "nbconvert_exporter": "python",
   "pygments_lexer": "ipython3",
   "version": "3.7.3"
  }
 },
 "nbformat": 4,
 "nbformat_minor": 2
}
