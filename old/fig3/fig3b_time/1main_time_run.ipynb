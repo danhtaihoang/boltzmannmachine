{
 "cells": [
  {
   "cell_type": "code",
   "execution_count": 1,
   "metadata": {},
   "outputs": [],
   "source": [
    "import matplotlib.pyplot as plt\n",
    "import numpy as np\n",
    "import numpy.linalg as nplin\n",
    "import itertools\n",
    "import timeit"
   ]
  },
  {
   "cell_type": "code",
   "execution_count": 2,
   "metadata": {},
   "outputs": [],
   "source": [
    "np.random.seed(0)"
   ]
  },
  {
   "cell_type": "code",
   "execution_count": 3,
   "metadata": {},
   "outputs": [],
   "source": [
    "def operators(s):\n",
    "    #generate terms in the energy function\n",
    "    n_seq,n_var = s.shape\n",
    "    ops = np.zeros((n_seq,n_var+int(n_var*(n_var-1)/2.0)))\n",
    "\n",
    "    jindex = 0\n",
    "    for index in range(n_var):\n",
    "        ops[:,jindex] = s[:,index]\n",
    "        jindex +=1\n",
    "\n",
    "    for index in range(n_var-1):\n",
    "        for index1 in range(index+1,n_var):\n",
    "            ops[:,jindex] = s[:,index]*s[:,index1]\n",
    "            jindex +=1\n",
    "            \n",
    "    return ops"
   ]
  },
  {
   "cell_type": "code",
   "execution_count": 4,
   "metadata": {},
   "outputs": [],
   "source": [
    "def energy_ops(ops,w):\n",
    "    return np.sum(ops*w[np.newaxis,:],axis=1)"
   ]
  },
  {
   "cell_type": "code",
   "execution_count": 5,
   "metadata": {},
   "outputs": [],
   "source": [
    "def generate_seqs(n_var,n_seq,n_sample=30,g=1.0):\n",
    "    samples = np.random.choice([1.0,-1.0],size=(n_seq*n_sample,n_var),replace=True)\n",
    "    ops = operators(samples)\n",
    "    n_ops = ops.shape[1]\n",
    "\n",
    "    w_true = g*(np.random.rand(ops.shape[1])-0.5)/np.sqrt(float(n_var))\n",
    "    #w_true = np.random.normal(0.,g/np.sqrt(n_var),size=n_ops)\n",
    "\n",
    "    sample_energy = energy_ops(ops,w_true)\n",
    "    p = np.exp(sample_energy)\n",
    "    p /= np.sum(p)\n",
    "    out_samples = np.random.choice(np.arange(n_seq*n_sample),size=n_seq,replace=True,p=p)\n",
    "    \n",
    "    return w_true,samples[out_samples] #,p[out_samples],sample_energy[out_samples]"
   ]
  },
  {
   "cell_type": "code",
   "execution_count": 6,
   "metadata": {},
   "outputs": [],
   "source": [
    "def eps_machine(s,eps_scale=0.1,max_iter=151,alpha=0.1):\n",
    "    MSE = np.zeros(max_iter)\n",
    "    KL = np.zeros(max_iter)\n",
    "    E_av = np.zeros(max_iter)\n",
    "    \n",
    "    n_seq,n_var = s.shape\n",
    "    ops = operators(s)\n",
    "    n_ops = ops.shape[1]\n",
    "    cov_inv = np.eye(ops.shape[1])\n",
    "\n",
    "    np.random.seed(13)\n",
    "    w = np.random.rand(n_ops)-0.5    \n",
    "    \n",
    "    w_iter = np.zeros((max_iter,n_ops))\n",
    "    for i in range(max_iter): \n",
    "        \n",
    "        eps_scale = np.random.rand()/np.max([1.,np.max(np.abs(w))])\n",
    "        \n",
    "        energies_w = energy_ops(ops,w)\n",
    "        probs_w = np.exp(-energies_w*(1-eps_scale))\n",
    "        z_data = np.sum(probs_w)\n",
    "        probs_w /= z_data\n",
    "        ops_expect_w = np.sum(probs_w[:,np.newaxis]*ops,axis=0)\n",
    "        \n",
    "        #if i%int(10) == 0:\n",
    "        E_exp = (probs_w*energies_w).sum()\n",
    "        KL[i] = -E_exp - np.log(z_data) + np.sum(np.log(np.cosh(w*eps_scale))) + n_var*np.log(2.)\n",
    "        \n",
    "        if i > 50 and KL[i] >= KL[i-1]: break\n",
    "                \n",
    "        E_av[i] = energies_w.mean()\n",
    "        MSE[i] = ((w-w_true)**2).mean()\n",
    "        sec_order = w*eps_scale\n",
    "        w += alpha*cov_inv.dot((ops_expect_w - sec_order))        \n",
    "        \n",
    "        w_iter[i,:] = w\n",
    "        \n",
    "    #return MSE,KL,E_av,w_iter\n",
    "    return MSE,KL,E_av,w"
   ]
  },
  {
   "cell_type": "code",
   "execution_count": 7,
   "metadata": {},
   "outputs": [],
   "source": [
    "def hopfield_model(s):\n",
    "    ops = operators(s)\n",
    "    w = np.mean(ops,axis=0)\n",
    "    #print('hopfield error ',nplin.norm(w-w_true))\n",
    "    return w"
   ]
  },
  {
   "cell_type": "code",
   "execution_count": 8,
   "metadata": {},
   "outputs": [],
   "source": [
    "def boltzmann_machine_exact(s,s_all,max_iter=150,alpha=5e-2,cov=False):\n",
    "    n_seq,n_var = s.shape\n",
    "    ops = operators(s)\n",
    "    cov_inv = np.eye(ops.shape[1])\n",
    "    ops_obs = np.mean(ops,axis=0)\n",
    "    ops_model = operators(s_all)\n",
    "\n",
    "    n_ops = ops.shape[1]\n",
    "    \n",
    "    np.random.seed(13)\n",
    "    w = np.random.rand(n_ops)-0.5    \n",
    "    for iterate in range(max_iter):\n",
    "        energies_w = energy_ops(ops_model,w)\n",
    "        probs_w = np.exp(energies_w)\n",
    "        probs_w /= np.sum(probs_w)\n",
    "        if iterate%10 == 0: \n",
    "            #print(iterate,nplin.norm(w-w_true)) #,nplin.norm(spin_cov_w-spin_cov_obs))\n",
    "            MSE = ((w-w_true)**2).mean()\n",
    "            #print(iterate,MSE)\n",
    "            \n",
    "        w += alpha*cov_inv.dot(ops_obs - np.sum(ops_model*probs_w[:,np.newaxis],axis=0))\n",
    "\n",
    "    #print('final',iterate,MSE)\n",
    "\n",
    "    return w"
   ]
  },
  {
   "cell_type": "code",
   "execution_count": 9,
   "metadata": {},
   "outputs": [],
   "source": [
    "#print('Hopfield:')\n",
    "#w1 = hopfield_model(seqs)\n",
    "#print(((w1-w_true)**2).mean())"
   ]
  },
  {
   "cell_type": "code",
   "execution_count": 10,
   "metadata": {},
   "outputs": [
    {
     "data": {
      "text/plain": [
       "array([ 6,  8, 10, 12, 14, 16, 18, 20, 22])"
      ]
     },
     "execution_count": 10,
     "metadata": {},
     "output_type": "execute_result"
    }
   ],
   "source": [
    "nn_var = 9\n",
    "n_var_list = np.linspace(6,22,nn_var).astype(int)\n",
    "n_var_list"
   ]
  },
  {
   "cell_type": "code",
   "execution_count": 11,
   "metadata": {
    "scrolled": false
   },
   "outputs": [
    {
     "name": "stdout",
     "output_type": "stream",
     "text": [
      "esp machine:\n",
      "run_time: 0.1055016239406541\n",
      "Boltzmann (exact):\n",
      "run_time: 0.008801202056929469\n",
      "esp machine:\n",
      "run_time: 0.09478334605228156\n",
      "Boltzmann (exact):\n",
      "run_time: 0.01636823604349047\n",
      "esp machine:\n",
      "run_time: 0.1193123379489407\n",
      "Boltzmann (exact):\n",
      "run_time: 0.04307816503569484\n",
      "esp machine:\n",
      "run_time: 0.1652662210399285\n",
      "Boltzmann (exact):\n",
      "run_time: 0.20825771207455546\n",
      "esp machine:\n",
      "run_time: 0.20188245095778257\n",
      "Boltzmann (exact):\n",
      "run_time: 1.052928045974113\n",
      "esp machine:\n",
      "run_time: 0.26840706600341946\n",
      "Boltzmann (exact):\n",
      "run_time: 10.317049267003313\n",
      "esp machine:\n",
      "run_time: 0.35903924994636327\n",
      "Boltzmann (exact):\n",
      "run_time: 53.24531389796175\n",
      "esp machine:\n",
      "run_time: 0.5479394448921084\n",
      "Boltzmann (exact):\n",
      "run_time: 265.9359307930572\n",
      "esp machine:\n",
      "run_time: 0.6672504560556263\n",
      "Boltzmann (exact):\n",
      "run_time: 1258.2617295189993\n"
     ]
    }
   ],
   "source": [
    "max_iter = 150\n",
    "\n",
    "n_seq = 10000\n",
    "#n_var = 10\n",
    "g = 2.\n",
    "\n",
    "n_var_list = np.linspace(6,22,nn_var)\n",
    "\n",
    "run_time1 = np.zeros(nn_var)\n",
    "run_time2 = np.zeros(nn_var)\n",
    "for i,n_var in enumerate(n_var_list):\n",
    "    n_var = int(n_var)\n",
    "    w_true,seqs = generate_seqs(n_var,n_seq,g=g)\n",
    "\n",
    "    print('esp machine:')\n",
    "    start_time1 = timeit.default_timer()\n",
    "    MSE,KL,E_av,w = eps_machine(seqs,eps_scale=0.1,max_iter=max_iter)\n",
    "    run_time1[i] = timeit.default_timer() - start_time1\n",
    "    print('run_time:',run_time1[i])\n",
    "\n",
    "    print('Boltzmann (exact):')\n",
    "    start_time2 = timeit.default_timer()\n",
    "    s_all = np.asarray(list(itertools.product([1.0, -1.0], repeat=n_var)))\n",
    "    w2 = boltzmann_machine_exact(seqs,s_all,cov=False)\n",
    "    run_time2[i] = timeit.default_timer() - start_time2\n",
    "    print('run_time:',run_time2[i])"
   ]
  },
  {
   "cell_type": "code",
   "execution_count": 12,
   "metadata": {},
   "outputs": [
    {
     "name": "stdout",
     "output_type": "stream",
     "text": [
      "[0.10550162 0.09478335 0.11931234 0.16526622 0.20188245 0.26840707\n",
      " 0.35903925 0.54793944 0.66725046]\n"
     ]
    }
   ],
   "source": [
    "print(run_time1)"
   ]
  },
  {
   "cell_type": "code",
   "execution_count": 13,
   "metadata": {},
   "outputs": [
    {
     "name": "stdout",
     "output_type": "stream",
     "text": [
      "[8.80120206e-03 1.63682360e-02 4.30781650e-02 2.08257712e-01\n",
      " 1.05292805e+00 1.03170493e+01 5.32453139e+01 2.65935931e+02\n",
      " 1.25826173e+03]\n"
     ]
    }
   ],
   "source": [
    "print(run_time2)"
   ]
  },
  {
   "cell_type": "code",
   "execution_count": 14,
   "metadata": {},
   "outputs": [],
   "source": [
    "np.savetxt('run_time.txt',(n_var_list,run_time1,run_time2),fmt='%f')"
   ]
  },
  {
   "cell_type": "code",
   "execution_count": 15,
   "metadata": {},
   "outputs": [],
   "source": [
    "#plt.plot([-0.2,0.2],[-0.2,0.2])\n",
    "#plt.plot(w_true,w,'ro')\n",
    "#plt.plot(w_true,w2,'bo')"
   ]
  },
  {
   "cell_type": "code",
   "execution_count": 16,
   "metadata": {},
   "outputs": [],
   "source": [
    "#np.savetxt('w_true_hopfield_boltzmann_eps_n20l10k.txt',(w_true,w1,w2,w[-1]),fmt='%f')"
   ]
  },
  {
   "cell_type": "code",
   "execution_count": null,
   "metadata": {},
   "outputs": [],
   "source": []
  },
  {
   "cell_type": "code",
   "execution_count": null,
   "metadata": {},
   "outputs": [],
   "source": []
  }
 ],
 "metadata": {
  "kernelspec": {
   "display_name": "Python 3",
   "language": "python",
   "name": "python3"
  },
  "language_info": {
   "codemirror_mode": {
    "name": "ipython",
    "version": 3
   },
   "file_extension": ".py",
   "mimetype": "text/x-python",
   "name": "python",
   "nbconvert_exporter": "python",
   "pygments_lexer": "ipython3",
   "version": "3.7.3"
  }
 },
 "nbformat": 4,
 "nbformat_minor": 2
}
