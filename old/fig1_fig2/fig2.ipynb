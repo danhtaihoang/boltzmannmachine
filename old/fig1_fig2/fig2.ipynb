{
 "cells": [
  {
   "cell_type": "code",
   "execution_count": 1,
   "metadata": {},
   "outputs": [],
   "source": [
    "import matplotlib.pyplot as plt\n",
    "import numpy as np\n",
    "import numpy.linalg as nplin\n",
    "import itertools"
   ]
  },
  {
   "cell_type": "code",
   "execution_count": 2,
   "metadata": {},
   "outputs": [],
   "source": [
    "np.random.seed(0)"
   ]
  },
  {
   "cell_type": "code",
   "execution_count": 3,
   "metadata": {},
   "outputs": [],
   "source": [
    "MSE = np.loadtxt('MSE_l5k.txt')\n",
    "KL = np.loadtxt('KL_l5k.txt')\n",
    "E_av = np.loadtxt('E_av_l5k.txt')"
   ]
  },
  {
   "cell_type": "code",
   "execution_count": 4,
   "metadata": {},
   "outputs": [],
   "source": [
    "MSE2 = np.loadtxt('MSE_l10k.txt')\n",
    "KL2 = np.loadtxt('KL_l10k.txt')\n",
    "E_av2 = np.loadtxt('E_av_l10k.txt')"
   ]
  },
  {
   "cell_type": "code",
   "execution_count": 5,
   "metadata": {},
   "outputs": [],
   "source": [
    "E_av = -E_av\n",
    "#E_av2 = -E_av2"
   ]
  },
  {
   "cell_type": "code",
   "execution_count": 6,
   "metadata": {},
   "outputs": [],
   "source": [
    "eps_list = np.linspace(0,1.0,11)\n",
    "n_eps = len(eps_list)\n",
    "\n",
    "MSE_eps = np.zeros(n_eps)\n",
    "KL_eps = np.zeros(n_eps)\n",
    "E_eps = np.zeros(n_eps)\n",
    "for i in range(n_eps):\n",
    "    it = np.argmin(KL[i,:])\n",
    "    MSE_eps[i] = MSE[i,it]\n",
    "    KL_eps[i] = KL[i,it]\n",
    "    E_eps[i] = E_av[i,:].min()"
   ]
  },
  {
   "cell_type": "code",
   "execution_count": 7,
   "metadata": {},
   "outputs": [],
   "source": [
    "MSE2_eps = np.zeros(n_eps)\n",
    "KL2_eps = np.zeros(n_eps)\n",
    "E2_eps = np.zeros(n_eps)\n",
    "for i in range(n_eps):\n",
    "    it = np.argmin(KL2[i,:])\n",
    "    MSE2_eps[i] = MSE2[i,it]\n",
    "    KL2_eps[i] = KL2[i,it]\n",
    "    E2_eps[i] = E_av2[i,:].min()"
   ]
  },
  {
   "cell_type": "code",
   "execution_count": 12,
   "metadata": {},
   "outputs": [],
   "source": [
    "# MSE from random eps\n",
    "MSE12 = np.loadtxt('MSE_random_eps_l5k.txt')\n",
    "MSE22 = np.loadtxt('MSE_random_eps_l10k.txt')"
   ]
  },
  {
   "cell_type": "code",
   "execution_count": 16,
   "metadata": {
    "scrolled": true
   },
   "outputs": [
    {
     "data": {
      "image/png": "[encoded data removed]",
      "text/plain": [
       "<Figure size 252x216 with 1 Axes>"
      ]
     },
     "metadata": {
      "needs_background": "light"
     },
     "output_type": "display_data"
    }
   ],
   "source": [
    "nx,ny = 1,1\n",
    "fig, ax = plt.subplots(ny,nx,figsize=(nx*3.5,ny*3))\n",
    "\n",
    "ax.plot(eps_list[:],MSE_eps[:],'ko-',label='L=5000')\n",
    "ax.plot(eps_list[:],MSE2_eps[:],'bs--',label='L=10000')\n",
    "ax.plot([0,1],[MSE12,MSE12],'k-')\n",
    "ax.plot([0,1],[MSE22,MSE22],'b--')\n",
    "\n",
    "ax.set_xlabel('eps')\n",
    "ax.set_ylabel('MSE')\n",
    "ax.legend()\n",
    "\n",
    "plt.tight_layout(h_pad=1, w_pad=1.5)\n",
    "plt.savefig('fig2.pdf', format='pdf', dpi=100)"
   ]
  },
  {
   "cell_type": "code",
   "execution_count": null,
   "metadata": {},
   "outputs": [],
   "source": []
  }
 ],
 "metadata": {
  "kernelspec": {
   "display_name": "Python 3",
   "language": "python",
   "name": "python3"
  },
  "language_info": {
   "codemirror_mode": {
    "name": "ipython",
    "version": 3
   },
   "file_extension": ".py",
   "mimetype": "text/x-python",
   "name": "python",
   "nbconvert_exporter": "python",
   "pygments_lexer": "ipython3",
   "version": "3.7.3"
  }
 },
 "nbformat": 4,
 "nbformat_minor": 2
}
