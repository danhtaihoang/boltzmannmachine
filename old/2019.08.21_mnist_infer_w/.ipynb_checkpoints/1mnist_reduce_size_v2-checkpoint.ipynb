{
 "cells": [
  {
   "cell_type": "code",
   "execution_count": 1,
   "metadata": {},
   "outputs": [],
   "source": [
    "#import matplotlib.pyplot as plt\n",
    "import numpy as np\n",
    "import matplotlib.pyplot as plt\n",
    "import emachine as EM"
   ]
  },
  {
   "cell_type": "code",
   "execution_count": 2,
   "metadata": {},
   "outputs": [],
   "source": [
    "np.random.seed(0)"
   ]
  },
  {
   "cell_type": "code",
   "execution_count": 3,
   "metadata": {},
   "outputs": [],
   "source": [
    "s0 = np.loadtxt('../MNIST_data/mnist_train.csv',delimiter=',')"
   ]
  },
  {
   "cell_type": "code",
   "execution_count": 4,
   "metadata": {},
   "outputs": [
    {
     "name": "stdout",
     "output_type": "stream",
     "text": [
      "(60000, 784) (60000,)\n"
     ]
    }
   ],
   "source": [
    "seq = s0[:,1:] \n",
    "label = s0[:,0]\n",
    "print(seq.shape,label.shape)"
   ]
  },
  {
   "cell_type": "code",
   "execution_count": 19,
   "metadata": {},
   "outputs": [
    {
     "name": "stdout",
     "output_type": "stream",
     "text": [
      "8 (5851, 784) (5851,)\n"
     ]
    }
   ],
   "source": [
    "# select only 1 digit\n",
    "digit = 8\n",
    "i = label == digit\n",
    "label1 = label[i]\n",
    "seq1 = seq[i]\n",
    "print(digit,seq1.shape,label1.shape)\n",
    "\n",
    "# convert to binary\n",
    "seq1 = np.sign(seq1-1.5)"
   ]
  },
  {
   "cell_type": "code",
   "execution_count": 20,
   "metadata": {
    "scrolled": true
   },
   "outputs": [
    {
     "name": "stdout",
     "output_type": "stream",
     "text": [
      "(5851, 28, 28)\n"
     ]
    }
   ],
   "source": [
    "# combine pixels to reduce the size of image\n",
    "n = seq1.shape[0]\n",
    "m = int(np.sqrt(seq1.shape[1]))\n",
    "seq2 = seq1.reshape(n,m,m) # recover the image\n",
    "print(seq2.shape)\n",
    "\n",
    "r = 2 # reduced fraction\n",
    "\n",
    "m2 = int(m/float(r))\n",
    "seq2_sum = np.zeros((n,m2,m2))\n",
    "i_list = np.linspace(0,m-r,m2).astype(int)\n",
    "for t in range(n):\n",
    "    for i2,i in enumerate(i_list):\n",
    "        for j2,j in enumerate(i_list):\n",
    "            seq2_sum[t,i2,j2] = np.sum(seq2[t,i:i+r,j:j+r])"
   ]
  },
  {
   "cell_type": "code",
   "execution_count": 22,
   "metadata": {
    "scrolled": true
   },
   "outputs": [
    {
     "name": "stdout",
     "output_type": "stream",
     "text": [
      "(5851, 14, 14)\n"
     ]
    },
    {
     "data": {
      "image/png": "[encoded data removed]",
      "text/plain": [
       "<Figure size 504x604.8 with 6 Axes>"
      ]
     },
     "metadata": {
      "needs_background": "light"
     },
     "output_type": "display_data"
    }
   ],
   "source": [
    "seq_reduced = np.sign(seq2_sum - 1.5)\n",
    "print(seq_reduced.shape)\n",
    "\n",
    "nx,ny = 2,3\n",
    "nfig = nx*ny\n",
    "fig, ax = plt.subplots(ny,nx,figsize=(nx*3.5,ny*2.8))\n",
    "for i in range(ny):\n",
    "    ax[i,0].imshow(seq2[i],interpolation='nearest')\n",
    "    ax[i,1].imshow(seq_reduced[i],interpolation='nearest')"
   ]
  },
  {
   "cell_type": "code",
   "execution_count": null,
   "metadata": {},
   "outputs": [],
   "source": []
  }
 ],
 "metadata": {
  "kernelspec": {
   "display_name": "Python 3",
   "language": "python",
   "name": "python3"
  },
  "language_info": {
   "codemirror_mode": {
    "name": "ipython",
    "version": 3
   },
   "file_extension": ".py",
   "mimetype": "text/x-python",
   "name": "python",
   "nbconvert_exporter": "python",
   "pygments_lexer": "ipython3",
   "version": "3.7.3"
  }
 },
 "nbformat": 4,
 "nbformat_minor": 2
}
