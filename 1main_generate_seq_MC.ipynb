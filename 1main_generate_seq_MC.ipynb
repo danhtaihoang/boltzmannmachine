{
 "cells": [
  {
   "cell_type": "code",
   "execution_count": 1,
   "metadata": {},
   "outputs": [],
   "source": [
    "import sys,os\n",
    "from matplotlib.backends.backend_pdf import PdfPages\n",
    "import matplotlib.pyplot as plt\n",
    "import numpy as np\n",
    "import numpy.linalg as nplin\n",
    "import scipy as sp\n",
    "from scipy.linalg import pinv as spinv\n",
    "from sklearn.metrics import pairwise_distances"
   ]
  },
  {
   "cell_type": "code",
   "execution_count": 2,
   "metadata": {},
   "outputs": [],
   "source": [
    "def operators(s):\n",
    "    #generate terms in the energy function\n",
    "    n_seq,n_var = s.shape\n",
    "    ops = np.zeros((n_seq,n_var+int(n_var*(n_var-1)/2.0)))\n",
    "    \n",
    "    jindex = 0\n",
    "    for index in range(n_var):\n",
    "        ops[:,jindex] = s[:,index]\n",
    "        jindex +=1\n",
    "    \n",
    "    for index in range(n_var-1):\n",
    "        for index1 in range(index+1,n_var):\n",
    "            ops[:,jindex] = s[:,index]*s[:,index1]\n",
    "            jindex +=1\n",
    "            \n",
    "    return ops"
   ]
  },
  {
   "cell_type": "code",
   "execution_count": 3,
   "metadata": {},
   "outputs": [],
   "source": [
    "def energy_ops(ops,w):\n",
    "    return np.sum(ops*w[np.newaxis,:],axis=1)"
   ]
  },
  {
   "cell_type": "code",
   "execution_count": 4,
   "metadata": {},
   "outputs": [],
   "source": [
    "def generate_seqs(n_var,n_seq,n_sample=30,large=False,num_large=4):\n",
    "    samples = np.random.choice([1.0,-1.0],size=n_var*n_seq*n_sample,replace=True).reshape(n_seq*n_sample,n_var)\n",
    "    ops = operators(samples)\n",
    "    n_ops = ops.shape[1]\n",
    "\n",
    "    w_true = (np.random.rand(ops.shape[1])-0.5)/np.sqrt(float(n_var))\n",
    "\n",
    "    if large and num_large>0: #putting in some large couplings\n",
    "        indices_large = np.random.choice(range(n_var,n_ops),size=num_large,replace=False)\n",
    "        for l_index in range(num_large):\n",
    "            w_true[indices_large[l_index]] *= 10.0\n",
    "\n",
    "    sample_energy = energy_ops(ops,w_true)\n",
    "    p = np.exp(sample_energy)\n",
    "    p = p/np.sum(p)\n",
    "    out_samples = np.random.choice(np.arange(n_seq*n_sample),size=n_seq,replace=True,p=p)\n",
    "    \n",
    "    return w_true,samples[out_samples],p[out_samples],sample_energy[out_samples]"
   ]
  },
  {
   "cell_type": "code",
   "execution_count": 5,
   "metadata": {},
   "outputs": [],
   "source": [
    "def generate_seqs_MC(n,l):\n",
    "    nx = n + int(n*(n-1)/2)\n",
    "    s = np.random.choice([1.0,-1.0],size=(l,n))\n",
    "    w = (np.random.rand(nx)-0.5)/np.sqrt(float(n))\n",
    "\n",
    "    nrepeat = 50*n\n",
    "    for irepeat in range(nrepeat):   \n",
    "        for i in range(n):\n",
    "            x = operators(s)\n",
    "            e_old = -x.dot(w)\n",
    "        \n",
    "            s_temp = s.copy()\n",
    "            s_temp[:,i] = -s[:,i].copy()\n",
    "            x_temp = operators(s_temp)\n",
    "            e_new = -x_temp.dot(w)\n",
    "            seq_flip = np.exp(e_old - e_new) > np.random.rand(l)\n",
    "            #seq_flip = np.exp(e_old - e_new) < np.random.rand(l)\n",
    "            \n",
    "            s[seq_flip,i] = s_temp[seq_flip,i]\n",
    "\n",
    "    return w,s        "
   ]
  },
  {
   "cell_type": "code",
   "execution_count": 6,
   "metadata": {},
   "outputs": [],
   "source": [
    "def eps_machine_step(n_seq,w,ops,eps_scale,alpha):\n",
    "    obs_energies_w = energy_ops(ops,w)\n",
    "    sec_order = np.tanh(w*eps_scale)\n",
    "    probs_w = (-obs_energies_w*(1-eps_scale)).reshape(n_seq)\n",
    "    max_obs = np.max(probs_w)\n",
    "    probs_w = np.exp(probs_w - max_obs)\n",
    "    probs_w /= np.sum(probs_w)\n",
    "    ops_expect_w = np.sum(probs_w[:,np.newaxis]*ops,axis=0)\n",
    "    \n",
    "    return alpha*(ops_expect_w - sec_order)"
   ]
  },
  {
   "cell_type": "code",
   "execution_count": 7,
   "metadata": {},
   "outputs": [],
   "source": [
    "def log_prob_given(s,col,w):\n",
    "    s_temp = np.copy(s)\n",
    "    s_temp[:,col] = -s_temp[:,col]\n",
    "    \n",
    "    return np.log(1.0/(1.0 + np.exp(energy_ops(operators(s_temp),w)-energy_ops(operators(s),w))))"
   ]
  },
  {
   "cell_type": "code",
   "execution_count": 8,
   "metadata": {},
   "outputs": [],
   "source": [
    "def tau_update(n_seq,n_var,ops,w):\n",
    "    sigma_i = ops[:,:n_var]\n",
    "    \n",
    "    energy_orig = energy_ops(ops,w)\n",
    "    prob_sigma_fake = 0.0\n",
    "    prob_sigma_orig = 0.0\n",
    "    s_temp1,s_new = np.copy(ops[:,:n_var]),np.copy(ops[:,:n_var])\n",
    "    for col in range(n_var):        \n",
    "        s_temp = np.copy(ops[:,:n_var])\n",
    "        s_temp[:,col] = np.random.choice([1,-1],size=(n_seq))\n",
    "        \n",
    "        #prob_flip = 1.0/(1.0+np.exp(energy_orig - energy_ops(operators(s_temp),w)))\n",
    "        \n",
    "        # 2019.07.21: Tai\n",
    "        prob_flip = np.exp(energy_orig - energy_ops(operators(s_temp),w))\n",
    "        \n",
    "        rand_choice = prob_flip > np.random.rand(n_seq) # present sigma[col] is less likely\n",
    "        \n",
    "        s_temp1[rand_choice,col] = s_temp[rand_choice,col]\n",
    "        s_new[rand_choice,col] = s_temp[rand_choice,col]\n",
    "        prob_sigma_fake += np.mean(log_prob_given(s_temp1,col,w))\n",
    "        s_temp1 = np.copy(ops[:,:n_var])\n",
    "        prob_sigma_orig += np.mean(log_prob_given(s_temp1,col,w))\n",
    "    ops_new = operators(s_new)\n",
    "    return operators(s_temp),ops_new,prob_sigma_orig-prob_sigma_fake"
   ]
  },
  {
   "cell_type": "code",
   "execution_count": 9,
   "metadata": {},
   "outputs": [],
   "source": [
    "def eps_machine_rbm_EM(w_true,w,s,eps_scale=.01,max_iter=50,alpha=0.05,W_rep=30, RBM=0):\n",
    "    n_seq,n_var = s.shape\n",
    "    s_temp = np.copy(s)\n",
    "    s_temp[:,n_var-RBM:n_var] = np.random.choice([1,-1],size=(n_seq,RBM))\n",
    "    \n",
    "    ops = operators(s_temp)\n",
    "    ops_flip = np.copy(ops)\n",
    "    prob_sig,eigs_list = [],[]\n",
    "    for iterate in range(max_iter):\n",
    "        w_new = np.copy(w)\n",
    "        \n",
    "        for w_rep in range(int(W_rep)): #more w updates before trying to update the hidden spins\n",
    "            delta_w_new = eps_machine_step(n_seq,w_new,ops,eps_scale,alpha)\n",
    "            if w_rep == 0:\n",
    "                if iterate > 0: \n",
    "                    size_dw_init_prev,size_dw_final_prev = size_dw_init,size_dw\n",
    "                size_dw_init = nplin.norm(delta_w_new)\n",
    "            size_dw = nplin.norm(delta_w_new)\n",
    "            w_new += delta_w_new\n",
    "\n",
    "            if size_dw/size_dw_init < 0.5: break\n",
    "\n",
    "        w = np.copy(w_new)\n",
    "        #ops,ops_flip,prob_sigma_orig_fake = tau_update(n_seq,n_var,ops,w)\n",
    "        #prob_sig.append(prob_sigma_orig_fake)\n",
    "\n",
    "        for ww_rep in range(max(1,int(w_rep/np.sqrt(float(iterate+1))))): #notice how many iterations we're doing!!\n",
    "            delta_w_flip = eps_machine_step(n_seq,w_new,ops_flip,eps_scale,alpha)\n",
    "            w_new -= delta_w_flip\n",
    "        w = w_new\n",
    "        \n",
    "    return w"
   ]
  },
  {
   "cell_type": "code",
   "execution_count": 10,
   "metadata": {},
   "outputs": [],
   "source": [
    "n_var,n_seq = 20,5000\n",
    "np.random.seed(0)\n",
    "\n",
    "#w_true,seqs,probs,energies = generate_seqs(n_var,n_seq,large=False,num_large=0)\n",
    "w_true,seqs = generate_seqs_MC(n_var,n_seq)"
   ]
  },
  {
   "cell_type": "code",
   "execution_count": 11,
   "metadata": {},
   "outputs": [
    {
     "name": "stdout",
     "output_type": "stream",
     "text": [
      "0 0.1\n",
      "1 0.5\n",
      "2 1.0\n"
     ]
    }
   ],
   "source": [
    "n_part = 5000\n",
    "eps_list = [0.1,0.5,1.0]\n",
    "\n",
    "#eps_list = [0.5]\n",
    "\n",
    "n = n_var+int((n_var-1)*n_var*0.5)\n",
    "w = np.zeros((n,len(eps_list)))\n",
    "              \n",
    "for i,eps in enumerate(eps_list):\n",
    "    print(i,eps)\n",
    "    np.random.seed(13)\n",
    "    w_trial = np.random.rand(n) - 0.5\n",
    "    w[:,i] = eps_machine_rbm_EM(w_true,w_trial,seqs[:n_part],max_iter=30,eps_scale=eps,RBM=0)"
   ]
  },
  {
   "cell_type": "code",
   "execution_count": 12,
   "metadata": {},
   "outputs": [
    {
     "data": {
      "text/plain": [
       "<matplotlib.collections.PathCollection at 0x7f6bd8873eb8>"
      ]
     },
     "execution_count": 12,
     "metadata": {},
     "output_type": "execute_result"
    },
    {
     "data": {
      "image/png": "[encoded data removed]",
      "text/plain": [
       "<Figure size 432x288 with 1 Axes>"
      ]
     },
     "metadata": {
      "needs_background": "light"
     },
     "output_type": "display_data"
    }
   ],
   "source": [
    "#plt.title('eps = %s'%eps)\n",
    "plt.plot([-0.2,0.2],[-0.2,0.2])\n",
    "plt.scatter(w_true,w[:,0])"
   ]
  },
  {
   "cell_type": "code",
   "execution_count": 13,
   "metadata": {},
   "outputs": [
    {
     "data": {
      "text/plain": [
       "<matplotlib.collections.PathCollection at 0x7f6bd87b0400>"
      ]
     },
     "execution_count": 13,
     "metadata": {},
     "output_type": "execute_result"
    },
    {
     "data": {
      "image/png": "[encoded data removed]",
      "text/plain": [
       "<Figure size 432x288 with 1 Axes>"
      ]
     },
     "metadata": {
      "needs_background": "light"
     },
     "output_type": "display_data"
    }
   ],
   "source": [
    "plt.plot([-0.2,0.2],[-0.2,0.2])\n",
    "plt.scatter(w_true,w[:,1])"
   ]
  },
  {
   "cell_type": "code",
   "execution_count": 14,
   "metadata": {},
   "outputs": [
    {
     "data": {
      "text/plain": [
       "<matplotlib.collections.PathCollection at 0x7f6bd87a15f8>"
      ]
     },
     "execution_count": 14,
     "metadata": {},
     "output_type": "execute_result"
    },
    {
     "data": {
      "image/png": "[encoded data removed]",
      "text/plain": [
       "<Figure size 432x288 with 1 Axes>"
      ]
     },
     "metadata": {
      "needs_background": "light"
     },
     "output_type": "display_data"
    }
   ],
   "source": [
    "plt.plot([-0.2,0.2],[-0.2,0.2])\n",
    "plt.scatter(w_true,w[:,2])"
   ]
  },
  {
   "cell_type": "code",
   "execution_count": null,
   "metadata": {},
   "outputs": [],
   "source": []
  }
 ],
 "metadata": {
  "kernelspec": {
   "display_name": "Python 3",
   "language": "python",
   "name": "python3"
  },
  "language_info": {
   "codemirror_mode": {
    "name": "ipython",
    "version": 3
   },
   "file_extension": ".py",
   "mimetype": "text/x-python",
   "name": "python",
   "nbconvert_exporter": "python",
   "pygments_lexer": "ipython3",
   "version": "3.7.3"
  }
 },
 "nbformat": 4,
 "nbformat_minor": 2
}
