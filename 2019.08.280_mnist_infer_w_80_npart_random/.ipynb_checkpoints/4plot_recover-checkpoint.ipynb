{
 "cells": [
  {
   "cell_type": "code",
   "execution_count": 1,
   "metadata": {},
   "outputs": [],
   "source": [
    "import numpy as np\n",
    "import matplotlib.pyplot as plt\n",
    "#import emachine as EM\n",
    "#import itertools"
   ]
  },
  {
   "cell_type": "code",
   "execution_count": 2,
   "metadata": {},
   "outputs": [],
   "source": [
    "np.random.seed(0)"
   ]
  },
  {
   "cell_type": "code",
   "execution_count": 3,
   "metadata": {},
   "outputs": [],
   "source": [
    "seq1 = np.loadtxt('seq1.dat')\n",
    "seq_hidden = np.loadtxt('seq_hidden_80.dat')\n",
    "seq_recover = np.loadtxt('seq_recover_80.dat')\n",
    "seq_recover_av = np.loadtxt('seq_recover_av_80.dat')"
   ]
  },
  {
   "cell_type": "code",
   "execution_count": 4,
   "metadata": {},
   "outputs": [
    {
     "data": {
      "image/png": "[encoded data removed]",
      "text/plain": [
       "<Figure size 576x187.2 with 4 Axes>"
      ]
     },
     "metadata": {
      "needs_background": "light"
     },
     "output_type": "display_data"
    }
   ],
   "source": [
    "nx,ny = 4,1\n",
    "nfig = nx*ny\n",
    "fig, ax = plt.subplots(ny,nx,figsize=(nx*2.0,ny*2.6))\n",
    "ax[0].imshow(seq1.reshape(28,28),interpolation='nearest')\n",
    "ax[1].imshow(seq_hidden.reshape(28,28),interpolation='nearest')\n",
    "ax[2].imshow(seq_recover.reshape(28,28),interpolation='nearest')\n",
    "ax[3].imshow(seq_recover_av.reshape(28,28),interpolation='nearest')\n",
    "\n",
    "ax[0].set_title('original image')\n",
    "ax[1].set_title('noise image')\n",
    "ax[2].set_title('recovered image')\n",
    "ax[3].set_title('recovered image -av')\n",
    "\n",
    "for i in range(nx):\n",
    "    ax[i].set_axis_off()\n",
    "    \n",
    "plt.tight_layout(h_pad=0.0, w_pad=-0.5)\n",
    "#plt.savefig('fig4_80_random.pdf', format='pdf', dpi=100)"
   ]
  },
  {
   "cell_type": "code",
   "execution_count": 24,
   "metadata": {},
   "outputs": [
    {
     "data": {
      "image/png": "[encoded data removed]",
      "text/plain": [
       "<Figure size 432x187.2 with 3 Axes>"
      ]
     },
     "metadata": {
      "needs_background": "light"
     },
     "output_type": "display_data"
    }
   ],
   "source": [
    "nx,ny = 3,1\n",
    "nfig = nx*ny\n",
    "fig, ax = plt.subplots(ny,nx,figsize=(nx*2.0,ny*2.6))\n",
    "ax[0].imshow(seq1.reshape(28,28),interpolation='nearest')\n",
    "ax[1].imshow(seq_hidden.reshape(28,28),interpolation='nearest')\n",
    "ax[2].imshow(seq_recover.reshape(28,28),interpolation='nearest')\n",
    "#ax[3].imshow(seq_recover_av.reshape(28,28),interpolation='nearest')\n",
    "\n",
    "ax[0].set_title('original image')\n",
    "ax[1].set_title('noise image')\n",
    "ax[2].set_title('recovered image')\n",
    "#ax[3].set_title('recovered image -av')\n",
    "\n",
    "for i in range(nx):\n",
    "    ax[i].set_axis_off()\n",
    "\n",
    "    \n",
    "label = ['(a)','(b)','(c)','(d)','(e)','(g)','(d)','(h)']\n",
    "xlabel = np.full(nfig,0.0)\n",
    "ylabel = np.full(nfig,1.1)\n",
    "k = 0\n",
    "for i in range(nx):        \n",
    "    ax[i].text(xlabel[k],ylabel[k],label[k],transform=ax[i].transAxes,va='top',ha='right',fontsize=13)\n",
    "    k += 1\n",
    "        \n",
    "plt.tight_layout(h_pad=0.0, w_pad=0.5)\n",
    "plt.savefig('fig4_80.pdf', format='pdf', dpi=100)"
   ]
  },
  {
   "cell_type": "code",
   "execution_count": null,
   "metadata": {},
   "outputs": [],
   "source": []
  }
 ],
 "metadata": {
  "kernelspec": {
   "display_name": "Python 3",
   "language": "python",
   "name": "python3"
  },
  "language_info": {
   "codemirror_mode": {
    "name": "ipython",
    "version": 3
   },
   "file_extension": ".py",
   "mimetype": "text/x-python",
   "name": "python",
   "nbconvert_exporter": "python",
   "pygments_lexer": "ipython3",
   "version": "3.7.3"
  }
 },
 "nbformat": 4,
 "nbformat_minor": 2
}
