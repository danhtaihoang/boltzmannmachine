{
 "cells": [
  {
   "cell_type": "code",
   "execution_count": 1,
   "metadata": {},
   "outputs": [],
   "source": [
    "#import matplotlib.pyplot as plt\n",
    "import numpy as np\n",
    "import matplotlib.pyplot as plt\n",
    "import emachine as EM"
   ]
  },
  {
   "cell_type": "code",
   "execution_count": 2,
   "metadata": {},
   "outputs": [],
   "source": [
    "np.random.seed(0)"
   ]
  },
  {
   "cell_type": "code",
   "execution_count": 3,
   "metadata": {},
   "outputs": [],
   "source": [
    "s0 = np.loadtxt('../MNIST_data/mnist_test.csv',delimiter=',')"
   ]
  },
  {
   "cell_type": "code",
   "execution_count": 4,
   "metadata": {},
   "outputs": [
    {
     "name": "stdout",
     "output_type": "stream",
     "text": [
      "(10000, 784) (10000,)\n"
     ]
    }
   ],
   "source": [
    "seq = s0[:,1:] \n",
    "label = s0[:,0]\n",
    "print(seq.shape,label.shape)"
   ]
  },
  {
   "cell_type": "code",
   "execution_count": 5,
   "metadata": {},
   "outputs": [
    {
     "name": "stdout",
     "output_type": "stream",
     "text": [
      "8 (974, 784) (974,)\n"
     ]
    }
   ],
   "source": [
    "# select only 1 digit\n",
    "digit = 8\n",
    "i = label == digit\n",
    "label1 = label[i]\n",
    "seq1 = seq[i]\n",
    "print(digit,seq1.shape,label1.shape)\n",
    "\n",
    "# convert to binary\n",
    "seq1 = np.sign(seq1-1.5)"
   ]
  },
  {
   "cell_type": "code",
   "execution_count": 6,
   "metadata": {},
   "outputs": [
    {
     "name": "stdout",
     "output_type": "stream",
     "text": [
      "(974, 28, 28)\n"
     ]
    }
   ],
   "source": [
    "# cut the boudaries \n",
    "# combine pixels to reduce the size of image\n",
    "n = seq1.shape[0]\n",
    "m = int(np.sqrt(seq1.shape[1]))\n",
    "seq2 = seq1.reshape(n,m,m) # recover the image\n",
    "print(seq2.shape)\n",
    "\n",
    "# reduce the size\n",
    "#seq2 = seq2[:,4:24,4:24]\n",
    "# 3D to 2D\n",
    "#seq1 = seq2.reshape(n,-1)"
   ]
  },
  {
   "cell_type": "code",
   "execution_count": 10,
   "metadata": {},
   "outputs": [
    {
     "data": {
      "text/plain": [
       "(974, 28, 28)"
      ]
     },
     "execution_count": 10,
     "metadata": {},
     "output_type": "execute_result"
    }
   ],
   "source": [
    "seq2.shape"
   ]
  },
  {
   "cell_type": "code",
   "execution_count": 19,
   "metadata": {},
   "outputs": [
    {
     "data": {
      "image/png": "[encoded data removed]",
      "text/plain": [
       "<Figure size 504x604.8 with 6 Axes>"
      ]
     },
     "metadata": {
      "needs_background": "light"
     },
     "output_type": "display_data"
    }
   ],
   "source": [
    "# create obs seqs\n",
    "seq_obs = np.zeros((n,m,m))\n",
    "m_obs = int(m/2)\n",
    "\n",
    "seq_obs[:,:m_obs,:] = seq2[:,:m_obs,:]\n",
    "seq_obs[:,m_obs:,:m_obs] = seq2[:,m_obs:,:m_obs]\n",
    "\n",
    "nx,ny = 2,3\n",
    "nfig = nx*ny\n",
    "fig, ax = plt.subplots(ny,nx,figsize=(nx*3.5,ny*2.8))\n",
    "for i in range(ny):\n",
    "    ax[i,0].imshow(seq2[i],interpolation='nearest')\n",
    "    ax[i,1].imshow(seq_obs[i],interpolation='nearest')"
   ]
  },
  {
   "cell_type": "code",
   "execution_count": 23,
   "metadata": {},
   "outputs": [
    {
     "data": {
      "text/plain": [
       "588"
      ]
     },
     "execution_count": 23,
     "metadata": {},
     "output_type": "execute_result"
    }
   ],
   "source": [
    "# observed columns\n",
    "seq_obs1 = seq_obs.reshape(n,-1)\n",
    "m = seq_obs1.shape[1]\n",
    "cols_obs = [i for i in range(m) if seq_obs1[0,i] != 0]\n",
    "len(cols_obs)"
   ]
  },
  {
   "cell_type": "code",
   "execution_count": 24,
   "metadata": {},
   "outputs": [],
   "source": [
    "np.savetxt('cols_obs.txt',cols_obs,fmt='%i')"
   ]
  },
  {
   "cell_type": "code",
   "execution_count": null,
   "metadata": {},
   "outputs": [],
   "source": []
  }
 ],
 "metadata": {
  "kernelspec": {
   "display_name": "Python 3",
   "language": "python",
   "name": "python3"
  },
  "language_info": {
   "codemirror_mode": {
    "name": "ipython",
    "version": 3
   },
   "file_extension": ".py",
   "mimetype": "text/x-python",
   "name": "python",
   "nbconvert_exporter": "python",
   "pygments_lexer": "ipython3",
   "version": "3.7.3"
  }
 },
 "nbformat": 4,
 "nbformat_minor": 2
}
