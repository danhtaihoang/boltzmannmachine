{
 "cells": [
  {
   "cell_type": "markdown",
   "metadata": {},
   "source": [
    "We demonstrate an application of our method in recovering an original image from a noise image. We ilustrate this idea with MNIST images of handwritten digits."
   ]
  },
  {
   "cell_type": "code",
   "execution_count": 1,
   "metadata": {},
   "outputs": [],
   "source": [
    "import numpy as np\n",
    "import matplotlib.pyplot as plt\n",
    "import emachine as EM\n",
    "import itertools"
   ]
  },
  {
   "cell_type": "code",
   "execution_count": 2,
   "metadata": {},
   "outputs": [],
   "source": [
    "np.random.seed(0)"
   ]
  },
  {
   "cell_type": "code",
   "execution_count": 4,
   "metadata": {},
   "outputs": [],
   "source": [
    "s0 = np.loadtxt('../MNIST_data/mnist_test.csv',delimiter=',')"
   ]
  },
  {
   "cell_type": "code",
   "execution_count": 5,
   "metadata": {},
   "outputs": [
    {
     "name": "stdout",
     "output_type": "stream",
     "text": [
      "(10000, 784)\n"
     ]
    }
   ],
   "source": [
    "seq = s0[:,1:] \n",
    "label = s0[:,0]\n",
    "print(seq.shape)"
   ]
  },
  {
   "cell_type": "code",
   "execution_count": 7,
   "metadata": {},
   "outputs": [
    {
     "name": "stdout",
     "output_type": "stream",
     "text": [
      "8 (974, 784)\n"
     ]
    }
   ],
   "source": [
    "# select only 1 digit\n",
    "digit = 8\n",
    "i = label == digit\n",
    "label1 = label[i]\n",
    "seq1 = seq[i]\n",
    "print(digit,seq1.shape)\n",
    "\n",
    "# convert to binary\n",
    "seq1 = np.sign(seq1-1.5)\n",
    "\n",
    "# select only one test sample to consider\n",
    "t = 2\n",
    "seq1 = seq1[t]"
   ]
  },
  {
   "cell_type": "code",
   "execution_count": 8,
   "metadata": {},
   "outputs": [],
   "source": [
    "# select hidden\n",
    "n_hidden = 90\n",
    "hidden = np.random.choice(np.arange(28*28),n_hidden,replace=False)"
   ]
  },
  {
   "cell_type": "code",
   "execution_count": 9,
   "metadata": {},
   "outputs": [],
   "source": [
    "# set value at hidden position to be zero\n",
    "seq_hidden = seq1.copy()\n",
    "seq_hidden[hidden] = 0."
   ]
  },
  {
   "cell_type": "code",
   "execution_count": 11,
   "metadata": {
    "scrolled": false
   },
   "outputs": [
    {
     "data": {
      "image/png": "[encoded data removed]",
      "text/plain": [
       "<Figure size 432x201.6 with 2 Axes>"
      ]
     },
     "metadata": {
      "needs_background": "light"
     },
     "output_type": "display_data"
    }
   ],
   "source": [
    "nx,ny = 2,1\n",
    "fig, ax = plt.subplots(ny,nx,figsize=(nx*3,ny*2.8))\n",
    "ax[0].imshow(seq1.reshape(28,28),interpolation='nearest')\n",
    "ax[1].imshow(seq_hidden.reshape(28,28),interpolation='nearest')\n",
    "\n",
    "ax[0].set_title('original image')\n",
    "ax[1].set_title('noise image')\n",
    "\n",
    "for i in range(nx):\n",
    "    ax[i].set_axis_off()\n",
    "    \n",
    "plt.tight_layout(h_pad=0.7, w_pad=1.5)\n",
    "#plt.savefig('fig_hidden.pdf', format='pdf', dpi=100)"
   ]
  },
  {
   "cell_type": "markdown",
   "metadata": {},
   "source": [
    "### Find conserved and active pixels from training data"
   ]
  },
  {
   "cell_type": "code",
   "execution_count": 12,
   "metadata": {},
   "outputs": [
    {
     "name": "stdout",
     "output_type": "stream",
     "text": [
      "(60000, 784)\n"
     ]
    }
   ],
   "source": [
    "# with train data\n",
    "s0_train = np.loadtxt('../MNIST_data/mnist_train.csv',delimiter=',')\n",
    "\n",
    "seq_train = s0_train[:,1:] \n",
    "label_train = s0_train[:,0]\n",
    "print(seq_train.shape)\n",
    "\n",
    "# select only 1 digit\n",
    "#digit = 8\n",
    "seq1_train = seq_train[label_train == digit]\n",
    "# convert to binary\n",
    "seq1_train = np.sign(seq1_train-1.5)"
   ]
  },
  {
   "cell_type": "code",
   "execution_count": null,
   "metadata": {},
   "outputs": [],
   "source": [
    "# find conserved pixels\n",
    "n,m = seq1_train.shape\n",
    "frequency = [(seq1_train[:,i] == -1).sum()/float(n) for i in range(m)]\n",
    "\n",
    "cols1 = [i for i in range(m) if frequency[i] > 0.8] # 80% negative\n",
    "cols2 = [i for i in range(m) if frequency[i] < 0.2] # 80% positive\n",
    "cols_conserved = cols1 + cols2\n",
    "print(len(cols1),len(cols2),len(cols_conserved))"
   ]
  },
  {
   "cell_type": "code",
   "execution_count": null,
   "metadata": {},
   "outputs": [],
   "source": [
    "# active pixels\n",
    "cols_active = np.delete(np.arange(0,m),cols_conserved)\n",
    "print(len(cols_active))\n",
    "#np.savetxt('cols_neg.txt',cols1,fmt='%i')\n",
    "#np.savetxt('cols_pos.txt',cols2,fmt='%i')\n",
    "#np.savetxt('cols_selected.txt',cols_selected,fmt='%i')"
   ]
  },
  {
   "cell_type": "code",
   "execution_count": 6,
   "metadata": {
    "scrolled": true
   },
   "outputs": [
    {
     "data": {
      "text/plain": [
       "(5851, 222)"
      ]
     },
     "execution_count": 6,
     "metadata": {},
     "output_type": "execute_result"
    }
   ],
   "source": [
    "# back to test image\n",
    "seq_train_active = seq1_train[:,cols_active]\n",
    "print((seq_train_active.shape))"
   ]
  },
  {
   "cell_type": "markdown",
   "metadata": {},
   "source": [
    "Find interactions `w` between active pixels from training data."
   ]
  },
  {
   "cell_type": "code",
   "execution_count": 13,
   "metadata": {},
   "outputs": [
    {
     "name": "stdout",
     "output_type": "stream",
     "text": [
      "0.92 -711.6255597866084\n",
      "0.935 -705.7689428451328\n",
      "0.95 -706.8546800350513\n",
      "0.965 -719.9330903444665\n",
      "0.98 -767.5753296194733\n"
     ]
    }
   ],
   "source": [
    "ops = EM.operators(seq_train_active)\n",
    "print(ops.shape)\n",
    "\n",
    "eps_list = np.linspace(0.92,0.98,5)\n",
    "E_eps = np.zeros(len(eps_list))\n",
    "w_eps = np.zeros((len(eps_list),ops.shape[1]))\n",
    "for i,eps in enumerate(eps_list):    \n",
    "    w_eps[i,:],E_eps[i] = EM.fit(ops,eps=eps,max_iter=100)\n",
    "    print(eps,E_eps[i])"
   ]
  },
  {
   "cell_type": "code",
   "execution_count": 14,
   "metadata": {},
   "outputs": [
    {
     "name": "stdout",
     "output_type": "stream",
     "text": [
      "1 0.935\n"
     ]
    }
   ],
   "source": [
    "ieps = np.argmax(E_eps)\n",
    "print('optimal eps:',eps_list[ieps])\n",
    "w = w_eps[ieps]\n",
    "#np.savetxt('w.dat',w,fmt='%f')"
   ]
  },
  {
   "cell_type": "markdown",
   "metadata": {},
   "source": [
    "### Apply to test data"
   ]
  },
  {
   "cell_type": "code",
   "execution_count": null,
   "metadata": {},
   "outputs": [],
   "source": [
    "hidden_active = np.intersect1d(hidden,cols_active)\n",
    "hidden_conserved = np.intersect1d(hidden,cols_conserved)\n",
    "\n",
    "n_hidden_active = len(hidden_active)\n",
    "n_hidden_conserved = len(hidden_conserved)\n",
    "print('n_hidden_active:',len(hidden_active))"
   ]
  },
  {
   "cell_type": "code",
   "execution_count": null,
   "metadata": {},
   "outputs": [],
   "source": [
    "seq_all = np.asarray(list(itertools.product([1.0, -1.0], repeat=n_hidden_active)))\n",
    "n_possibles = seq_all.shape[0]\n",
    "print('number of possible configs:',n_possibles)\n",
    "\n",
    "active_hidden_indices = np.intersect1d(cols_active,hidden_active,return_indices=True)[1]"
   ]
  },
  {
   "cell_type": "code",
   "execution_count": null,
   "metadata": {},
   "outputs": [],
   "source": [
    "# consider only one test image\n",
    "t = 2\n",
    "seq_active = seq1[t,cols_active]\n",
    "\n",
    "seq_active_possibles = np.tile(seq_active,(n_possibles,1))\n",
    "seq_active_possibles[:,active_hidden_indices] = seq_all\n",
    "\n",
    "# recover hidden\n",
    "npart = 128\n",
    "ns = int(n_possibles/npart)\n",
    "\n",
    "energy = np.full(n_possibles,-100000.)\n",
    "for i in range(npart):\n",
    "    i1 = int(i*ns)\n",
    "    i2 = int((i+1)*ns)\n",
    "    if i%5 == 0: print('ipart:',i)\n",
    "    ops = EM.operators(seq_active_possibles[i1:i2])\n",
    "    energy[i1:i2] = ops.dot(w)"
   ]
  },
  {
   "cell_type": "code",
   "execution_count": null,
   "metadata": {},
   "outputs": [],
   "source": [
    "## recover hidden\n",
    "seq_hidden = seq1[t].copy()\n",
    "seq_hidden[hidden] = 0.\n",
    "\n",
    "seq_recover = seq1[t].copy()\n",
    "\n",
    "cols_neg = np.loadtxt('cols_neg.txt').astype(int)\n",
    "cols_pos = np.loadtxt('cols_pos.txt').astype(int)\n",
    "hidden_neg = np.intersect1d(hidden_conserved,cols_neg)\n",
    "hidden_pos = np.intersect1d(hidden_conserved,cols_pos)\n",
    "\n",
    "seq_recover[hidden_neg] = -1.\n",
    "seq_recover[hidden_pos] = 1.\n",
    "\n",
    "# the best seq\n",
    "seq_recover[hidden_active] = seq_all[np.argmax(energy)] "
   ]
  },
  {
   "cell_type": "code",
   "execution_count": null,
   "metadata": {},
   "outputs": [],
   "source": [
    "nx,ny = 3,1\n",
    "nfig = nx*ny\n",
    "fig, ax = plt.subplots(ny,nx,figsize=(nx*2.0,ny*2.6))\n",
    "ax[0].imshow(seq1.reshape(28,28),interpolation='nearest')\n",
    "ax[1].imshow(seq_hidden.reshape(28,28),interpolation='nearest')\n",
    "ax[2].imshow(seq_recover.reshape(28,28),interpolation='nearest')\n",
    "\n",
    "ax[0].set_title('original image')\n",
    "ax[1].set_title('noise image')\n",
    "ax[2].set_title('recovered image')\n",
    "\n",
    "for i in range(nx):\n",
    "    ax[i].set_axis_off()\n",
    "    \n",
    "label = ['(a)','(b)','(c)','(d)','(e)','(g)','(d)','(h)']\n",
    "xlabel = np.full(nfig,0.0)\n",
    "ylabel = np.full(nfig,1.1)\n",
    "k = 0\n",
    "for i in range(nx):        \n",
    "    ax[i].text(xlabel[k],ylabel[k],label[k],transform=ax[i].transAxes,va='top',ha='right',fontsize=13)\n",
    "    k += 1\n",
    "        \n",
    "plt.tight_layout(h_pad=0.0, w_pad=0.5)\n",
    "#plt.savefig('fig4_90.pdf', format='pdf', dpi=100)"
   ]
  }
 ],
 "metadata": {
  "kernelspec": {
   "display_name": "Python 3",
   "language": "python",
   "name": "python3"
  },
  "language_info": {
   "codemirror_mode": {
    "name": "ipython",
    "version": 3
   },
   "file_extension": ".py",
   "mimetype": "text/x-python",
   "name": "python",
   "nbconvert_exporter": "python",
   "pygments_lexer": "ipython3",
   "version": "3.7.3"
  }
 },
 "nbformat": 4,
 "nbformat_minor": 2
}
