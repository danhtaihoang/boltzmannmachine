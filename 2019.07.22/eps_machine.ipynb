{
 "cells": [
  {
   "cell_type": "code",
   "execution_count": 1,
   "metadata": {},
   "outputs": [],
   "source": [
    "import matplotlib.pyplot as plt\n",
    "import numpy as np\n",
    "import numpy.linalg as nplin\n",
    "import itertools"
   ]
  },
  {
   "cell_type": "code",
   "execution_count": 2,
   "metadata": {},
   "outputs": [],
   "source": [
    "def operators(s):\n",
    "    #generate terms in the energy function\n",
    "    n_seq,n_var = s.shape\n",
    "    ops = np.zeros((n_seq,n_var+int(n_var*(n_var-1)/2.0)))\n",
    "\n",
    "    jindex = 0\n",
    "    for index in range(n_var):\n",
    "        ops[:,jindex] = s[:,index]\n",
    "        jindex +=1\n",
    "\n",
    "    for index in range(n_var-1):\n",
    "        for index1 in range(index+1,n_var):\n",
    "            ops[:,jindex] = s[:,index]*s[:,index1]\n",
    "            jindex +=1\n",
    "            \n",
    "    return ops"
   ]
  },
  {
   "cell_type": "code",
   "execution_count": 3,
   "metadata": {},
   "outputs": [],
   "source": [
    "def energy_ops(ops,w):\n",
    "    return np.sum(ops*w[np.newaxis,:],axis=1)"
   ]
  },
  {
   "cell_type": "code",
   "execution_count": 4,
   "metadata": {},
   "outputs": [],
   "source": [
    "def generate_seqs(n_var,n_seq,n_sample=30,large=False,num_large=4):\n",
    "    samples = np.random.choice([1.0,-1.0],size=(n_seq*n_sample,n_var),replace=True)\n",
    "    ops = operators(samples)\n",
    "    n_ops = ops.shape[1]\n",
    "    w_true = (np.random.rand(ops.shape[1])-0.5)/np.sqrt(float(n_var))\n",
    "\n",
    "    #putting in some large couplings\n",
    "    if large and num_large>0: \n",
    "        indices_large = np.random.choice(range(n_var,n_ops),size=num_large,replace=False)\n",
    "        for l_index in range(num_large):\n",
    "            w_true[indices_large[l_index]] *= 10.0\n",
    "\n",
    "    sample_energy = energy_ops(ops,w_true)\n",
    "    p = np.exp(sample_energy)\n",
    "    p /= np.sum(p)\n",
    "    out_samples = np.random.choice(np.arange(n_seq*n_sample),size=n_seq,replace=True,p=p)\n",
    "    \n",
    "    return w_true,samples[out_samples] #,p[out_samples],sample_energy[out_samples]"
   ]
  },
  {
   "cell_type": "code",
   "execution_count": 5,
   "metadata": {},
   "outputs": [],
   "source": [
    "def hopfield_model(s):\n",
    "    ops = operators(s)\n",
    "    w = np.mean(ops,axis=0)\n",
    "    print('hopfield error ',nplin.norm(w-w_true))    \n",
    "    return w"
   ]
  },
  {
   "cell_type": "code",
   "execution_count": 6,
   "metadata": {},
   "outputs": [],
   "source": [
    "def boltzmann_machine_sample(w,s,max_iter=151,n_partition=1,alpha=5e-2):\n",
    "    n_seq,n_var = s.shape\n",
    "    ops = operators(s)\n",
    "    cov_inv = np.eye(ops.shape[1])\n",
    "\n",
    "    ops_obs = np.mean(ops,axis=0)\n",
    "    samples_part = np.random.choice([1.0,-1.0],size=(n_seq*n_partition,n_var),replace=True)\n",
    "    ops_model = operators(samples_part)\n",
    "\n",
    "    for iterate in range(max_iter):\n",
    "        energies_w = energy_ops(ops_model,w)\n",
    "        probs_w = np.exp(energies_w)\n",
    "        probs_w /= np.sum(probs_w)\n",
    "        if iterate%int(max_iter/5.0)==0: \n",
    "            print(iterate,nplin.norm(w-w_true)) #,nplin.norm(spin_cov_w-spin_cov_obs))\n",
    "        w += alpha*cov_inv.dot(ops_obs - np.sum(ops_model*probs_w[:,np.newaxis],axis=0))\n",
    "    print('final ',iterate,nplin.norm(w-w_true))"
   ]
  },
  {
   "cell_type": "code",
   "execution_count": 7,
   "metadata": {},
   "outputs": [],
   "source": [
    "def eps_machine(w,s,eps_scale=.01,max_iter=151,alpha=0.1):\n",
    "    n_seq,n_var = s.shape\n",
    "    ops = operators(s)\n",
    "    n_ops = ops.shape[1]\n",
    "    cov_inv = np.eye(ops.shape[1])\n",
    "\n",
    "    for iterate in range(max_iter):        \n",
    "        energies_w = energy_ops(ops,w)\n",
    "        probs_w = np.exp(-energies_w*(1-eps_scale))\n",
    "        probs_w /= np.sum(probs_w)\n",
    "        ops_expect_w = np.sum(probs_w[:,np.newaxis]*ops,axis=0)\n",
    "        \n",
    "        if iterate%int(max_iter/5.0)==0:\n",
    "            invprob_w = np.exp(-energies_w)\n",
    "            invprob_w /= np.sum(invprob_w)\n",
    "            ops_expectation = np.sum(invprob_w[:,np.newaxis]*ops,axis=0)\n",
    "            print(eps_scale,iterate,nplin.norm(w-w_true),np.log(np.mean(ops_expectation*ops_expectation)))\n",
    "        #sec_order = np.tanh(w*eps_scale)\n",
    "        sec_order = w*eps_scale\n",
    "        w += alpha*cov_inv.dot((ops_expect_w - sec_order))\n",
    "        \n",
    "    print('final ',eps_scale,iterate,nplin.norm(w-w_true))"
   ]
  },
  {
   "cell_type": "code",
   "execution_count": 8,
   "metadata": {},
   "outputs": [],
   "source": [
    "n_var,n_seq = 25,10000\n",
    "np.random.seed(0)\n",
    "w_true,seqs = generate_seqs(n_var,n_seq)"
   ]
  },
  {
   "cell_type": "code",
   "execution_count": 9,
   "metadata": {},
   "outputs": [
    {
     "name": "stdout",
     "output_type": "stream",
     "text": [
      "n_seq: 10000\n",
      "Hopfield \n",
      "hopfield error  0.33008501534485185\n",
      "Boltzmann (sample)\n",
      "0 5.533558253678198\n",
      "30 2.5105062221101884\n",
      "60 1.1780687046276972\n",
      "90 0.6475072939887058\n",
      "120 0.4579894903126848\n",
      "150 0.3995353491032548\n",
      "final  150 0.39859283997085637\n",
      "eps: 0.6\n",
      "0.6 0 5.533558253678198 -0.4398340975128608\n",
      "0.6 30 0.3591310729257488 -7.940224647525945\n",
      "0.6 60 0.2171228567624111 -9.045971911528738\n",
      "0.6 90 0.21731826296617326 -9.068705534015985\n",
      "0.6 120 0.2173752624136624 -9.070268418727283\n",
      "0.6 150 0.21737946765318267 -9.070397388870289\n",
      "final  0.6 150 0.2173794950759036\n"
     ]
    }
   ],
   "source": [
    "#eps_list = [0.05,0.1,0.2,0.3,0.6]\n",
    "eps_list = [0.6]\n",
    "for n_part in range(10000,20001,20000):\n",
    "    print('n_seq:',n_part)        \n",
    "    print('Hopfield')\n",
    "    w_hopfield=hopfield_model(seqs[:n_part])\n",
    "\n",
    "    print('Boltzmann (sample)')\n",
    "    np.random.seed(13)\n",
    "    w_trial1 = np.random.rand(n_var+int(n_var*(n_var-1)/2.0))-0.5\n",
    "    boltzmann_machine_sample(w_trial1,seqs[:n_part])\n",
    "                \n",
    "    for eps in eps_list:     \n",
    "        print('eps:',eps)\n",
    "        np.random.seed(13)\n",
    "        w_trial2 = np.random.rand(n_var+int(n_var*(n_var-1)/2.0))-0.5\n",
    "        eps_machine(w_trial2,seqs[:n_part],eps_scale=eps)"
   ]
  },
  {
   "cell_type": "code",
   "execution_count": 11,
   "metadata": {},
   "outputs": [
    {
     "data": {
      "image/png": "[encoded data removed]",
      "text/plain": [
       "<Figure size 756x216 with 3 Axes>"
      ]
     },
     "metadata": {
      "needs_background": "light"
     },
     "output_type": "display_data"
    }
   ],
   "source": [
    "#n_eps = len(eps_list)\n",
    "nx,ny = 3,1\n",
    "fig, ax = plt.subplots(ny,nx,figsize=(nx*3.5,ny*3))\n",
    "\n",
    "lims = [np.min([w_true, w_trial1]), np.max([w_true, w_trial1])]\n",
    "#for i,eps in enumerate(eps_list):\n",
    "#ax[0].set_title('eps=%s'%eps)\n",
    "\n",
    "ax[0].set_title('Hopfield')\n",
    "ax[0].scatter(w_true,w_hopfield)\n",
    "\n",
    "ax[1].set_title('Boltzmann')\n",
    "ax[1].scatter(w_true,w_trial1)\n",
    "\n",
    "ax[2].set_title('eps machine')\n",
    "ax[2].scatter(w_true,w_trial2)\n",
    "\n",
    "for i in range(nx):\n",
    "    ax[i].plot(lims,lims,'r--', alpha=0.75, zorder=0)\n",
    "\n",
    "#fig, ax = plt.subplots()    \n",
    "#lims = [np.min([w_true, w_trial1]), np.max([w_true, w_trial1])]\n",
    "#ax.scatter(w_true,w_hopfield,label='Hopfield', alpha=0.4)\n",
    "#ax.scatter(w_true,w_trial1,label='BM_sample',alpha=0.4)\n",
    "#ax.scatter(w_true,w_trial3,label='eps',alpha=0.4)\n",
    "#ax.plot(lims, lims, 'k-', alpha=0.75, zorder=0)\n",
    "#ax.legend()\n",
    "#plt.show()"
   ]
  },
  {
   "cell_type": "code",
   "execution_count": null,
   "metadata": {},
   "outputs": [],
   "source": []
  }
 ],
 "metadata": {
  "kernelspec": {
   "display_name": "Python 3",
   "language": "python",
   "name": "python3"
  },
  "language_info": {
   "codemirror_mode": {
    "name": "ipython",
    "version": 3
   },
   "file_extension": ".py",
   "mimetype": "text/x-python",
   "name": "python",
   "nbconvert_exporter": "python",
   "pygments_lexer": "ipython3",
   "version": "3.7.3"
  }
 },
 "nbformat": 4,
 "nbformat_minor": 2
}
