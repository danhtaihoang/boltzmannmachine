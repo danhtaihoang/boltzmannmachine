{
 "cells": [
  {
   "cell_type": "code",
   "execution_count": 1,
   "metadata": {},
   "outputs": [],
   "source": [
    "import sys,os\n",
    "from matplotlib.backends.backend_pdf import PdfPages\n",
    "import matplotlib.pyplot as plt\n",
    "import numpy as np\n",
    "import numpy.linalg as nplin\n",
    "import scipy as sp\n",
    "from scipy.linalg import pinv as spinv\n",
    "from sklearn.metrics import pairwise_distances"
   ]
  },
  {
   "cell_type": "code",
   "execution_count": 2,
   "metadata": {},
   "outputs": [],
   "source": [
    "# convert s[l,n] --> ops[l,nx] = {s[l,n], s[l,i]*s[l,j]} (j>i)\n",
    "def operators(s):\n",
    "    n_seq,n_var = s.shape\n",
    "    ops = np.zeros((n_seq,n_var+int(n_var*(n_var-1)/2.0)))\n",
    "    \n",
    "    jindex = 0\n",
    "    for index in range(n_var):\n",
    "        ops[:,jindex] = s[:,index]\n",
    "        jindex +=1\n",
    "    \n",
    "    for index in range(n_var-1):\n",
    "        for index1 in range(index+1,n_var):\n",
    "            ops[:,jindex] = s[:,index]*s[:,index1]\n",
    "            jindex +=1\n",
    "            \n",
    "    return ops"
   ]
  },
  {
   "cell_type": "code",
   "execution_count": 3,
   "metadata": {},
   "outputs": [],
   "source": [
    "def generate_seqs(n_var,n_seq,n_sample=30):\n",
    "    samples = np.random.choice([1.0,-1.0],size=(n_seq*n_sample,n_var),replace=True)\n",
    "    ops = operators(samples)\n",
    "    n_ops = ops.shape[1]\n",
    "\n",
    "    w_true = (np.random.rand(n_ops)-0.5)/np.sqrt(float(n_var))\n",
    "\n",
    "    sample_energy = ops.dot(w_true)\n",
    "    p = np.exp(sample_energy)\n",
    "    p = p/np.sum(p)\n",
    "    out_samples = np.random.choice(np.arange(n_seq*n_sample),size=n_seq,replace=True,p=p)\n",
    "    \n",
    "    return w_true,samples[out_samples] #,p[out_samples],sample_energy[out_samples]"
   ]
  },
  {
   "cell_type": "code",
   "execution_count": 4,
   "metadata": {},
   "outputs": [],
   "source": [
    "def eps_machine_step(w,ops,eps_scale,alpha):\n",
    "    obs_energies_w = ops.dot(w)\n",
    "    sec_order = np.tanh(w*eps_scale)\n",
    "    probs_w = obs_energies_w*(eps_scale-1)\n",
    "    max_obs = np.max(probs_w)\n",
    "    probs_w = np.exp(probs_w - max_obs)\n",
    "    probs_w /= np.sum(probs_w)\n",
    "    ops_expect_w = np.sum(probs_w[:,np.newaxis]*ops,axis=0)\n",
    "    \n",
    "    return alpha*(ops_expect_w - sec_order)"
   ]
  },
  {
   "cell_type": "code",
   "execution_count": 5,
   "metadata": {},
   "outputs": [],
   "source": [
    "def log_prob_given(s,col,w):\n",
    "    s_temp = np.copy(s)\n",
    "    s_temp[:,col] = -s_temp[:,col]\n",
    "    \n",
    "    return np.log(1.0/(1.0 + np.exp(operators(s_temp).dot(w)-operators(s).dot(w))))"
   ]
  },
  {
   "cell_type": "code",
   "execution_count": 6,
   "metadata": {},
   "outputs": [],
   "source": [
    "def tau_update(n_seq,n_var,ops,w):\n",
    "    sigma_i = ops[:,:n_var]\n",
    "    \n",
    "    energy_orig = ops.dot(w)\n",
    "    prob_sigma_fake = 0.0\n",
    "    prob_sigma_orig = 0.0\n",
    "    s_temp1,s_new = np.copy(ops[:,:n_var]),np.copy(ops[:,:n_var])\n",
    "    for col in range(n_var):        \n",
    "        s_temp = np.copy(ops[:,:n_var])\n",
    "        s_temp[:,col] = np.random.choice([1,-1],size=(n_seq))\n",
    "        \n",
    "        #prob_flip = 1.0/(1.0+np.exp(energy_orig - operators(s_temp).dot(w)))\n",
    "        \n",
    "        # 2019.07.21: Tai\n",
    "        prob_flip = np.exp(energy_orig - operators(s_temp).dot(w))\n",
    "        \n",
    "        rand_choice = prob_flip > np.random.rand(n_seq)\n",
    "        \n",
    "        s_temp1[rand_choice,col] = s_temp[rand_choice,col]\n",
    "        s_new[rand_choice,col] = s_temp[rand_choice,col]\n",
    "        \n",
    "        prob_sigma_fake += np.mean(log_prob_given(s_temp1,col,w))\n",
    "        s_temp1 = np.copy(ops[:,:n_var])\n",
    "        prob_sigma_orig += np.mean(log_prob_given(s_temp1,col,w))\n",
    "    ops_new = operators(s_new)\n",
    "    return operators(s_temp),ops_new,prob_sigma_orig-prob_sigma_fake"
   ]
  },
  {
   "cell_type": "code",
   "execution_count": 7,
   "metadata": {},
   "outputs": [],
   "source": [
    "def eps_machine_rbm_EM(s,eps=0.01,max_iter=50,alpha=0.5):    \n",
    "    np.random.seed(13)\n",
    "    ops = operators(s)    \n",
    "    n_ops = n_var+int((n_var-1)*n_var*0.5)\n",
    "        \n",
    "    w = np.random.rand(n_ops) - 0.5    \n",
    "    for iterate in range(max_iter):\n",
    "        w += eps_machine_step(w,ops,eps,alpha)            \n",
    "        \n",
    "    return w"
   ]
  },
  {
   "cell_type": "code",
   "execution_count": 8,
   "metadata": {},
   "outputs": [],
   "source": [
    "n_var,n_seq = 20,5000\n",
    "np.random.seed(0)\n",
    "\n",
    "w_true,s = generate_seqs(n_var,n_seq)"
   ]
  },
  {
   "cell_type": "code",
   "execution_count": 9,
   "metadata": {},
   "outputs": [
    {
     "name": "stdout",
     "output_type": "stream",
     "text": [
      "0 0.1\n",
      "1 0.5\n",
      "2 1.0\n"
     ]
    }
   ],
   "source": [
    "alpha = 0.5\n",
    "n_part = 5000\n",
    "eps_list = [0.1, 0.5, 1.0]\n",
    "\n",
    "n_ops = n_var+int((n_var-1)*n_var/2)\n",
    "\n",
    "w = np.zeros((n_ops,len(eps_list)))             \n",
    "for i,eps in enumerate(eps_list):\n",
    "    print(i,eps)\n",
    "    w[:,i] = eps_machine_rbm_EM(s[:n_part],eps=eps,max_iter=30,alpha=alpha)"
   ]
  },
  {
   "cell_type": "code",
   "execution_count": 17,
   "metadata": {},
   "outputs": [
    {
     "data": {
      "image/png": "[encoded data removed]",
      "text/plain": [
       "<Figure size 756x216 with 3 Axes>"
      ]
     },
     "metadata": {
      "needs_background": "light"
     },
     "output_type": "display_data"
    }
   ],
   "source": [
    "n_eps = len(eps_list)\n",
    "#plt.title('eps = %s'%eps)\n",
    "nx,ny = n_eps,1\n",
    "fig, ax = plt.subplots(ny,nx,figsize=(nx*3.5,ny*3))\n",
    "for i,eps in enumerate(eps_list):\n",
    "    ax[i].set_title('eps=%s'%eps)\n",
    "    ax[i].plot([-0.2,0.2],[-0.2,0.2])\n",
    "    ax[i].scatter(w_true,w[:,i])"
   ]
  },
  {
   "cell_type": "code",
   "execution_count": null,
   "metadata": {},
   "outputs": [],
   "source": []
  }
 ],
 "metadata": {
  "kernelspec": {
   "display_name": "Python 3",
   "language": "python",
   "name": "python3"
  },
  "language_info": {
   "codemirror_mode": {
    "name": "ipython",
    "version": 3
   },
   "file_extension": ".py",
   "mimetype": "text/x-python",
   "name": "python",
   "nbconvert_exporter": "python",
   "pygments_lexer": "ipython3",
   "version": "3.7.3"
  }
 },
 "nbformat": 4,
 "nbformat_minor": 2
}
