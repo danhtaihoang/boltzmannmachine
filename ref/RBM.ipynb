{
 "cells": [
  {
   "cell_type": "code",
   "execution_count": 1,
   "metadata": {},
   "outputs": [],
   "source": [
    "import sys,os\n",
    "from matplotlib.backends.backend_pdf import PdfPages\n",
    "import matplotlib.pyplot as plt\n",
    "import numpy as np\n",
    "import numpy.linalg as nplin\n",
    "import scipy as sp\n",
    "from scipy.linalg import pinv as spinv\n",
    "from sklearn.metrics import pairwise_distances"
   ]
  },
  {
   "cell_type": "code",
   "execution_count": 2,
   "metadata": {},
   "outputs": [],
   "source": [
    "def operators(s,RBM=0):\n",
    "    #generate terms in the energy function\n",
    "    n_seq,n_var = s.shape\n",
    "    if RBM==0:\n",
    "        out = np.zeros((n_seq,n_var+int(n_var*(n_var-1)/2.0)))\n",
    "    else:\n",
    "        out = np.zeros((n_seq,n_var+(n_var-RBM)*RBM))\n",
    "    jindex = 0\n",
    "    for index in range(n_var):\n",
    "        out[:,jindex] = s[:,index]\n",
    "        jindex +=1\n",
    "    if RBM==0:\n",
    "        for index in range(n_var-1):\n",
    "            for index1 in range(index+1,n_var):\n",
    "                out[:,jindex] = s[:,index]*s[:,index1]\n",
    "                jindex +=1\n",
    "    else:\n",
    "        for index in range(n_var-RBM):\n",
    "            for index1 in range(n_var-RBM,n_var):\n",
    "                out[:,jindex] = s[:,index]*s[:,index1]\n",
    "                jindex +=1\n",
    "    return out"
   ]
  },
  {
   "cell_type": "code",
   "execution_count": 3,
   "metadata": {},
   "outputs": [],
   "source": [
    "def energy_ops(ops,w):\n",
    "    return np.sum(ops*w[np.newaxis,:],axis=1)#/np.power(w.shape[0],0.25)"
   ]
  },
  {
   "cell_type": "code",
   "execution_count": 4,
   "metadata": {},
   "outputs": [],
   "source": [
    "def generate_seqs(n_var,n_seq,n_sample=100,large=False,num_large=4,RBM=0):\n",
    "    samples = np.random.choice([1.0,-1.0],size=n_var*n_seq*n_sample,replace=True).reshape(n_seq*n_sample,n_var)\n",
    "    ops = operators(samples,RBM=RBM)\n",
    "    n_ops = ops.shape[1]\n",
    "    ##    w_true = np.random.rand(n_var+int(n_var*(n_var-1)/2.0))-0.5\n",
    "    w_true = (np.random.rand(ops.shape[1])-0.5)/np.sqrt(float(n_var))\n",
    "    #     if RBM > 0: w_true[n_var:] *= np.sqrt(float(n_var))\n",
    "    if large and num_large>0: #putting in some large couplings\n",
    "        indices_large = np.random.choice(range(n_var,n_ops),size=num_large,replace=False)\n",
    "        for l_index in range(num_large):\n",
    "            w_true[indices_large[l_index]] *= 10.0\n",
    "    sample_energy = energy_ops(ops,w_true)\n",
    "    p = np.exp(sample_energy)\n",
    "    p = p/np.sum(p)\n",
    "    out_samples = np.random.choice(np.arange(n_seq*n_sample),size=n_seq,replace=True,p=p)\n",
    "    return w_true,samples[out_samples],p[out_samples],sample_energy[out_samples]"
   ]
  },
  {
   "cell_type": "code",
   "execution_count": 5,
   "metadata": {},
   "outputs": [],
   "source": [
    "def eps_machine_step(n_seq,w,ops,eps_scale,alpha):\n",
    "    obs_energies_w = energy_ops(ops,w)\n",
    "    sec_order = np.tanh(w*eps_scale)\n",
    "    probs_w = (-obs_energies_w*(1-eps_scale)).reshape(n_seq)\n",
    "    max_obs = np.max(probs_w)\n",
    "    probs_w = np.exp(probs_w - max_obs)\n",
    "    probs_w /= np.sum(probs_w)\n",
    "    ops_expect_w = np.sum(probs_w[:,np.newaxis]*ops,axis=0)\n",
    "    return alpha*(ops_expect_w - sec_order)"
   ]
  },
  {
   "cell_type": "code",
   "execution_count": 6,
   "metadata": {},
   "outputs": [],
   "source": [
    "def log_prob_given(s,col,w):\n",
    "    s_temp = np.copy(s)\n",
    "    s_temp[:,col] = -s_temp[:,col]\n",
    "    return np.log(1.0/(1.0 + np.exp(energy_ops(operators(s_temp),w)-energy_ops(operators(s),w))))"
   ]
  },
  {
   "cell_type": "code",
   "execution_count": 7,
   "metadata": {},
   "outputs": [],
   "source": [
    "def tau_update(n_seq,n_var,RBM,ops,w):\n",
    "    sigma_i = ops[:,:n_var-RBM]\n",
    "    if RBM>0:\n",
    "        tau_A =  ops[:,n_var-RBM:n_var]\n",
    "        w_iA = (w[-(n_var-RBM)*RBM:].reshape((n_var-RBM,RBM)))\n",
    "        v_A = (w[n_var-RBM:n_var].reshape((RBM)))\n",
    "        u_i = (w[:n_var-RBM].reshape((n_var-RBM)))\n",
    "        combo = u_i[np.newaxis,:] + w_iA.dot(tau_A.T).T\n",
    "        #     prob_sigma_before = np.mean(np.sum(sigma_i*combo-np.log(2*np.cosh(combo)),axis=1),axis=0)\n",
    "        rand = np.random.rand(n_seq,RBM)\n",
    "        alt_tau = np.random.choice([1,-1],size=(n_seq,RBM))\n",
    "        combo_tau = v_A[np.newaxis,:] + sigma_i.dot(w_iA)\n",
    "        prob_tau = (tau_A-alt_tau)*combo_tau #-np.log(2*np.cosh(combo_tau))\n",
    "        tau_temp = 1.0/(1.0+np.exp(prob_tau))\n",
    "        rand_choice = tau_temp >= rand # present tau_A[index] is less likely\n",
    "        s_temp = np.copy(ops[:,:n_var])\n",
    "        s_temp[:,n_var-RBM:n_var][rand_choice] = (alt_tau[rand_choice])\n",
    "        combo = u_i[np.newaxis,:] + w_iA.dot(s_temp[:,n_var-RBM:n_var].T).T\n",
    "        prob_sigma_orig = np.mean(np.sum(sigma_i*combo-np.log(2*np.cosh(combo)),axis=1),axis=0)\n",
    "        rand = np.random.rand(n_seq,n_var-RBM)\n",
    "        alt_sigma = np.random.choice([1,-1],size=(n_seq,n_var-RBM))\n",
    "        prob_sigma = (sigma_i-alt_sigma)*combo #-np.log(2*np.cosh(combo))\n",
    "        sigma_temp = 1.0/(1.0+np.exp(prob_sigma))\n",
    "        rand_choice = sigma_temp >= rand # present sigma[index] is less likely\n",
    "        s_temp1 = np.copy(s_temp[:,:n_var])\n",
    "        s_temp1[:,:n_var-RBM][rand_choice] = (alt_sigma[rand_choice])\n",
    "        combo1 = u_i[np.newaxis,:] + w_iA.dot(s_temp1[:,n_var-RBM:n_var].T).T\n",
    "        prob_sigma_fake = np.mean(np.sum(s_temp1[:,:n_var-RBM]*combo1-np.log(2*np.cosh(combo1)),axis=1),axis=0)\n",
    "        ops_new = operators(s_temp1,RBM=RBM)\n",
    "    else:\n",
    "        #         w_iA = np.zeros(n_var,n_var)\n",
    "        #         u_i = w[:n_var]\n",
    "        #         j_index = n_var\n",
    "        #         for index in range(n_var-1):\n",
    "        #             for index1 in range(index+1,n_var):\n",
    "        #                 w_iA[index,index1] = w[jindex]\n",
    "        #                 jindex +=1\n",
    "        #         w_iA += w_iA.T #symmetric\n",
    "        energy_orig = energy_ops(ops,w)\n",
    "        prob_sigma_fake = 0.0\n",
    "        prob_sigma_orig = 0.0\n",
    "        s_temp1,s_new = np.copy(ops[:,:n_var]),np.copy(ops[:,:n_var])\n",
    "        for col in range(n_var):\n",
    "            rand = np.random.rand(n_seq)\n",
    "            s_temp = np.copy(ops[:,:n_var])\n",
    "            s_temp[:,col] = np.random.choice([1,-1],size=(n_seq))\n",
    "            prob_flip = 1.0/(1.0+np.exp(energy_orig - energy_ops(operators(s_temp,RBM=0),w)))\n",
    "            rand_choice = prob_flip >= rand # present sigma[col] is less likely\n",
    "            s_temp1[rand_choice,col] = s_temp[rand_choice,col]\n",
    "            s_new[rand_choice,col] = s_temp[rand_choice,col]\n",
    "            prob_sigma_fake += np.mean(log_prob_given(s_temp1,col,w))\n",
    "            s_temp1 = np.copy(ops[:,:n_var])\n",
    "            prob_sigma_orig += np.mean(log_prob_given(s_temp1,col,w))\n",
    "        ops_new = operators(s_new)\n",
    "    return operators(s_temp,RBM=RBM),ops_new,prob_sigma_orig-prob_sigma_fake"
   ]
  },
  {
   "cell_type": "code",
   "execution_count": 30,
   "metadata": {},
   "outputs": [],
   "source": [
    "#s is spins including random configs of hidden spins\n",
    "def eps_machine_rbm_EM(w_true,w,s,eps_scale=.01,max_iter=50,alpha=0.05,RBM=0,W_rep=30):\n",
    "    n_seq,n_var = s.shape\n",
    "    s_temp = np.copy(s)\n",
    "    s_temp[:,n_var-RBM:n_var] = np.random.choice([1,-1],size=(n_seq,RBM))\n",
    "    \n",
    "    ops = operators(s_temp,RBM=RBM)\n",
    "    ops_flip = np.copy(ops)\n",
    "    prob_sig,eigs_list = [],[]\n",
    "    for iterate in range(max_iter):\n",
    "        w_new = np.copy(w)\n",
    "        #         w_new += eps_machine_step(n_seq,w,ops,eps_scale,alpha)\n",
    "        #        if iterate>W_rep: w_new -= (iterate/float(max_iter))*eps_machine_step(n_seq,w,ops_flip,eps_scale,alpha)\n",
    "        \n",
    "        for w_rep in range(int(W_rep)): #more w updates before trying to update the hidden spins\n",
    "            delta_w_new = eps_machine_step(n_seq,w_new,ops,eps_scale,alpha)\n",
    "            if w_rep == 0:\n",
    "                if iterate > 0:\n",
    "                    size_dw_init_prev,size_dw_final_prev = size_dw_init,size_dw\n",
    "                size_dw_init = nplin.norm(delta_w_new)\n",
    "            size_dw = nplin.norm(delta_w_new)\n",
    "            w_new += delta_w_new\n",
    "            #             print(iterate,'w_rep',w_rep,size_dw)\n",
    "        if size_dw/size_dw_init < 0.5: break\n",
    "        #         eps_scale = 0.5*min(1.0,1.0/np.max(np.abs(w)))\n",
    "        #         print('eps',eps_scale)\n",
    "        w = np.copy(w_new)\n",
    "        ops,ops_flip,prob_sigma_orig_fake = tau_update(n_seq,n_var,RBM,ops,w)\n",
    "        prob_sig.append(prob_sigma_orig_fake)\n",
    "        \n",
    "        #            print(iterate,prob_sigma_bef,prob_sigma)\n",
    "        if 1==1:#iterate%(int(max_iter/5))==0:\n",
    "            if RBM>0:\n",
    "                w_iA = (w[-(n_var-RBM)*RBM:].reshape((n_var-RBM,RBM)))\n",
    "                w_ij = w_iA.dot(w_iA.T)\n",
    "                eigs,u = nplin.eigh(w_ij)\n",
    "                wtrue_iA = (w_true[-(n_var-RBM)*RBM:].reshape((n_var-RBM,RBM)))\n",
    "                wtrue_ij = wtrue_iA.dot(wtrue_iA.T)\n",
    "                eigs_true,u = nplin.eigh(wtrue_ij)\n",
    "                #                 print('eps',eps_scale,'iterate',iterate,nplin.norm(eigs-eigs_true))\n",
    "                eigs_list.append(nplin.norm(eigs-eigs_true))\n",
    "                plt.scatter(eigs_true,eigs,alpha=0.4)\n",
    "                if iterate==0: plt.plot(eigs_true,eigs_true,'k-')\n",
    "            else:\n",
    "                #                 print('eps',eps_scale,'iterate',iterate,nplin.norm(w-w_true))\n",
    "                plt.scatter(w_true,w,alpha=0.4)\n",
    "    \n",
    "        if iterate > 0:\n",
    "            if np.sqrt((size_dw-size_dw_final_prev)**2 + (size_dw_init-size_dw_init_prev)**2) < 0.01*size_dw:\n",
    "                print('ending w_rep',w_rep,'iterate',iterate)\n",
    "                break\n",
    "        for ww_rep in range(max(1,int(w_rep/np.sqrt(float(iterate+1))))): #notice how many iterations we're doing!!\n",
    "            delta_w_flip = eps_machine_step(n_seq,w_new,ops_flip,eps_scale,alpha)\n",
    "            w_new -= delta_w_flip\n",
    "            w = w_new\n",
    "\n",
    "    \"\"\"\n",
    "    plt.show()\n",
    "    plt.close()\n",
    "    plt.plot(np.arange(iterate+1),prob_sig,'ro')\n",
    "    plt.show()\n",
    "    plt.close()\n",
    "    if RBM>0:\n",
    "        #         s[:,-RBM:] = ops[:,n_var-RBM:n_var] #this is mixing up the simulated order of the hidden spins!!!\n",
    "        # so need to order correctly to make correct predictions of hidden spins\n",
    "        \n",
    "        \n",
    "        plt.plot(np.arange(iterate+1),eigs_list,'ko')\n",
    "        plt.show()\n",
    "        plt.close()   \n",
    "    \"\"\"\n",
    "    \n",
    "    return w"
   ]
  },
  {
   "cell_type": "code",
   "execution_count": 36,
   "metadata": {},
   "outputs": [],
   "source": [
    "n_var,n_seq = 20,60000\n",
    "np.random.seed(0)\n",
    "RBM0 = 0\n",
    "w_true,seqs,probs,energies = generate_seqs(n_var,n_seq,large=False,num_large=0,RBM=RBM0)"
   ]
  },
  {
   "cell_type": "code",
   "execution_count": 43,
   "metadata": {},
   "outputs": [
    {
     "name": "stdout",
     "output_type": "stream",
     "text": [
      "n_seq  60000\n",
      "eps  0.0408248290463863\n"
     ]
    }
   ],
   "source": [
    "#for n_part in range(5000,60001,10000):\n",
    "n_part = 60000\n",
    "print('n_seq ',n_part)\n",
    "\n",
    "for eps in [10./np.sqrt(float(n_part))]: #np.arange(300./float(n_part),901./float(n_part),300./float(n_part)):#,0.1,0.2]:\n",
    "    print('eps ',eps)\n",
    "    np.random.seed(13)\n",
    "    if RBM0 == 0:\n",
    "        #w_trial = np.zeros(n_var+int((n_var-1)*n_var*0.5)) #-0.5\n",
    "        w_trial = np.random.rand(n_var+int((n_var-1)*n_var*0.5)) - 0.5\n",
    "    else:\n",
    "        w_trial = np.random.rand(n_var+(n_var-RBM0)*RBM0) - 0.5\n",
    "    w_trial = eps_machine_rbm_EM(w_true,w_trial,seqs[:n_part],max_iter=max(6,int(10*np.sqrt(n_part/5000.))),eps_scale=eps,RBM=RBM0)"
   ]
  },
  {
   "cell_type": "code",
   "execution_count": 44,
   "metadata": {},
   "outputs": [
    {
     "data": {
      "text/plain": [
       "<matplotlib.collections.PathCollection at 0x7ff84959b470>"
      ]
     },
     "execution_count": 44,
     "metadata": {},
     "output_type": "execute_result"
    },
    {
     "data": {
      "image/png": "[encoded data removed]",
      "text/plain": [
       "<Figure size 432x288 with 1 Axes>"
      ]
     },
     "metadata": {
      "needs_background": "light"
     },
     "output_type": "display_data"
    }
   ],
   "source": [
    "plt.scatter(w_true,w_trial)"
   ]
  },
  {
   "cell_type": "code",
   "execution_count": 34,
   "metadata": {},
   "outputs": [
    {
     "data": {
      "text/plain": [
       "(120,)"
      ]
     },
     "execution_count": 34,
     "metadata": {},
     "output_type": "execute_result"
    }
   ],
   "source": [
    "w_true.shape"
   ]
  },
  {
   "cell_type": "code",
   "execution_count": 35,
   "metadata": {},
   "outputs": [
    {
     "data": {
      "text/plain": [
       "<matplotlib.collections.PathCollection at 0x7ff849661128>"
      ]
     },
     "execution_count": 35,
     "metadata": {},
     "output_type": "execute_result"
    },
    {
     "data": {
      "image/png": "[encoded data removed]",
      "text/plain": [
       "<Figure size 432x288 with 1 Axes>"
      ]
     },
     "metadata": {
      "needs_background": "light"
     },
     "output_type": "display_data"
    }
   ],
   "source": [
    "plt.scatter(w_true[:20],w_trial[:20])"
   ]
  },
  {
   "cell_type": "code",
   "execution_count": null,
   "metadata": {},
   "outputs": [],
   "source": []
  }
 ],
 "metadata": {
  "kernelspec": {
   "display_name": "Python 3",
   "language": "python",
   "name": "python3"
  },
  "language_info": {
   "codemirror_mode": {
    "name": "ipython",
    "version": 3
   },
   "file_extension": ".py",
   "mimetype": "text/x-python",
   "name": "python",
   "nbconvert_exporter": "python",
   "pygments_lexer": "ipython3",
   "version": "3.7.3"
  }
 },
 "nbformat": 4,
 "nbformat_minor": 2
}
